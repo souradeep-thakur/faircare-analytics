{
 "cells": [
  {
   "cell_type": "markdown",
   "id": "5af16133",
   "metadata": {},
   "source": [
    "# k-NN Classification"
   ]
  },
  {
   "cell_type": "code",
   "execution_count": 26,
   "id": "85099ca8",
   "metadata": {},
   "outputs": [],
   "source": [
    "import pandas as pd\n",
    "import numpy as np\n",
    "import matplotlib.pyplot as plt\n",
    "import seaborn as sns\n",
    "\n",
    "sns.set_style(\"whitegrid\")"
   ]
  },
  {
   "cell_type": "code",
   "execution_count": 5,
   "id": "42388e22",
   "metadata": {},
   "outputs": [
    {
     "data": {
      "text/html": [
       "<div>\n",
       "<style scoped>\n",
       "    .dataframe tbody tr th:only-of-type {\n",
       "        vertical-align: middle;\n",
       "    }\n",
       "\n",
       "    .dataframe tbody tr th {\n",
       "        vertical-align: top;\n",
       "    }\n",
       "\n",
       "    .dataframe thead th {\n",
       "        text-align: right;\n",
       "    }\n",
       "</style>\n",
       "<table border=\"1\" class=\"dataframe\">\n",
       "  <thead>\n",
       "    <tr style=\"text-align: right;\">\n",
       "      <th></th>\n",
       "      <th>race</th>\n",
       "      <th>age</th>\n",
       "      <th>time_in_hospital</th>\n",
       "      <th>num_lab_procedures</th>\n",
       "      <th>num_procedures</th>\n",
       "      <th>num_medications</th>\n",
       "      <th>number_outpatient</th>\n",
       "      <th>number_emergency</th>\n",
       "      <th>number_inpatient</th>\n",
       "      <th>number_diagnoses</th>\n",
       "      <th>...</th>\n",
       "      <th>pt_admission_source_2_ct</th>\n",
       "      <th>pt_admission_source_3_ct</th>\n",
       "      <th>pt_time_tot</th>\n",
       "      <th>pt_lab_procedure_tot</th>\n",
       "      <th>pt_procedure_tot</th>\n",
       "      <th>pt_med_tot</th>\n",
       "      <th>pt_outp_tot</th>\n",
       "      <th>pt_inp_tot</th>\n",
       "      <th>pt_ER_tot</th>\n",
       "      <th>pt_diag_tot</th>\n",
       "    </tr>\n",
       "  </thead>\n",
       "  <tbody>\n",
       "    <tr>\n",
       "      <th>0</th>\n",
       "      <td>Caucasian</td>\n",
       "      <td>0</td>\n",
       "      <td>1</td>\n",
       "      <td>41</td>\n",
       "      <td>0</td>\n",
       "      <td>1</td>\n",
       "      <td>0</td>\n",
       "      <td>0</td>\n",
       "      <td>0</td>\n",
       "      <td>1</td>\n",
       "      <td>...</td>\n",
       "      <td>0</td>\n",
       "      <td>0</td>\n",
       "      <td>1</td>\n",
       "      <td>41</td>\n",
       "      <td>0</td>\n",
       "      <td>1</td>\n",
       "      <td>0</td>\n",
       "      <td>0</td>\n",
       "      <td>0</td>\n",
       "      <td>1</td>\n",
       "    </tr>\n",
       "    <tr>\n",
       "      <th>1</th>\n",
       "      <td>Caucasian</td>\n",
       "      <td>1</td>\n",
       "      <td>3</td>\n",
       "      <td>59</td>\n",
       "      <td>0</td>\n",
       "      <td>18</td>\n",
       "      <td>0</td>\n",
       "      <td>0</td>\n",
       "      <td>0</td>\n",
       "      <td>9</td>\n",
       "      <td>...</td>\n",
       "      <td>0</td>\n",
       "      <td>0</td>\n",
       "      <td>3</td>\n",
       "      <td>59</td>\n",
       "      <td>0</td>\n",
       "      <td>18</td>\n",
       "      <td>0</td>\n",
       "      <td>0</td>\n",
       "      <td>0</td>\n",
       "      <td>9</td>\n",
       "    </tr>\n",
       "    <tr>\n",
       "      <th>2</th>\n",
       "      <td>AfricanAmerican</td>\n",
       "      <td>2</td>\n",
       "      <td>2</td>\n",
       "      <td>11</td>\n",
       "      <td>5</td>\n",
       "      <td>13</td>\n",
       "      <td>2</td>\n",
       "      <td>0</td>\n",
       "      <td>1</td>\n",
       "      <td>6</td>\n",
       "      <td>...</td>\n",
       "      <td>0</td>\n",
       "      <td>0</td>\n",
       "      <td>2</td>\n",
       "      <td>11</td>\n",
       "      <td>5</td>\n",
       "      <td>13</td>\n",
       "      <td>2</td>\n",
       "      <td>1</td>\n",
       "      <td>0</td>\n",
       "      <td>6</td>\n",
       "    </tr>\n",
       "    <tr>\n",
       "      <th>3</th>\n",
       "      <td>Caucasian</td>\n",
       "      <td>3</td>\n",
       "      <td>2</td>\n",
       "      <td>44</td>\n",
       "      <td>1</td>\n",
       "      <td>16</td>\n",
       "      <td>0</td>\n",
       "      <td>0</td>\n",
       "      <td>0</td>\n",
       "      <td>7</td>\n",
       "      <td>...</td>\n",
       "      <td>0</td>\n",
       "      <td>0</td>\n",
       "      <td>2</td>\n",
       "      <td>44</td>\n",
       "      <td>1</td>\n",
       "      <td>16</td>\n",
       "      <td>0</td>\n",
       "      <td>0</td>\n",
       "      <td>0</td>\n",
       "      <td>7</td>\n",
       "    </tr>\n",
       "    <tr>\n",
       "      <th>4</th>\n",
       "      <td>Caucasian</td>\n",
       "      <td>4</td>\n",
       "      <td>1</td>\n",
       "      <td>51</td>\n",
       "      <td>0</td>\n",
       "      <td>8</td>\n",
       "      <td>0</td>\n",
       "      <td>0</td>\n",
       "      <td>0</td>\n",
       "      <td>5</td>\n",
       "      <td>...</td>\n",
       "      <td>0</td>\n",
       "      <td>0</td>\n",
       "      <td>1</td>\n",
       "      <td>51</td>\n",
       "      <td>0</td>\n",
       "      <td>8</td>\n",
       "      <td>0</td>\n",
       "      <td>0</td>\n",
       "      <td>0</td>\n",
       "      <td>5</td>\n",
       "    </tr>\n",
       "  </tbody>\n",
       "</table>\n",
       "<p>5 rows × 90 columns</p>\n",
       "</div>"
      ],
      "text/plain": [
       "              race  age  time_in_hospital  num_lab_procedures  num_procedures  \\\n",
       "0        Caucasian    0                 1                  41               0   \n",
       "1        Caucasian    1                 3                  59               0   \n",
       "2  AfricanAmerican    2                 2                  11               5   \n",
       "3        Caucasian    3                 2                  44               1   \n",
       "4        Caucasian    4                 1                  51               0   \n",
       "\n",
       "   num_medications  number_outpatient  number_emergency  number_inpatient  \\\n",
       "0                1                  0                 0                 0   \n",
       "1               18                  0                 0                 0   \n",
       "2               13                  2                 0                 1   \n",
       "3               16                  0                 0                 0   \n",
       "4                8                  0                 0                 0   \n",
       "\n",
       "   number_diagnoses  ...  pt_admission_source_2_ct  pt_admission_source_3_ct  \\\n",
       "0                 1  ...                         0                         0   \n",
       "1                 9  ...                         0                         0   \n",
       "2                 6  ...                         0                         0   \n",
       "3                 7  ...                         0                         0   \n",
       "4                 5  ...                         0                         0   \n",
       "\n",
       "   pt_time_tot  pt_lab_procedure_tot  pt_procedure_tot  pt_med_tot  \\\n",
       "0            1                    41                 0           1   \n",
       "1            3                    59                 0          18   \n",
       "2            2                    11                 5          13   \n",
       "3            2                    44                 1          16   \n",
       "4            1                    51                 0           8   \n",
       "\n",
       "   pt_outp_tot  pt_inp_tot  pt_ER_tot  pt_diag_tot  \n",
       "0            0           0          0            1  \n",
       "1            0           0          0            9  \n",
       "2            2           1          0            6  \n",
       "3            0           0          0            7  \n",
       "4            0           0          0            5  \n",
       "\n",
       "[5 rows x 90 columns]"
      ]
     },
     "execution_count": 5,
     "metadata": {},
     "output_type": "execute_result"
    }
   ],
   "source": [
    "# Read in processed data\n",
    "df = pd.read_csv('./data/data_processed.csv')\n",
    "df.head()"
   ]
  },
  {
   "cell_type": "code",
   "execution_count": 6,
   "id": "20ec76cc",
   "metadata": {},
   "outputs": [
    {
     "name": "stdout",
     "output_type": "stream",
     "text": [
      "0         NO\n",
      "1        >30\n",
      "2         NO\n",
      "3         NO\n",
      "4         NO\n",
      "        ... \n",
      "97103    >30\n",
      "97104     NO\n",
      "97105     NO\n",
      "97106     NO\n",
      "97107     NO\n",
      "Name: readmitted, Length: 97108, dtype: object\n",
      "readmitted is column number  20\n"
     ]
    }
   ],
   "source": [
    "# Check the target column\n",
    "print(df['readmitted'])\n",
    "print('readmitted is column number ', df.columns.get_loc('readmitted'))"
   ]
  },
  {
   "cell_type": "markdown",
   "id": "2bad5258",
   "metadata": {},
   "source": [
    "Our initial goal was to predict for 30 day hospital readmissions, so we combine the values 'NO' and '>30' in the column 'readmitted' and relabel the value with the integer 0.\n",
    "This is because there is no readmission for the patient in less than 30 days.\n",
    "\n",
    "The value '<30' has been relabeled with the integer 1."
   ]
  },
  {
   "cell_type": "code",
   "execution_count": 7,
   "id": "7cd8ec13",
   "metadata": {},
   "outputs": [
    {
     "name": "stdout",
     "output_type": "stream",
     "text": [
      "int64\n"
     ]
    }
   ],
   "source": [
    "df.loc[(df['readmitted'] == 'NO') | (df['readmitted'] == '>30'), 'readmitted'] = int(0)\n",
    "#df.loc[df['readmitted'] == '>30', 'readmitted'] = int(0)\n",
    "df.loc[(df['readmitted'] == '<30'), 'readmitted'] = int(1)\n",
    "\n",
    "# Make sure column values are integers, necessary for classification algorithms later\n",
    "df['readmitted'] = df['readmitted'].astype('int')\n",
    "print(df['readmitted'].dtype)"
   ]
  },
  {
   "cell_type": "code",
   "execution_count": 8,
   "id": "444e5f47",
   "metadata": {},
   "outputs": [
    {
     "data": {
      "text/plain": [
       "Index(['race', 'age', 'time_in_hospital', 'num_lab_procedures',\n",
       "       'num_procedures', 'num_medications', 'number_outpatient',\n",
       "       'number_emergency', 'number_inpatient', 'number_diagnoses',\n",
       "       'max_glu_serum', 'A1Cresult', 'metformin', 'glimepiride', 'glipizide',\n",
       "       'glyburide', 'pioglitazone', 'rosiglitazone', 'insulin', 'diabetesMed',\n",
       "       'readmitted', 'admission_urg_ind', 'admission_nurg_ind',\n",
       "       'admission_none_ind', 'discharge_shortterm_ind',\n",
       "       'discharge_longterm_ind', 'discharge_none_ind', 'admission_source_1',\n",
       "       'admission_source_2', 'admission_source_3', 'caucasian_ind',\n",
       "       'africanamerican_ind', 'hispanic_ind', 'asian_ind', 'otherrace_ind',\n",
       "       'female_ind', 'male_ind', 'readmit_diag_1', 'readmit_diag_2',\n",
       "       'readmit_diag_3', 'readmit_diag_4', 'readmit_diag_5', 'readmit_diag_6',\n",
       "       'readmit_diag_7', 'readmit_diag_8', 'readmit_diag_9', 'readmit_diag_10',\n",
       "       'readmit_diag_11', 'readmit_diag_12', 'readmit_diag_13',\n",
       "       'pt_risk_diag_ct', 'pt_diag_ct', 'd_external_index',\n",
       "       'd_supplementary_index', 'd_infect_ind', 'd_neoplasm_ind',\n",
       "       'd_endocrine_ind', 'd_blood_ind', 'd_mental_ind', 'd_nervous_ind',\n",
       "       'd_circulatory_ind', 'd_respiratory_ind', 'd_digestive_ind',\n",
       "       'd_genitourinary_ind', 'd_pegnancy_ind', 'd_skin_ind', 'd_musculo_ind',\n",
       "       'd_congenital_ind', 'd_perinatal_ind', 'd_symptoms_ind', 'd_injury_ind',\n",
       "       'dia_med_change_ind', 'dia_med_nochange_ind', 'pt_admission_urg_ct',\n",
       "       'admission_nurg_ct', 'admission_none_ct', 'pt_discharge_shortterm_ct',\n",
       "       'pt_discharge_longterm_ct', 'pt_discharge_none_ct',\n",
       "       'pt_admission_source_1_ct', 'pt_admission_source_2_ct',\n",
       "       'pt_admission_source_3_ct', 'pt_time_tot', 'pt_lab_procedure_tot',\n",
       "       'pt_procedure_tot', 'pt_med_tot', 'pt_outp_tot', 'pt_inp_tot',\n",
       "       'pt_ER_tot', 'pt_diag_tot'],\n",
       "      dtype='object')"
      ]
     },
     "execution_count": 8,
     "metadata": {},
     "output_type": "execute_result"
    }
   ],
   "source": [
    "# List all columns in dataset\n",
    "df.columns "
   ]
  },
  {
   "cell_type": "code",
   "execution_count": 9,
   "id": "9a650959",
   "metadata": {},
   "outputs": [],
   "source": [
    "#EDIT THIS CELL TO AUTO REMOVE race AND readmitted FROM THIS LIST\n",
    "# Single out which columns will be usede to predict readmit rate\n",
    "features = ['age', 'time_in_hospital', 'num_lab_procedures',\n",
    "       'num_procedures', 'num_medications', 'number_outpatient',\n",
    "       'number_emergency', 'number_inpatient', 'number_diagnoses',\n",
    "       'max_glu_serum', 'A1Cresult', 'metformin', 'glimepiride', 'glipizide',\n",
    "       'glyburide', 'pioglitazone', 'rosiglitazone', 'insulin', 'diabetesMed',\n",
    "       'admission_urg_ind', 'admission_nurg_ind',\n",
    "       'admission_none_ind', 'discharge_shortterm_ind',\n",
    "       'discharge_longterm_ind', 'discharge_none_ind', 'admission_source_1',\n",
    "       'admission_source_2', 'admission_source_3', 'caucasian_ind',\n",
    "       'africanamerican_ind', 'hispanic_ind', 'asian_ind', 'otherrace_ind',\n",
    "       'female_ind', 'male_ind', 'readmit_diag_1', 'readmit_diag_2',\n",
    "       'readmit_diag_3', 'readmit_diag_4', 'readmit_diag_5', 'readmit_diag_6',\n",
    "       'readmit_diag_7', 'readmit_diag_8', 'readmit_diag_9', 'readmit_diag_10',\n",
    "       'readmit_diag_11', 'readmit_diag_12', 'readmit_diag_13',\n",
    "       'pt_risk_diag_ct', 'pt_diag_ct', 'd_external_index',\n",
    "       'd_supplementary_index', 'd_infect_ind', 'd_neoplasm_ind',\n",
    "       'd_endocrine_ind', 'd_blood_ind', 'd_mental_ind', 'd_nervous_ind',\n",
    "       'd_circulatory_ind', 'd_respiratory_ind', 'd_digestive_ind',\n",
    "       'd_genitourinary_ind', 'd_pegnancy_ind', 'd_skin_ind', 'd_musculo_ind',\n",
    "       'd_congenital_ind', 'd_perinatal_ind', 'd_symptoms_ind', 'd_injury_ind',\n",
    "       'dia_med_change_ind', 'dia_med_nochange_ind', 'pt_admission_urg_ct',\n",
    "       'admission_nurg_ct', 'admission_none_ct', 'pt_discharge_shortterm_ct',\n",
    "       'pt_discharge_longterm_ct', 'pt_discharge_none_ct',\n",
    "       'pt_admission_source_1_ct', 'pt_admission_source_2_ct',\n",
    "       'pt_admission_source_3_ct', 'pt_time_tot', 'pt_lab_procedure_tot',\n",
    "       'pt_procedure_tot', 'pt_med_tot', 'pt_outp_tot', 'pt_inp_tot',\n",
    "       'pt_ER_tot', 'pt_diag_tot']\n"
   ]
  },
  {
   "cell_type": "code",
   "execution_count": 10,
   "id": "cf11dce0",
   "metadata": {},
   "outputs": [],
   "source": [
    "from sklearn.model_selection import train_test_split\n",
    "\n",
    "#Creating an additional column to stratify over 2 variables\n",
    "df['strat_col'] = df['race'].astype(str) + \"_\" + df['readmitted'].astype(str)\n",
    "train, test = train_test_split(df, test_size=.2, stratify=df['strat_col'], random_state=42)\n",
    "train = train.drop(columns=['race','strat_col'])\n",
    "test = test.drop(columns=['race','strat_col'])"
   ]
  },
  {
   "cell_type": "markdown",
   "id": "5f259a51",
   "metadata": {},
   "source": [
    "We first use knn classification. On the training data, we perform a 5-fold split, and compute the accuracy and confusion matrices for the model at each split.\n",
    "\n",
    "We need to find the optimum k value."
   ]
  },
  {
   "cell_type": "code",
   "execution_count": 20,
   "id": "147b48f4",
   "metadata": {},
   "outputs": [],
   "source": [
    "from sklearn.model_selection import KFold\n",
    "\n",
    "from sklearn.metrics import accuracy_score,roc_auc_score, roc_curve, auc\n",
    "from sklearn.metrics import confusion_matrix, classification_report, mean_squared_error\n",
    "\n",
    "from sklearn.neighbors import KNeighborsClassifier\n",
    "from sklearn.preprocessing import StandardScaler, MinMaxScaler, OneHotEncoder\n",
    "from sklearn.pipeline import Pipeline"
   ]
  },
  {
   "cell_type": "code",
   "execution_count": 13,
   "id": "c4433bb0",
   "metadata": {},
   "outputs": [
    {
     "name": "stdout",
     "output_type": "stream",
     "text": [
      "When the knn parameter k is  5 , the average accuracy among the splits is  0.5984772561853666\n",
      "When the knn parameter k is  7 , the average accuracy among the splits is  0.6202350298488688\n",
      "When the knn parameter k is  9 , the average accuracy among the splits is  0.6289977883136776\n",
      "When the knn parameter k is  11 , the average accuracy among the splits is  0.6421162117134507\n",
      "When the knn parameter k is  13 , the average accuracy among the splits is  0.6427438954607904\n",
      "When the knn parameter k is  15 , the average accuracy among the splits is  0.6494824300277882\n",
      "When the knn parameter k is  17 , the average accuracy among the splits is  0.6508023970095594\n",
      "When the knn parameter k is  19 , the average accuracy among the splits is  0.6557948075226652\n",
      "When the knn parameter k is  21 , the average accuracy among the splits is  0.6641793572723759\n",
      "When the knn parameter k is  23 , the average accuracy among the splits is  0.6598136768200843\n",
      "When the knn parameter k is  25 , the average accuracy among the splits is  0.6688055200756342\n",
      "When the knn parameter k is  27 , the average accuracy among the splits is  0.6686870857332925\n",
      "When the knn parameter k is  29 , the average accuracy among the splits is  0.6732335437404808\n",
      "When the knn parameter k is  31 , the average accuracy among the splits is  0.6718385977043482\n",
      "When the knn parameter k is  33 , the average accuracy among the splits is  0.6744627430523358\n",
      "When the knn parameter k is  35 , the average accuracy among the splits is  0.6771870245998932\n",
      "When the knn parameter k is  37 , the average accuracy among the splits is  0.6767475794870481\n",
      "When the knn parameter k is  39 , the average accuracy among the splits is  0.6758141845994161\n",
      "When the knn parameter k is  41 , the average accuracy among the splits is  0.6778623311502605\n",
      "When the knn parameter k is  43 , the average accuracy among the splits is  0.6805674070916606\n",
      "When the knn parameter k is  45 , the average accuracy among the splits is  0.6806008374555872\n",
      "When the knn parameter k is  47 , the average accuracy among the splits is  0.6825390882233091\n",
      "When the knn parameter k is  49 , the average accuracy among the splits is  0.6804293236260688\n",
      "When the knn parameter k is  51 , the average accuracy among the splits is  0.6845510733080792\n",
      "When the knn parameter k is  53 , the average accuracy among the splits is  0.6828283427080286\n",
      "CPU times: total: 46min 46s\n",
      "Wall time: 3min 56s\n"
     ]
    }
   ],
   "source": [
    "%%time\n",
    "\n",
    "n_splits = 2\n",
    "kfold = KFold(n_splits, shuffle = True)\n",
    "\n",
    "#Consider odd k values for binary classification\n",
    "ave_auc = {k:[] for k in range(5,54,2)}\n",
    "\n",
    "for k in range(5,54,2):\n",
    "    \n",
    "    pipe = Pipeline([('scale', StandardScaler()), ('knn', KNeighborsClassifier(k))])\n",
    "    aucs = [] #Holds auc score of model at each split, to be averaged later\n",
    "\n",
    "    for s_train, s_test in kfold.split(train):\n",
    "\n",
    "        train_features = train.iloc[s_train][features]\n",
    "        test_features = train.iloc[s_test][features]\n",
    "\n",
    "        train_target = train.iloc[s_train]['readmitted']\n",
    "        test_target = train.iloc[s_test]['readmitted']\n",
    "\n",
    "        pipe.fit(train_features, train_target)\n",
    "\n",
    "        probs = pipe.predict_proba(test_features)\n",
    "        y_pred = pipe.predict(test_features)\n",
    "\n",
    "        false_pos_rate, true_pos_rate, threshold = roc_curve(test_target, probs[:,1])\n",
    "        auc_scr = auc(false_pos_rate,true_pos_rate)\n",
    "        \n",
    "        aucs.append(auc_scr)\n",
    "\n",
    "    ave_auc[k].append(sum(aucs)/len(aucs))\n",
    "   \n",
    "\n",
    "for k in ave_auc:\n",
    "    print('When the knn parameter k is ', k, ', the average accuracy among the splits is ', ave_auc[k][0])\n"
   ]
  },
  {
   "cell_type": "code",
   "execution_count": 14,
   "id": "856fbe7b",
   "metadata": {},
   "outputs": [
    {
     "data": {
      "image/png": "[encoded data removed]",
      "text/plain": [
       "<Figure size 640x480 with 1 Axes>"
      ]
     },
     "metadata": {},
     "output_type": "display_data"
    }
   ],
   "source": [
    "k_values = [n for n in range(5,52,2)]\n",
    "aucs_plt = [ave_auc[n][0] for n in range(5,52,2)]\n",
    "plt.scatter(k_values, aucs_plt)\n",
    "plt.xlabel('k-value of knn classification')\n",
    "plt.ylabel('Average AUC score amoung 5 kfold splits')\n",
    "plt.show()"
   ]
  },
  {
   "cell_type": "code",
   "execution_count": 28,
   "id": "153bd47d",
   "metadata": {},
   "outputs": [
    {
     "name": "stdout",
     "output_type": "stream",
     "text": [
      "The accuracy of split  0  is  0.8859570086240185  AUC score is  0.6079295750437517\n",
      "The accuracy of split  1  is  0.884018793846946  AUC score is  0.6017029596235979\n",
      "The accuracy of split  2  is  0.8861427560018021  AUC score is  0.6025660723937\n",
      "The accuracy of split  3  is  0.8844049687841926  AUC score is  0.6135577126360529\n",
      "The accuracy of split  4  is  0.8867863808972131  AUC score is  0.6028099511044696\n"
     ]
    }
   ],
   "source": [
    "n_splits = 5\n",
    "current_split = 0\n",
    "metrics={n:[] for n in range(0,n_splits)}\n",
    "\n",
    "pipe = Pipeline([('scale', MinMaxScaler()), ('knn', KNeighborsClassifier(53))]) #choosing k=53 \n",
    "pipe_fin = pipe\n",
    "auc_scr_old = 0\n",
    "\n",
    "kfold = KFold(n_splits, shuffle = True, random_state=42)\n",
    "\n",
    "for s_train, s_test in kfold.split(train):\n",
    "\n",
    "    train_features = train.iloc[s_train][features]\n",
    "    test_features = train.iloc[s_test][features]\n",
    "\n",
    "    train_target = train.iloc[s_train]['readmitted']\n",
    "    test_target = train.iloc[s_test]['readmitted']\n",
    "\n",
    "    pipe.fit(train_features,train_target)\n",
    "    metrics[current_split].append(accuracy_score(pipe.predict(test_features), test_target))\n",
    "    metrics[current_split].append(confusion_matrix(pipe.predict(test_features), test_target))\n",
    "\n",
    "    probs = pipe.predict_proba(test_features)\n",
    "    y_pred = pipe.predict(test_features)\n",
    "\n",
    "    false_pos_rate, true_pos_rate, threshold = roc_curve(test_target, probs[:,1])\n",
    "    auc_scr = auc(false_pos_rate,true_pos_rate)\n",
    "    metrics[current_split].append(auc_scr)\n",
    "\n",
    "    if auc_scr > auc_scr_old:\n",
    "        pipe_fin = pipe\n",
    "        auc_scr_old = auc_scr\n",
    "\n",
    "    current_split += 1\n",
    "\n",
    "for k in range(0,5):\n",
    "    print('The accuracy of split ', k, ' is ', metrics[k][0], ' AUC score is ', metrics[k][2])\n"
   ]
  },
  {
   "cell_type": "markdown",
   "id": "415c5057",
   "metadata": {},
   "source": [
    "From the results, it seems unlikey accuracy can be imporved beyond about 88% just by varying the hyperparametter."
   ]
  },
  {
   "cell_type": "code",
   "execution_count": 29,
   "id": "a01d0145",
   "metadata": {},
   "outputs": [],
   "source": [
    "probs = pipe_fin.predict_proba(test[features])\n",
    "y_pred = (probs[:, 1]>=0.5)"
   ]
  },
  {
   "cell_type": "code",
   "execution_count": 30,
   "id": "f8d4f38d",
   "metadata": {},
   "outputs": [
    {
     "name": "stdout",
     "output_type": "stream",
     "text": [
      "Confusion Matrix:\n",
      "[[17194     3]\n",
      " [ 2220     5]]\n",
      "\n",
      "Classification Report:\n",
      "              precision    recall  f1-score   support\n",
      "\n",
      "           0       0.89      1.00      0.94     17197\n",
      "           1       0.62      0.00      0.00      2225\n",
      "\n",
      "    accuracy                           0.89     19422\n",
      "   macro avg       0.76      0.50      0.47     19422\n",
      "weighted avg       0.86      0.89      0.83     19422\n",
      "\n",
      "Mean squared error =  0.1144578313253012\n",
      "Accuracy =  0.8855421686746988\n",
      "ROC AUC score =  0.6115986391668784\n"
     ]
    },
    {
     "data": {
      "image/png": "[encoded data removed]",
      "text/plain": [
       "<Figure size 600x500 with 1 Axes>"
      ]
     },
     "metadata": {},
     "output_type": "display_data"
    }
   ],
   "source": [
    "# --- Evaluate Model ---\n",
    "#y_pred = model.predict(X_test)\n",
    "y_test = test['readmitted']\n",
    "mse = mean_squared_error(y_test, y_pred)\n",
    "acc = accuracy_score(y_test, y_pred)\n",
    "false_pos_rate, true_pos_rate, thresholds = roc_curve(y_test, probs[:,1])\n",
    "roc_auc = auc(false_pos_rate, true_pos_rate)\n",
    "\n",
    "roc_data = pd.DataFrame({'X': false_pos_rate.tolist(), 'Y': true_pos_rate.tolist()})\n",
    "roc_data.to_csv('./figs/plot_data/roc_curve_kNN.csv', index=False)\n",
    "    \n",
    "\n",
    "print(\"Confusion Matrix:\")\n",
    "print(confusion_matrix(y_test, y_pred))\n",
    "print(\"\\nClassification Report:\")\n",
    "print(classification_report(y_test, y_pred))\n",
    "print(\"Mean squared error = \",mse)\n",
    "print(\"Accuracy = \",acc)\n",
    "print(\"ROC AUC score = \",roc_auc)\n",
    "\n",
    "plt.figure(figsize = (6,5))\n",
    "plt.plot([0,1], [0,1], '--', lw=1)\n",
    "plt.plot(false_pos_rate, true_pos_rate)\n",
    "plt.xlabel('False positive rate', fontsize=13)\n",
    "plt.ylabel('True positive rate', fontsize=13)\n",
    "plt.title('k-Nearest Neighbors')\n",
    "plt.show()"
   ]
  },
  {
   "cell_type": "code",
   "execution_count": 31,
   "id": "0b171ca8",
   "metadata": {},
   "outputs": [
    {
     "data": {
      "image/png": "[encoded data removed]",
      "text/plain": [
       "<Figure size 600x500 with 2 Axes>"
      ]
     },
     "metadata": {},
     "output_type": "display_data"
    },
    {
     "name": "stdout",
     "output_type": "stream",
     "text": [
      "Confusion Matrix:\n",
      " [[17194     3]\n",
      " [ 2220     5]]\n"
     ]
    }
   ],
   "source": [
    "# Compute confusion matrix\n",
    "cm = confusion_matrix(y_test, y_pred)\n",
    "\n",
    "# Plot confusion matrix heatmap\n",
    "plt.figure(figsize=(6, 5))\n",
    "\n",
    "sns.heatmap(cm, annot=True, cmap='crest', fmt='d')\n",
    "plt.xlabel('Predicted')\n",
    "plt.ylabel('Actual')\n",
    "plt.title('Confusion Matrix - k-Nearest Neighbors')\n",
    "\n",
    "plt.savefig('./figs/conf_mat_kNN.png')\n",
    "plt.show()\n",
    "\n",
    "# Print confusion matrix and classification report for detailed metrics\n",
    "print(\"Confusion Matrix:\\n\", cm)\n"
   ]
  },
  {
   "cell_type": "markdown",
   "id": "a994bc9e",
   "metadata": {},
   "source": [
    "Now we use xgboost to classify the readmits. We still use 5 splits in kfold.\n",
    "\n",
    "We measure performance by computing accuracy and confusion matrix. By these metrics, xgboost is very simmilar to knn."
   ]
  },
  {
   "cell_type": "code",
   "execution_count": 40,
   "id": "31681a9d",
   "metadata": {},
   "outputs": [
    {
     "name": "stdout",
     "output_type": "stream",
     "text": [
      "The accuracy of split  0  is  0.8843480499420775  AUC score is  0.8116766634441225\n",
      "The accuracy of split  1  is  0.8809293943489734  AUC score is  0.8150980623942459\n",
      "The accuracy of split  2  is  0.8815730192443844  AUC score is  0.8044257556861388\n",
      "The accuracy of split  3  is  0.8851773186586858  AUC score is  0.8189589798297178\n"
     ]
    }
   ],
   "source": [
    "import xgboost as xgb\n",
    "\n",
    "xgb_class = xgb.XGBClassifier(eval_metric='logloss')\n",
    "\n",
    "n_splits = 5\n",
    "current_split = 0\n",
    "boost_metrics={n:[] for n in range(0,n_splits)}\n",
    "\n",
    "for s_train, s_test in kfold.split(train):\n",
    "\n",
    "    train_features = train.iloc[s_train][features]\n",
    "    test_features = train.iloc[s_test][features]\n",
    "\n",
    "    train_target = train.iloc[s_train]['readmitted']\n",
    "    test_target = train.iloc[s_test]['readmitted']\n",
    "\n",
    "    xgb_class.fit(train_features, train_target)\n",
    "    boost_metrics[current_split].append(accuracy_score(xgb_class.predict(test_features), test_target))\n",
    "    boost_metrics[current_split].append(confusion_matrix(xgb_class.predict(test_features), test_target))\n",
    "    \n",
    "    probs = xgb_class.predict_proba(test_features)\n",
    "    y_pred = (probs[:,1]>=0.5)\n",
    "\n",
    "    false_pos_rate, true_pos_rate, threshold = roc_curve(test_target, probs[:,1])\n",
    "    auc_scr = auc(false_pos_rate,true_pos_rate)\n",
    "    boost_metrics[current_split].append(auc_scr)\n",
    "\n",
    "    current_split += 1\n",
    "\n",
    "    \n",
    "for k in range(0,4):\n",
    "    print('The accuracy of split ', k, ' is ', boost_metrics[k][0], ' AUC score is ', boost_metrics[k][2])\n"
   ]
  },
  {
   "cell_type": "code",
   "execution_count": null,
   "id": "a26ac04a",
   "metadata": {},
   "outputs": [],
   "source": []
  }
 ],
 "metadata": {
  "kernelspec": {
   "display_name": "erdos_summer_2025",
   "language": "python",
   "name": "python3"
  },
  "language_info": {
   "codemirror_mode": {
    "name": "ipython",
    "version": 3
   },
   "file_extension": ".py",
   "mimetype": "text/x-python",
   "name": "python",
   "nbconvert_exporter": "python",
   "pygments_lexer": "ipython3",
   "version": "3.12.10"
  }
 },
 "nbformat": 4,
 "nbformat_minor": 5
}
