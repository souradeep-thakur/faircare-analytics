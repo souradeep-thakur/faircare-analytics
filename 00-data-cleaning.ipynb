{
 "cells": [
  {
   "cell_type": "markdown",
   "id": "f5f1b355",
   "metadata": {},
   "source": [
    "# Data Cleaning"
   ]
  },
  {
   "cell_type": "code",
   "execution_count": 89,
   "id": "ac6a3bd6",
   "metadata": {},
   "outputs": [],
   "source": [
    "# import pandas and math\n",
    "\n",
    "import pandas as pd\n",
    "import math\n",
    "\n",
    "#to remove NaN entries\n",
    "nan = float('nan')\n",
    "\n",
    "#pd.set_option('display.max_rows', None)\n",
    "#pd.set_option('display.max_columns', 100)\n",
    "pd.set_option('display.width', 100)"
   ]
  },
  {
   "cell_type": "code",
   "execution_count": 90,
   "id": "9024afdf",
   "metadata": {},
   "outputs": [
    {
     "name": "stdout",
     "output_type": "stream",
     "text": [
      "Requirement already satisfied: ucimlrepo in c:\\users\\souradeep\\anaconda3\\envs\\erdos_summer_2025\\lib\\site-packages (0.0.7)\n",
      "Requirement already satisfied: pandas>=1.0.0 in c:\\users\\souradeep\\anaconda3\\envs\\erdos_summer_2025\\lib\\site-packages (from ucimlrepo) (2.2.3)\n",
      "Requirement already satisfied: certifi>=2020.12.5 in c:\\users\\souradeep\\anaconda3\\envs\\erdos_summer_2025\\lib\\site-packages (from ucimlrepo) (2025.4.26)\n",
      "Requirement already satisfied: numpy>=1.26.0 in c:\\users\\souradeep\\anaconda3\\envs\\erdos_summer_2025\\lib\\site-packages (from pandas>=1.0.0->ucimlrepo) (2.2.6)\n",
      "Requirement already satisfied: python-dateutil>=2.8.2 in c:\\users\\souradeep\\anaconda3\\envs\\erdos_summer_2025\\lib\\site-packages (from pandas>=1.0.0->ucimlrepo) (2.9.0.post0)\n",
      "Requirement already satisfied: pytz>=2020.1 in c:\\users\\souradeep\\anaconda3\\envs\\erdos_summer_2025\\lib\\site-packages (from pandas>=1.0.0->ucimlrepo) (2025.2)\n",
      "Requirement already satisfied: tzdata>=2022.7 in c:\\users\\souradeep\\anaconda3\\envs\\erdos_summer_2025\\lib\\site-packages (from pandas>=1.0.0->ucimlrepo) (2025.2)\n",
      "Requirement already satisfied: six>=1.5 in c:\\users\\souradeep\\anaconda3\\envs\\erdos_summer_2025\\lib\\site-packages (from python-dateutil>=2.8.2->pandas>=1.0.0->ucimlrepo) (1.17.0)\n",
      "Note: you may need to restart the kernel to use updated packages.\n"
     ]
    }
   ],
   "source": [
    "# install the ucimlrepo\n",
    "%pip install ucimlrepo"
   ]
  },
  {
   "cell_type": "code",
   "execution_count": 91,
   "id": "a03aa4f6",
   "metadata": {},
   "outputs": [
    {
     "name": "stderr",
     "output_type": "stream",
     "text": [
      "c:\\Users\\Souradeep\\anaconda3\\envs\\erdos_summer_2025\\Lib\\site-packages\\ucimlrepo\\fetch.py:97: DtypeWarning: Columns (10) have mixed types. Specify dtype option on import or set low_memory=False.\n",
      "  df = pd.read_csv(data_url)\n"
     ]
    }
   ],
   "source": [
    "from ucimlrepo import fetch_ucirepo \n",
    "  \n",
    "# fetch dataset \n",
    "diabetes_data = fetch_ucirepo(id=296) \n",
    "  \n",
    "# features and ids as pandas DataFrames\n",
    "data_ids = diabetes_data.data.ids\n",
    "data_features = diabetes_data.data.features\n",
    "data_target = diabetes_data.data.targets\n"
   ]
  },
  {
   "cell_type": "code",
   "execution_count": 92,
   "id": "411fac7e",
   "metadata": {},
   "outputs": [
    {
     "name": "stdout",
     "output_type": "stream",
     "text": [
      "Index(['encounter_id', 'patient_nbr', 'race', 'gender', 'age', 'weight', 'admission_type_id',\n",
      "       'discharge_disposition_id', 'admission_source_id', 'time_in_hospital', 'payer_code',\n",
      "       'medical_specialty', 'num_lab_procedures', 'num_procedures', 'num_medications',\n",
      "       'number_outpatient', 'number_emergency', 'number_inpatient', 'diag_1', 'diag_2', 'diag_3',\n",
      "       'number_diagnoses', 'max_glu_serum', 'A1Cresult', 'metformin', 'repaglinide', 'nateglinide',\n",
      "       'chlorpropamide', 'glimepiride', 'acetohexamide', 'glipizide', 'glyburide', 'tolbutamide',\n",
      "       'pioglitazone', 'rosiglitazone', 'acarbose', 'miglitol', 'troglitazone', 'tolazamide',\n",
      "       'examide', 'citoglipton', 'insulin', 'glyburide-metformin', 'glipizide-metformin',\n",
      "       'glimepiride-pioglitazone', 'metformin-rosiglitazone', 'metformin-pioglitazone', 'change',\n",
      "       'diabetesMed', 'readmitted'],\n",
      "      dtype='object') \n",
      "\n",
      "(101766, 50)\n"
     ]
    },
    {
     "name": "stderr",
     "output_type": "stream",
     "text": [
      "C:\\Users\\Souradeep\\AppData\\Local\\Temp\\ipykernel_40460\\2722509630.py:2: SettingWithCopyWarning: \n",
      "A value is trying to be set on a copy of a slice from a DataFrame.\n",
      "Try using .loc[row_indexer,col_indexer] = value instead\n",
      "\n",
      "See the caveats in the documentation: https://pandas.pydata.org/pandas-docs/stable/user_guide/indexing.html#returning-a-view-versus-a-copy\n",
      "  data_ids.loc[:, 'merge_temp'] = data_ids.index\n",
      "C:\\Users\\Souradeep\\AppData\\Local\\Temp\\ipykernel_40460\\2722509630.py:3: SettingWithCopyWarning: \n",
      "A value is trying to be set on a copy of a slice from a DataFrame.\n",
      "Try using .loc[row_indexer,col_indexer] = value instead\n",
      "\n",
      "See the caveats in the documentation: https://pandas.pydata.org/pandas-docs/stable/user_guide/indexing.html#returning-a-view-versus-a-copy\n",
      "  data_features.loc[:, 'merge_temp'] = data_features.index\n",
      "C:\\Users\\Souradeep\\AppData\\Local\\Temp\\ipykernel_40460\\2722509630.py:4: SettingWithCopyWarning: \n",
      "A value is trying to be set on a copy of a slice from a DataFrame.\n",
      "Try using .loc[row_indexer,col_indexer] = value instead\n",
      "\n",
      "See the caveats in the documentation: https://pandas.pydata.org/pandas-docs/stable/user_guide/indexing.html#returning-a-view-versus-a-copy\n",
      "  data_target.loc[:, 'merge_temp'] = data_target.index\n"
     ]
    }
   ],
   "source": [
    "# add a dummy column to merge\n",
    "data_ids.loc[:, 'merge_temp'] = data_ids.index\n",
    "data_features.loc[:, 'merge_temp'] = data_features.index\n",
    "data_target.loc[:, 'merge_temp'] = data_target.index\n",
    "\n",
    "# merge into one DataFrame\n",
    "data_temp = data_ids.merge(data_features, on='merge_temp')\n",
    "\n",
    "data_raw = data_temp.merge(data_target, on='merge_temp')\n",
    "\n",
    "del data_temp\n",
    "\n",
    "data_raw = data_raw.drop(columns = 'merge_temp')\n",
    "\n",
    "print(data_raw.columns, '\\n')\n",
    "\n",
    "print(data_raw.shape)\n"
   ]
  },
  {
   "cell_type": "code",
   "execution_count": 93,
   "id": "2870aaa1",
   "metadata": {},
   "outputs": [
    {
     "name": "stdout",
     "output_type": "stream",
     "text": [
      "(101766, 47)\n"
     ]
    }
   ],
   "source": [
    "# remove missing/unnecesary features\n",
    "dropped_columns = ['weight', 'payer_code', 'medical_specialty']\n",
    "\n",
    "data_raw = data_raw.drop(columns = dropped_columns)\n",
    "\n",
    "print(data_raw.shape)"
   ]
  },
  {
   "cell_type": "code",
   "execution_count": 94,
   "id": "e8ca531e",
   "metadata": {},
   "outputs": [
    {
     "name": "stdout",
     "output_type": "stream",
     "text": [
      "(99493, 47)\n"
     ]
    }
   ],
   "source": [
    "# replace NaNs\n",
    "data_raw = data_raw.replace(nan,-1)\n",
    "\n",
    "# drop data points with missing race\n",
    "data_raw = data_raw.drop(data_raw.loc[data_raw.race == -1].index)\n",
    "\n",
    "# replace missing diagnoses, A1Cresults, and max_glu_serum values with a string\n",
    "data_raw[['diag_1', 'diag_2', 'diag_3','A1Cresult','max_glu_serum']] = data_raw[['diag_1', 'diag_2', 'diag_3','A1Cresult','max_glu_serum']].replace(-1,'No')\n",
    "\n",
    "print(data_raw.shape)"
   ]
  },
  {
   "cell_type": "code",
   "execution_count": 95,
   "id": "65ddf4bc",
   "metadata": {},
   "outputs": [
    {
     "name": "stdout",
     "output_type": "stream",
     "text": [
      "(97109, 47)\n"
     ]
    }
   ],
   "source": [
    "# remove data points for expired patients and patients discharged to hospices\n",
    "# see ./data/IDS_mapping/csv for codes\n",
    "data_raw = data_raw.drop(data_raw.loc[data_raw.discharge_disposition_id.isin([11, #Expired\n",
    "                                                                              13, #Hospice/home\n",
    "                                                                              14, #Hospice/medical facility\n",
    "                                                                              19, #Expired at home. Medicaid only, hospice\n",
    "                                                                              20, #Expired in a medical facility. Medicaid only, hospice\n",
    "                                                                              21  #Expired, place unknown. Medicaid only, hospice\n",
    "                                                                              ])].index)\n",
    "\n",
    "print(data_raw.shape)"
   ]
  },
  {
   "cell_type": "code",
   "execution_count": 96,
   "id": "de7d1fc7",
   "metadata": {},
   "outputs": [],
   "source": [
    "# write cleaned (no missing values) dataset to file\n",
    "data_raw.to_csv('./data/dataset_clean.csv', index=False)"
   ]
  },
  {
   "cell_type": "code",
   "execution_count": null,
   "id": "b5ea306c",
   "metadata": {},
   "outputs": [],
   "source": []
  }
 ],
 "metadata": {
  "kernelspec": {
   "display_name": "erdos_summer_2025",
   "language": "python",
   "name": "python3"
  },
  "language_info": {
   "codemirror_mode": {
    "name": "ipython",
    "version": 3
   },
   "file_extension": ".py",
   "mimetype": "text/x-python",
   "name": "python",
   "nbconvert_exporter": "python",
   "pygments_lexer": "ipython3",
   "version": "3.12.10"
  }
 },
 "nbformat": 4,
 "nbformat_minor": 5
}
