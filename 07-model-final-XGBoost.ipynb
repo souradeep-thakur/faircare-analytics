{
 "cells": [
  {
   "cell_type": "markdown",
   "id": "3ca9ac46",
   "metadata": {},
   "source": [
    "# Final Calibrated XGBoost"
   ]
  },
  {
   "cell_type": "code",
   "execution_count": 16,
   "id": "93e1493a",
   "metadata": {},
   "outputs": [],
   "source": [
    "import pandas as pd\n",
    "import numpy as np\n",
    "import matplotlib.pyplot as plt\n",
    "import seaborn as sns"
   ]
  },
  {
   "cell_type": "code",
   "execution_count": 47,
   "id": "480bcc83",
   "metadata": {},
   "outputs": [],
   "source": [
    "from sklearn.compose import ColumnTransformer\n",
    "from sklearn.preprocessing import StandardScaler, OneHotEncoder\n",
    "from sklearn.pipeline import Pipeline\n",
    "from sklearn.model_selection import train_test_split, RandomizedSearchCV, GridSearchCV\n",
    "from sklearn.feature_selection import SelectFromModel\n",
    "import xgboost\n",
    "from xgboost.sklearn import XGBClassifier\n",
    "from sklearn.metrics import accuracy_score, roc_curve, roc_auc_score, auc, classification_report, mean_squared_error, confusion_matrix"
   ]
  },
  {
   "cell_type": "code",
   "execution_count": 18,
   "id": "fd3f37aa",
   "metadata": {},
   "outputs": [],
   "source": [
    "data = pd.read_csv('./data/data_processed.csv')\n",
    "\n",
    "data['target'] = data['readmitted'].isin(['<30']).astype(int)\n",
    "\n",
    "data = data.drop(columns='readmitted')"
   ]
  },
  {
   "cell_type": "code",
   "execution_count": 19,
   "id": "b484f8db",
   "metadata": {},
   "outputs": [],
   "source": [
    "X = data.drop(columns = 'target')\n",
    "y = data['target']"
   ]
  },
  {
   "cell_type": "code",
   "execution_count": 63,
   "id": "9a3dd7d9",
   "metadata": {},
   "outputs": [],
   "source": [
    "X['strat_col'] = X['race'].astype(str) + \"_\" + data['target'].astype(str)\n",
    "X_train, X_test, y_train, y_test = train_test_split(X, y, test_size = 0.2, stratify = y, random_state = 42)\n",
    "\n",
    "X_test_copy = X_test.copy(deep = True)\n",
    "\n",
    "X_train = X_train.drop(columns = ['strat_col' , 'race'])\n",
    "X_test = X_test.drop(columns = ['strat_col' , 'race'])"
   ]
  },
  {
   "cell_type": "code",
   "execution_count": 21,
   "id": "45776ca5",
   "metadata": {},
   "outputs": [],
   "source": [
    "def custom_fit(alg, train_x, train_y, cv_folds=5, early_stopping_rounds=50):\n",
    "    \n",
    "    \n",
    "    xgb_parameters = alg.get_xgb_params()\n",
    "    xgb_train = xgboost.DMatrix(train_x.values, label=train_y.values)\n",
    "    cross_val = xgboost.cv(xgb_parameters, xgb_train, num_boost_round=alg.get_params()['n_estimators'], nfold=cv_folds,\n",
    "        metrics='auc', early_stopping_rounds=early_stopping_rounds)\n",
    "    alg.set_params(n_estimators=cross_val.shape[0])\n",
    "    \n",
    "    #fitting the training data\n",
    "    alg.fit(train_x, train_y)\n",
    "        \n",
    "    y_pred = alg.predict(train_x)\n",
    "    y_predprobs = alg.predict_proba(train_x)[:,1]\n",
    "    \n",
    "    print (\"\\nModel Report\")\n",
    "    print (\"Cassification report:\\n\", classification_report(train_y, y_pred))\n",
    "    print (\"Accuracy : \", accuracy_score(train_y, y_pred))\n",
    "    print (\"AUC Score : \" , roc_auc_score(train_y, y_predprobs))\n"
   ]
  },
  {
   "cell_type": "code",
   "execution_count": 22,
   "id": "ec143587",
   "metadata": {},
   "outputs": [
    {
     "name": "stdout",
     "output_type": "stream",
     "text": [
      "\n",
      "Model Report\n",
      "Cassification report:\n",
      "               precision    recall  f1-score   support\n",
      "\n",
      "           0       0.90      1.00      0.94     68785\n",
      "           1       0.82      0.11      0.19      8901\n",
      "\n",
      "    accuracy                           0.89     77686\n",
      "   macro avg       0.86      0.55      0.57     77686\n",
      "weighted avg       0.89      0.89      0.86     77686\n",
      "\n",
      "Accuracy :  0.894974641505548\n",
      "AUC Score :  0.8623467521395098\n"
     ]
    }
   ],
   "source": [
    "#with a reasonable set of parameters (not calibrated)\n",
    "\n",
    "xgb = XGBClassifier(\n",
    " learning_rate=0.1,\n",
    " n_estimators=500,\n",
    " max_depth=5,\n",
    " min_child_weight=3,\n",
    " gamma=0.01,\n",
    " subsample=0.8,\n",
    " colsample_bytree=0.8,\n",
    " objective= 'binary:logistic',\n",
    " n_jobs=-1,\n",
    " scale_pos_weight=1,\n",
    " seed=42)\n",
    "\n",
    "custom_fit(xgb, X_train, y_train)"
   ]
  },
  {
   "cell_type": "markdown",
   "id": "ed0d1b7d",
   "metadata": {},
   "source": [
    "### Using grid search to tune\n",
    "\n",
    "#### First search: `max_depth` and `min_child_weight`"
   ]
  },
  {
   "cell_type": "code",
   "execution_count": 26,
   "id": "1249d431",
   "metadata": {},
   "outputs": [
    {
     "name": "stdout",
     "output_type": "stream",
     "text": [
      "The best parameters are: {'max_depth': 4, 'min_child_weight': 10}\n",
      "Best AUC score =  0.8209767586124028\n",
      "CPU times: total: 5.23 s\n",
      "Wall time: 50.6 s\n"
     ]
    }
   ],
   "source": [
    "%%time\n",
    "best_params_GS = {}\n",
    "\n",
    "param_test_1 = {\n",
    "    'max_depth': range(3, 11, 1),\n",
    "    'min_child_weight': range(1, 11, 1)\n",
    "}\n",
    "gsearch_1 = GridSearchCV(estimator = XGBClassifier(objective= 'binary:logistic', random_state = 42), \n",
    " param_grid = param_test_1, scoring='roc_auc',n_jobs=-1, cv=5)\n",
    "gsearch_1.fit(X_train,y_train)\n",
    "\n",
    "best_params_GS.update(gsearch_1.best_params_)\n",
    "print(\"The best parameters are:\", gsearch_1.best_params_)\n",
    "print(\"Best AUC score = \",gsearch_1.best_score_)"
   ]
  },
  {
   "cell_type": "markdown",
   "id": "4d043b05",
   "metadata": {},
   "source": [
    "#### Second search: `gamma`"
   ]
  },
  {
   "cell_type": "code",
   "execution_count": 29,
   "id": "845baa10",
   "metadata": {},
   "outputs": [
    {
     "name": "stdout",
     "output_type": "stream",
     "text": [
      "The best parameters are: {'gamma': np.float64(1.0)}\n",
      "Best AUC score =  0.8213625653709962\n",
      "CPU times: total: 2.05 s\n",
      "Wall time: 5.43 s\n"
     ]
    }
   ],
   "source": [
    "%%time\n",
    "\n",
    "param_test_2 = {'gamma': np.linspace(0, 1, 10)}\n",
    "\n",
    "gsearch_2 = GridSearchCV(estimator = XGBClassifier(**best_params_GS, objective= 'binary:logistic', random_state = 42), \n",
    " param_grid = param_test_2, scoring='roc_auc',n_jobs=-1, cv=5)\n",
    "gsearch_2.fit(X_train,y_train)\n",
    "\n",
    "best_params_GS.update(gsearch_2.best_params_)\n",
    "print(\"The best parameters are:\", gsearch_2.best_params_)\n",
    "print(\"Best AUC score = \",gsearch_2.best_score_)"
   ]
  },
  {
   "cell_type": "markdown",
   "id": "fa2b9f63",
   "metadata": {},
   "source": [
    "#### Third search: `subsample` and `colsample_bytree`"
   ]
  },
  {
   "cell_type": "code",
   "execution_count": 31,
   "id": "e4e4d8b7",
   "metadata": {},
   "outputs": [
    {
     "name": "stdout",
     "output_type": "stream",
     "text": [
      "The best parameters are: {'colsample_bytree': np.float64(1.0), 'subsample': np.float64(1.0)}\n",
      "Best AUC score =  0.8213625653709962\n",
      "CPU times: total: 5.86 s\n",
      "Wall time: 54 s\n"
     ]
    }
   ],
   "source": [
    "%%time\n",
    "\n",
    "param_test_3 = {\n",
    "    'subsample': np.linspace(0.5, 1, 10),\n",
    "    'colsample_bytree': np.linspace(0.5, 1, 10)\n",
    "}\n",
    "\n",
    "gsearch_3 = GridSearchCV(estimator = XGBClassifier(**best_params_GS, objective= 'binary:logistic', random_state = 42), \n",
    " param_grid = param_test_3, scoring='roc_auc',n_jobs=-1, cv=5)\n",
    "gsearch_3.fit(X_train,y_train)\n",
    "\n",
    "best_params_GS.update(gsearch_3.best_params_)\n",
    "print(\"The best parameters are:\", gsearch_3.best_params_)\n",
    "print(\"Best AUC score = \",gsearch_3.best_score_)"
   ]
  },
  {
   "cell_type": "markdown",
   "id": "83013166",
   "metadata": {},
   "source": [
    "#### Fourth search: `n_estimators` and `learning_rate`"
   ]
  },
  {
   "cell_type": "code",
   "execution_count": 33,
   "id": "80caf724",
   "metadata": {},
   "outputs": [
    {
     "name": "stdout",
     "output_type": "stream",
     "text": [
      "The best parameters are: {'learning_rate': np.float64(0.046415888336127774), 'n_estimators': 400}\n",
      "Best AUC score =  0.8224225664295173\n",
      "CPU times: total: 10.5 s\n",
      "Wall time: 2min 38s\n"
     ]
    }
   ],
   "source": [
    "%%time\n",
    "\n",
    "param_test_4 = {\n",
    "    'n_estimators': range(200, 1000, 100),\n",
    "    'learning_rate': np.logspace(-3,0,10)\n",
    "}\n",
    "\n",
    "gsearch_4 = GridSearchCV(estimator = XGBClassifier(**best_params_GS, objective= 'binary:logistic', random_state = 42), \n",
    " param_grid = param_test_4, scoring='roc_auc',n_jobs=-1, cv=5)\n",
    "gsearch_4.fit(X_train,y_train)\n",
    "\n",
    "best_params_GS.update(gsearch_4.best_params_)\n",
    "print(\"The best parameters are:\", gsearch_4.best_params_)\n",
    "print(\"Best AUC score = \",gsearch_4.best_score_)"
   ]
  },
  {
   "cell_type": "markdown",
   "id": "c29bfabd",
   "metadata": {},
   "source": [
    "#### Final search: `reg_apha` and `reg_lambda`"
   ]
  },
  {
   "cell_type": "code",
   "execution_count": 37,
   "id": "6d9e9d7d",
   "metadata": {},
   "outputs": [
    {
     "name": "stdout",
     "output_type": "stream",
     "text": [
      "The best parameters are: {'reg_alpha': np.float64(4.641588833612772), 'reg_lambda': np.float64(0.002154434690031882)}\n",
      "Best AUC score =  0.8230620007408914\n",
      "CPU times: total: 10.5 s\n",
      "Wall time: 3min 2s\n"
     ]
    }
   ],
   "source": [
    "%%time\n",
    "\n",
    "param_test_5 = {\n",
    "    'reg_alpha': np.logspace(-4,2,10),\n",
    "    'reg_lambda': np.logspace(-4,2,10)\n",
    "}\n",
    "\n",
    "gsearch_5 = GridSearchCV(estimator = XGBClassifier(**best_params_GS, objective= 'binary:logistic', random_state = 42), \n",
    " param_grid = param_test_5, scoring='roc_auc',n_jobs=-1, cv=5)\n",
    "gsearch_5.fit(X_train,y_train)\n",
    "\n",
    "best_params_GS.update(gsearch_5.best_params_)\n",
    "print(\"The best parameters are:\", gsearch_5.best_params_)\n",
    "print(\"Best AUC score = \",gsearch_5.best_score_)"
   ]
  },
  {
   "cell_type": "code",
   "execution_count": 38,
   "id": "58803e37",
   "metadata": {},
   "outputs": [
    {
     "data": {
      "text/plain": [
       "{'max_depth': 4,\n",
       " 'min_child_weight': 10,\n",
       " 'gamma': np.float64(1.0),\n",
       " 'colsample_bytree': np.float64(1.0),\n",
       " 'subsample': np.float64(0.8333333333333333),\n",
       " 'learning_rate': np.float64(0.046415888336127774),\n",
       " 'n_estimators': 400,\n",
       " 'reg_alpha': np.float64(4.641588833612772),\n",
       " 'reg_lambda': np.float64(0.002154434690031882)}"
      ]
     },
     "execution_count": 38,
     "metadata": {},
     "output_type": "execute_result"
    }
   ],
   "source": [
    "#final list of tuned parameters\n",
    "best_params_GS"
   ]
  },
  {
   "cell_type": "markdown",
   "id": "d46ab9dc",
   "metadata": {},
   "source": [
    "### Alternate: Using Random Search"
   ]
  },
  {
   "cell_type": "code",
   "execution_count": 40,
   "id": "36b1c099",
   "metadata": {},
   "outputs": [
    {
     "name": "stdout",
     "output_type": "stream",
     "text": [
      "Fitting 5 folds for each of 50 candidates, totalling 250 fits\n",
      "Best parameters:\n",
      " {'subsample': np.float64(0.8888888888888888), 'reg_lambda': np.float64(0.00046415888336127773), 'reg_alpha': np.float64(4.641588833612772), 'n_estimators': 900, 'min_child_weight': 9, 'max_depth': 5, 'learning_rate': np.float64(0.046415888336127774), 'gamma': np.float64(0.8888888888888888), 'colsample_bytree': np.float64(0.7222222222222222)} \n",
      "\n",
      "Best AUC score =  0.8243338049381268\n",
      "CPU times: total: 10.5 s\n",
      "Wall time: 2min 50s\n"
     ]
    }
   ],
   "source": [
    "%%time\n",
    "\n",
    "parameters = {\n",
    "    'max_depth': range(3, 11, 1),\n",
    "    'min_child_weight': range(1, 11, 1),\n",
    "    'gamma': np.linspace(0, 1, 10),\n",
    "    'subsample': np.linspace(0.5, 1, 10),\n",
    "    'colsample_bytree': np.linspace(0.5, 1, 10),\n",
    "    'n_estimators': range(200, 1000, 100),\n",
    "    'learning_rate': np.logspace(-3,0,10),\n",
    "    'reg_alpha': np.logspace(-4,2,10),\n",
    "    'reg_lambda': np.logspace(-4,2,10)\n",
    "}\n",
    "\n",
    "xgb = XGBClassifier(objective= 'binary:logistic', random_state = 42)\n",
    "\n",
    "random_search = RandomizedSearchCV(estimator = xgb, n_iter = 50,\n",
    "                           param_distributions=parameters,\n",
    "                           scoring = 'roc_auc',\n",
    "                           n_jobs=-1, verbose=1, cv=5)\n",
    "\n",
    "random_search.fit(X_train, y_train)\n",
    "\n",
    "best_params_RS = random_search.best_params_\n",
    "\n",
    "print(\"Best parameters:\\n\",random_search.best_params_,\"\\n\")\n",
    "print(\"Best AUC score = \",random_search.best_score_)"
   ]
  },
  {
   "cell_type": "markdown",
   "id": "b784ea42",
   "metadata": {},
   "source": [
    "In this case, the random search managed to get a better AUC score, so we will stick with the parameters."
   ]
  },
  {
   "cell_type": "code",
   "execution_count": 50,
   "id": "0dcb007a",
   "metadata": {},
   "outputs": [
    {
     "data": {
      "text/plain": [
       "{'subsample': np.float64(0.8888888888888888),\n",
       " 'reg_lambda': np.float64(0.00046415888336127773),\n",
       " 'reg_alpha': np.float64(4.641588833612772),\n",
       " 'n_estimators': 900,\n",
       " 'min_child_weight': 9,\n",
       " 'max_depth': 5,\n",
       " 'learning_rate': np.float64(0.046415888336127774),\n",
       " 'gamma': np.float64(0.8888888888888888),\n",
       " 'colsample_bytree': np.float64(0.7222222222222222)}"
      ]
     },
     "execution_count": 50,
     "metadata": {},
     "output_type": "execute_result"
    }
   ],
   "source": [
    "best_params_RS"
   ]
  },
  {
   "cell_type": "code",
   "execution_count": 58,
   "id": "35730e25",
   "metadata": {},
   "outputs": [],
   "source": [
    "best_params = best_params_RS#best_params_GS"
   ]
  },
  {
   "cell_type": "markdown",
   "id": "a5fb5995",
   "metadata": {},
   "source": [
    "### Final fit and evaluation"
   ]
  },
  {
   "cell_type": "code",
   "execution_count": 59,
   "id": "6c0bc03c",
   "metadata": {},
   "outputs": [
    {
     "name": "stderr",
     "output_type": "stream",
     "text": [
      "c:\\Users\\Souradeep\\anaconda3\\envs\\erdos_summer_2025\\Lib\\site-packages\\xgboost\\core.py:158: UserWarning: [14:04:23] WARNING: D:\\bld\\xgboost-split_1744329010901\\work\\src\\learner.cc:740: \n",
      "Parameters: { \"object\" } are not used.\n",
      "\n",
      "  warnings.warn(smsg, UserWarning)\n",
      "c:\\Users\\Souradeep\\anaconda3\\envs\\erdos_summer_2025\\Lib\\site-packages\\xgboost\\core.py:158: UserWarning: [14:04:43] WARNING: D:\\bld\\xgboost-split_1744329010901\\work\\src\\learner.cc:740: \n",
      "Parameters: { \"object\" } are not used.\n",
      "\n",
      "  warnings.warn(smsg, UserWarning)\n"
     ]
    },
    {
     "name": "stdout",
     "output_type": "stream",
     "text": [
      "\n",
      "Model Report\n",
      "Cassification report:\n",
      "               precision    recall  f1-score   support\n",
      "\n",
      "           0       0.90      1.00      0.94     68785\n",
      "           1       0.82      0.13      0.22      8901\n",
      "\n",
      "    accuracy                           0.90     77686\n",
      "   macro avg       0.86      0.56      0.58     77686\n",
      "weighted avg       0.89      0.90      0.86     77686\n",
      "\n",
      "Accuracy :  0.89660942769611\n",
      "AUC Score :  0.8650291242483927\n"
     ]
    }
   ],
   "source": [
    "xgbCal = XGBClassifier(**best_params, object = 'binary:logistic', random_state=42)\n",
    "\n",
    "custom_fit(xgbCal, X_train, y_train)\n",
    "#xgbCal.get_params()"
   ]
  },
  {
   "cell_type": "code",
   "execution_count": 60,
   "id": "d3eeb5b4",
   "metadata": {},
   "outputs": [],
   "source": [
    "probs = xgbCal.predict_proba(X_test)\n",
    "y_pred = (probs[:, 1]>=0.5)"
   ]
  },
  {
   "cell_type": "code",
   "execution_count": 61,
   "id": "899c7cff",
   "metadata": {},
   "outputs": [
    {
     "name": "stdout",
     "output_type": "stream",
     "text": [
      "Confusion Matrix:\n",
      "[[17075   122]\n",
      " [ 2061   164]]\n",
      "\n",
      "Classification Report:\n",
      "              precision    recall  f1-score   support\n",
      "\n",
      "           0       0.89      0.99      0.94     17197\n",
      "           1       0.57      0.07      0.13      2225\n",
      "\n",
      "    accuracy                           0.89     19422\n",
      "   macro avg       0.73      0.53      0.54     19422\n",
      "weighted avg       0.86      0.89      0.85     19422\n",
      "\n",
      "Mean squared error =  0.11239831119349192\n",
      "Accuracy =  0.8876016888065081\n",
      "ROC AUC score =  0.8206386663992217\n"
     ]
    },
    {
     "data": {
      "image/png": "[encoded data removed]",
      "text/plain": [
       "<Figure size 600x500 with 1 Axes>"
      ]
     },
     "metadata": {},
     "output_type": "display_data"
    }
   ],
   "source": [
    "mse = mean_squared_error(y_test, y_pred)\n",
    "acc = accuracy_score(y_test, y_pred)\n",
    "false_pos_rate, true_pos_rate, thresholds = roc_curve(y_test, probs[:,1])\n",
    "roc_auc = auc(false_pos_rate, true_pos_rate)\n",
    "\n",
    "roc_data = pd.DataFrame({'X': false_pos_rate.tolist(), 'Y': true_pos_rate.tolist()})\n",
    "roc_data.to_csv('./figs/plot_data/roc_curve_xgb.csv', index=False)\n",
    "    \n",
    "\n",
    "print(\"Confusion Matrix:\")\n",
    "print(confusion_matrix(y_test, y_pred))\n",
    "print(\"\\nClassification Report:\")\n",
    "print(classification_report(y_test, y_pred))\n",
    "print(\"Mean squared error = \",mse)\n",
    "print(\"Accuracy = \",acc)\n",
    "print(\"ROC AUC score = \",roc_auc)\n",
    "\n",
    "plt.figure(figsize = (6,5))\n",
    "plt.plot([0,1], [0,1], '--', lw=1)\n",
    "plt.plot(false_pos_rate, true_pos_rate)\n",
    "plt.xlabel('False positive rate', fontsize=13)\n",
    "plt.ylabel('True positive rate', fontsize=13)\n",
    "plt.title('XGBoost')\n",
    "plt.show()"
   ]
  },
  {
   "cell_type": "code",
   "execution_count": 62,
   "id": "27fe9291",
   "metadata": {},
   "outputs": [
    {
     "data": {
      "image/png": "[encoded data removed]",
      "text/plain": [
       "<Figure size 600x500 with 2 Axes>"
      ]
     },
     "metadata": {},
     "output_type": "display_data"
    },
    {
     "name": "stdout",
     "output_type": "stream",
     "text": [
      "Confusion Matrix:\n",
      " [[17075   122]\n",
      " [ 2061   164]]\n"
     ]
    }
   ],
   "source": [
    "# Compute confusion matrix\n",
    "cm = confusion_matrix(y_test, y_pred)\n",
    "\n",
    "# Plot confusion matrix heatmap\n",
    "plt.figure(figsize=(6, 5))\n",
    "\n",
    "sns.heatmap(cm, annot=True, cmap='crest', fmt='d')\n",
    "plt.xlabel('Predicted')\n",
    "plt.ylabel('Actual')\n",
    "plt.title('Confusion Matrix - XGBoost')\n",
    "\n",
    "plt.savefig('./figs/conf_mat_xgb.png')\n",
    "plt.show()\n",
    "\n",
    "# Print confusion matrix and classification report for detailed metrics\n",
    "print(\"Confusion Matrix:\\n\", cm)"
   ]
  },
  {
   "cell_type": "markdown",
   "id": "db16fd18",
   "metadata": {},
   "source": [
    "### Metrics by demographics\n",
    "#### Race"
   ]
  },
  {
   "cell_type": "code",
   "execution_count": 122,
   "id": "6bf58b70",
   "metadata": {},
   "outputs": [],
   "source": [
    "races = X_test_copy.race.unique()\n",
    "hist_race = pd.DataFrame({'race':races})"
   ]
  },
  {
   "cell_type": "code",
   "execution_count": 123,
   "id": "4f6ccf81",
   "metadata": {},
   "outputs": [],
   "source": [
    "for r in races:\n",
    "    test_X = X_test.loc[X_test_copy['race'] == r]\n",
    "    test_y = y_test.loc[X_test_copy['race'] == r]\n",
    "    pred_y = xgbCal.predict(test_X)\n",
    "    pred_probs_y = xgbCal.predict_proba(test_X)\n",
    "\n",
    "    hist_race.loc[hist_race['race']==r,'Accuracy score']= accuracy_score(test_y,pred_y)\n",
    "    hist_race.loc[hist_race['race']==r,'AUC score']= roc_auc_score(test_y,pred_probs_y[:,1])\n",
    "\n",
    "hist_race['Fraction of data'] = X_test_copy['race'].value_counts().values/len(X_test_copy)"
   ]
  },
  {
   "cell_type": "code",
   "execution_count": 161,
   "id": "b3424bea",
   "metadata": {},
   "outputs": [
    {
     "data": {
      "text/plain": [
       "<Figure size 1400x600 with 0 Axes>"
      ]
     },
     "metadata": {},
     "output_type": "display_data"
    },
    {
     "data": {
      "image/png": "[encoded data removed]",
      "text/plain": [
       "<Figure size 640x480 with 1 Axes>"
      ]
     },
     "metadata": {},
     "output_type": "display_data"
    }
   ],
   "source": [
    "plt.figure(figsize=(14,6))\n",
    "palette = sns.color_palette('magma', n_colors=3)\n",
    "ax = hist_race.plot(x='race', y=['Fraction of data','AUC score','Accuracy score'], kind='bar', rot=0, color=palette)\n",
    "ax.legend(bbox_to_anchor=(1,1), loc='upper left')\n",
    "plt.title('Metrics by Race')\n",
    "#plt.tight_layout()\n",
    "plt.savefig('./figs/met_by_race.png')\n",
    "plt.show()"
   ]
  },
  {
   "cell_type": "markdown",
   "id": "a5f3be71",
   "metadata": {},
   "source": [
    "#### Age"
   ]
  },
  {
   "cell_type": "code",
   "execution_count": null,
   "id": "0f8a9c3c",
   "metadata": {},
   "outputs": [],
   "source": [
    "#re-mapping ages\n",
    "\n",
    "age_map = {\n",
    "    '0': '[0-10)',\n",
    "    '1': '[10-20)',\n",
    "    '2': '[20-30)',\n",
    "    '3': '[30-40)',\n",
    "    '4': '[40-50)',\n",
    "    '5': '[50-60)',\n",
    "    '6': '[60-70)',\n",
    "    '7': '[70-80)',\n",
    "    '8': '[80-90)',\n",
    "    '9': '[90-100)'\n",
    "}\n",
    "\n",
    "X_test_copy['age_new'] = X_test_copy['age'].astype(str).map(age_map)"
   ]
  },
  {
   "cell_type": "code",
   "execution_count": 142,
   "id": "432b06e6",
   "metadata": {},
   "outputs": [],
   "source": [
    "ages = X_test_copy.age_new.unique()\n",
    "hist_age = pd.DataFrame({'ages':sorted(ages)})"
   ]
  },
  {
   "cell_type": "code",
   "execution_count": 149,
   "id": "b3ee4976",
   "metadata": {},
   "outputs": [],
   "source": [
    "for r in ages:\n",
    "    test_X = X_test.loc[X_test_copy['age_new'] == r]\n",
    "    test_y = y_test.loc[X_test_copy['age_new'] == r]\n",
    "    pred_y = xgbCal.predict(test_X)\n",
    "    pred_probs_y = xgbCal.predict_proba(test_X)\n",
    "\n",
    "    hist_age.loc[hist_age['ages']==r,'Accuracy score']= accuracy_score(test_y,pred_y)\n",
    "    hist_age.loc[hist_age['ages']==r,'AUC score']= roc_auc_score(test_y,pred_probs_y[:,1])\n",
    "\n",
    "hist_age['Fraction of data'] = X_test_copy['age_new'].value_counts().sort_index().values/len(X_test_copy)"
   ]
  },
  {
   "cell_type": "code",
   "execution_count": 155,
   "id": "55c9ba64",
   "metadata": {},
   "outputs": [
    {
     "data": {
      "text/plain": [
       "<Figure size 1600x600 with 0 Axes>"
      ]
     },
     "metadata": {},
     "output_type": "display_data"
    },
    {
     "data": {
      "image/png": "[encoded data removed]",
      "text/plain": [
       "<Figure size 640x480 with 1 Axes>"
      ]
     },
     "metadata": {},
     "output_type": "display_data"
    }
   ],
   "source": [
    "plt.figure(figsize=(16,6))\n",
    "palette = sns.color_palette('mako', n_colors=3)\n",
    "ax = hist_age.plot(x='ages', y=['Fraction of data','AUC score','Accuracy score'], kind='bar', rot=0, color=palette)\n",
    "ax.legend(bbox_to_anchor=(1,1), loc='upper left')\n",
    "plt.title('Metrics by Age')\n",
    "#plt.tight_layout()\n",
    "plt.savefig('./figs/met_by_age.png')\n",
    "plt.show()"
   ]
  },
  {
   "cell_type": "markdown",
   "id": "1d3aa4ee",
   "metadata": {},
   "source": [
    "#### Gender"
   ]
  },
  {
   "cell_type": "code",
   "execution_count": 156,
   "id": "fc1288c3",
   "metadata": {},
   "outputs": [],
   "source": [
    "#re-mapping ages\n",
    "\n",
    "X_test_copy['gender'] = np.where(X_test_copy['male_ind'] == 1, 'Male', 'Female')"
   ]
  },
  {
   "cell_type": "code",
   "execution_count": 157,
   "id": "05b98618",
   "metadata": {},
   "outputs": [],
   "source": [
    "genders = X_test_copy.gender.unique()\n",
    "hist_gender = pd.DataFrame({'genders':sorted(genders)})"
   ]
  },
  {
   "cell_type": "code",
   "execution_count": 158,
   "id": "3387afd0",
   "metadata": {},
   "outputs": [],
   "source": [
    "for r in genders:\n",
    "    test_X = X_test.loc[X_test_copy['gender'] == r]\n",
    "    test_y = y_test.loc[X_test_copy['gender'] == r]\n",
    "    pred_y = xgbCal.predict(test_X)\n",
    "    pred_probs_y = xgbCal.predict_proba(test_X)\n",
    "\n",
    "    hist_gender.loc[hist_gender['genders']==r,'Accuracy score']= accuracy_score(test_y,pred_y)\n",
    "    hist_gender.loc[hist_gender['genders']==r,'AUC score']= roc_auc_score(test_y,pred_probs_y[:,1])\n",
    "\n",
    "hist_gender['Fraction of data'] = X_test_copy['gender'].value_counts().sort_index().values/len(X_test_copy)"
   ]
  },
  {
   "cell_type": "code",
   "execution_count": 164,
   "id": "c888224f",
   "metadata": {},
   "outputs": [
    {
     "data": {
      "text/html": [
       "<div>\n",
       "<style scoped>\n",
       "    .dataframe tbody tr th:only-of-type {\n",
       "        vertical-align: middle;\n",
       "    }\n",
       "\n",
       "    .dataframe tbody tr th {\n",
       "        vertical-align: top;\n",
       "    }\n",
       "\n",
       "    .dataframe thead th {\n",
       "        text-align: right;\n",
       "    }\n",
       "</style>\n",
       "<table border=\"1\" class=\"dataframe\">\n",
       "  <thead>\n",
       "    <tr style=\"text-align: right;\">\n",
       "      <th></th>\n",
       "      <th>genders</th>\n",
       "      <th>Accuracy score</th>\n",
       "      <th>AUC score</th>\n",
       "      <th>Fraction of data</th>\n",
       "    </tr>\n",
       "  </thead>\n",
       "  <tbody>\n",
       "    <tr>\n",
       "      <th>0</th>\n",
       "      <td>Female</td>\n",
       "      <td>0.889256</td>\n",
       "      <td>0.826762</td>\n",
       "      <td>0.544898</td>\n",
       "    </tr>\n",
       "    <tr>\n",
       "      <th>1</th>\n",
       "      <td>Male</td>\n",
       "      <td>0.885621</td>\n",
       "      <td>0.813724</td>\n",
       "      <td>0.455102</td>\n",
       "    </tr>\n",
       "  </tbody>\n",
       "</table>\n",
       "</div>"
      ],
      "text/plain": [
       "  genders  Accuracy score  AUC score  Fraction of data\n",
       "0  Female        0.889256   0.826762          0.544898\n",
       "1    Male        0.885621   0.813724          0.455102"
      ]
     },
     "execution_count": 164,
     "metadata": {},
     "output_type": "execute_result"
    }
   ],
   "source": [
    "hist_gender"
   ]
  },
  {
   "cell_type": "code",
   "execution_count": 169,
   "id": "ea29e11e",
   "metadata": {},
   "outputs": [
    {
     "data": {
      "text/plain": [
       "<Figure size 1200x600 with 0 Axes>"
      ]
     },
     "metadata": {},
     "output_type": "display_data"
    },
    {
     "data": {
      "image/png": "[encoded data removed]",
      "text/plain": [
       "<Figure size 640x480 with 1 Axes>"
      ]
     },
     "metadata": {},
     "output_type": "display_data"
    }
   ],
   "source": [
    "plt.figure(figsize=(12,6))\n",
    "palette = sns.color_palette('viridis')\n",
    "ax = hist_gender.plot(x='genders', y=['Fraction of data','AUC score','Accuracy score'], kind='bar', rot=0, color=palette)\n",
    "ax.legend(bbox_to_anchor=(1,1), loc='upper left')\n",
    "plt.title('Metrics by Gender')\n",
    "#plt.tight_layout()\n",
    "plt.savefig('./figs/met_by_gender.png')\n",
    "plt.show()"
   ]
  },
  {
   "cell_type": "code",
   "execution_count": null,
   "id": "e6951c49",
   "metadata": {},
   "outputs": [],
   "source": []
  }
 ],
 "metadata": {
  "kernelspec": {
   "display_name": "erdos_summer_2025",
   "language": "python",
   "name": "python3"
  },
  "language_info": {
   "codemirror_mode": {
    "name": "ipython",
    "version": 3
   },
   "file_extension": ".py",
   "mimetype": "text/x-python",
   "name": "python",
   "nbconvert_exporter": "python",
   "pygments_lexer": "ipython3",
   "version": "3.12.10"
  }
 },
 "nbformat": 4,
 "nbformat_minor": 5
}
