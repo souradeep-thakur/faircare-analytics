{
 "cells": [
  {
   "cell_type": "markdown",
   "id": "70e168bc",
   "metadata": {},
   "source": [
    "# RandomForest Classifier"
   ]
  },
  {
   "cell_type": "code",
   "execution_count": 1,
   "id": "f83c00d5",
   "metadata": {},
   "outputs": [],
   "source": [
    "import pandas as pd\n",
    "import numpy as np\n",
    "import matplotlib.pyplot as plt\n",
    "import seaborn as sns"
   ]
  },
  {
   "cell_type": "code",
   "execution_count": 2,
   "id": "6c204f4b",
   "metadata": {},
   "outputs": [],
   "source": [
    "from sklearn.model_selection import train_test_split, RandomizedSearchCV, GridSearchCV\n",
    "from sklearn.ensemble import RandomForestClassifier\n",
    "from sklearn.metrics import accuracy_score, roc_curve, roc_auc_score, auc, classification_report, mean_squared_error, confusion_matrix"
   ]
  },
  {
   "cell_type": "code",
   "execution_count": 3,
   "id": "48006f61",
   "metadata": {},
   "outputs": [],
   "source": [
    "data = pd.read_csv('../data/data_processed.csv')\n",
    "\n",
    "data['target'] = data['readmitted'].isin(['<30','>30']).astype(int)\n",
    "\n",
    "data = data.drop(columns='readmitted')"
   ]
  },
  {
   "cell_type": "code",
   "execution_count": 4,
   "id": "69bfedc9",
   "metadata": {},
   "outputs": [],
   "source": [
    "X = data.drop(columns = 'target')\n",
    "y = data['target']"
   ]
  },
  {
   "cell_type": "code",
   "execution_count": 5,
   "id": "1b09a45c",
   "metadata": {},
   "outputs": [],
   "source": [
    "X['strat_col'] = X['race'].astype(str) + \"_\" + data['target'].astype(str)\n",
    "X_train, X_test, y_train, y_test = train_test_split(X, y, test_size = 0.2, stratify = y, random_state = 42)\n",
    "\n",
    "X_test_copy = X_test.copy(deep = True)\n",
    "\n",
    "X_train = X_train.drop(columns = ['strat_col' , 'race'])\n",
    "X_test = X_test.drop(columns = ['strat_col' , 'race'])"
   ]
  },
  {
   "cell_type": "code",
   "execution_count": 6,
   "id": "ad0ff0d2",
   "metadata": {},
   "outputs": [
    {
     "name": "stderr",
     "output_type": "stream",
     "text": [
      "[Parallel(n_jobs=-1)]: Using backend ThreadingBackend with 16 concurrent workers.\n",
      "[Parallel(n_jobs=-1)]: Done  18 tasks      | elapsed:    0.0s\n",
      "[Parallel(n_jobs=-1)]: Done 168 tasks      | elapsed:    0.8s\n",
      "[Parallel(n_jobs=-1)]: Done 418 tasks      | elapsed:    2.0s\n",
      "[Parallel(n_jobs=-1)]: Done 768 tasks      | elapsed:    3.6s\n",
      "[Parallel(n_jobs=-1)]: Done 1000 out of 1000 | elapsed:    4.7s finished\n",
      "[Parallel(n_jobs=16)]: Using backend ThreadingBackend with 16 concurrent workers.\n",
      "[Parallel(n_jobs=16)]: Done  18 tasks      | elapsed:    0.0s\n",
      "[Parallel(n_jobs=16)]: Done 168 tasks      | elapsed:    0.0s\n",
      "[Parallel(n_jobs=16)]: Done 418 tasks      | elapsed:    0.1s\n",
      "[Parallel(n_jobs=16)]: Done 768 tasks      | elapsed:    0.2s\n",
      "[Parallel(n_jobs=16)]: Done 1000 out of 1000 | elapsed:    0.3s finished\n",
      "[Parallel(n_jobs=16)]: Using backend ThreadingBackend with 16 concurrent workers.\n",
      "[Parallel(n_jobs=16)]: Done  18 tasks      | elapsed:    0.0s\n",
      "[Parallel(n_jobs=16)]: Done 168 tasks      | elapsed:    0.0s\n",
      "[Parallel(n_jobs=16)]: Done 418 tasks      | elapsed:    0.1s\n",
      "[Parallel(n_jobs=16)]: Done 768 tasks      | elapsed:    0.2s\n"
     ]
    },
    {
     "name": "stdout",
     "output_type": "stream",
     "text": [
      "\n",
      "Model Report\n",
      "Cassification report:\n",
      "               precision    recall  f1-score   support\n",
      "\n",
      "           0       0.79      0.87      0.82     40814\n",
      "           1       0.83      0.74      0.78     36872\n",
      "\n",
      "    accuracy                           0.81     77686\n",
      "   macro avg       0.81      0.80      0.80     77686\n",
      "weighted avg       0.81      0.81      0.80     77686\n",
      "\n",
      "Accuracy :  0.8060139536081147\n",
      "AUC Score :  0.8740189387502617\n"
     ]
    },
    {
     "name": "stderr",
     "output_type": "stream",
     "text": [
      "[Parallel(n_jobs=16)]: Done 1000 out of 1000 | elapsed:    0.3s finished\n"
     ]
    }
   ],
   "source": [
    "#with a reasonable set of parameters (not calibrated)\n",
    "\n",
    "rf = RandomForestClassifier(n_estimators=1000,\n",
    "                            criterion='gini', \n",
    "                            max_depth=10,\n",
    "                            min_samples_split=3,\n",
    "                            min_samples_leaf=2, \n",
    "                            max_features='sqrt', \n",
    "                            max_leaf_nodes=None, \n",
    "                            bootstrap=True, \n",
    "                            oob_score=False,\n",
    "                            n_jobs=-1, \n",
    "                            random_state=42,\n",
    "                            verbose=1, \n",
    "                            warm_start=False, \n",
    "                            class_weight=None)\n",
    "\n",
    "rf.fit(X_train, y_train)\n",
    "\n",
    "y_pred = rf.predict(X_train)\n",
    "y_predprobs = rf.predict_proba(X_train)[:,1]\n",
    "\n",
    "print (\"\\nModel Report\")\n",
    "print (\"Cassification report:\\n\", classification_report(y_train, y_pred))\n",
    "print (\"Accuracy : \", accuracy_score(y_train, y_pred))\n",
    "print (\"AUC Score : \" , roc_auc_score(y_train, y_predprobs))"
   ]
  },
  {
   "cell_type": "markdown",
   "id": "85803883",
   "metadata": {},
   "source": [
    "### Fit and evaluation"
   ]
  },
  {
   "cell_type": "code",
   "execution_count": 7,
   "id": "d603e9ea",
   "metadata": {},
   "outputs": [],
   "source": [
    "best_params = {\n",
    "    'max_depth': 15,\n",
    "    'max_features': 0.4,\n",
    "    'bootstrap': True,\n",
    "    'criterion': 'entropy',\n",
    "    'min_samples_split': 20,\n",
    "    'min_samples_leaf': 20\n",
    "}"
   ]
  },
  {
   "cell_type": "code",
   "execution_count": 8,
   "id": "0ad45417",
   "metadata": {},
   "outputs": [
    {
     "name": "stderr",
     "output_type": "stream",
     "text": [
      "[Parallel(n_jobs=-1)]: Using backend ThreadingBackend with 16 concurrent workers.\n",
      "[Parallel(n_jobs=-1)]: Done  18 tasks      | elapsed:    0.4s\n",
      "[Parallel(n_jobs=-1)]: Done 168 tasks      | elapsed:    2.7s\n",
      "[Parallel(n_jobs=-1)]: Done 418 tasks      | elapsed:    6.8s\n",
      "[Parallel(n_jobs=-1)]: Done 768 tasks      | elapsed:   12.4s\n"
     ]
    },
    {
     "name": "stdout",
     "output_type": "stream",
     "text": [
      "CPU times: total: 3min 56s\n",
      "Wall time: 16.3 s\n"
     ]
    },
    {
     "name": "stderr",
     "output_type": "stream",
     "text": [
      "[Parallel(n_jobs=-1)]: Done 1000 out of 1000 | elapsed:   16.0s finished\n"
     ]
    },
    {
     "data": {
      "text/html": [
       "<style>#sk-container-id-1 {\n",
       "  /* Definition of color scheme common for light and dark mode */\n",
       "  --sklearn-color-text: #000;\n",
       "  --sklearn-color-text-muted: #666;\n",
       "  --sklearn-color-line: gray;\n",
       "  /* Definition of color scheme for unfitted estimators */\n",
       "  --sklearn-color-unfitted-level-0: #fff5e6;\n",
       "  --sklearn-color-unfitted-level-1: #f6e4d2;\n",
       "  --sklearn-color-unfitted-level-2: #ffe0b3;\n",
       "  --sklearn-color-unfitted-level-3: chocolate;\n",
       "  /* Definition of color scheme for fitted estimators */\n",
       "  --sklearn-color-fitted-level-0: #f0f8ff;\n",
       "  --sklearn-color-fitted-level-1: #d4ebff;\n",
       "  --sklearn-color-fitted-level-2: #b3dbfd;\n",
       "  --sklearn-color-fitted-level-3: cornflowerblue;\n",
       "\n",
       "  /* Specific color for light theme */\n",
       "  --sklearn-color-text-on-default-background: var(--sg-text-color, var(--theme-code-foreground, var(--jp-content-font-color1, black)));\n",
       "  --sklearn-color-background: var(--sg-background-color, var(--theme-background, var(--jp-layout-color0, white)));\n",
       "  --sklearn-color-border-box: var(--sg-text-color, var(--theme-code-foreground, var(--jp-content-font-color1, black)));\n",
       "  --sklearn-color-icon: #696969;\n",
       "\n",
       "  @media (prefers-color-scheme: dark) {\n",
       "    /* Redefinition of color scheme for dark theme */\n",
       "    --sklearn-color-text-on-default-background: var(--sg-text-color, var(--theme-code-foreground, var(--jp-content-font-color1, white)));\n",
       "    --sklearn-color-background: var(--sg-background-color, var(--theme-background, var(--jp-layout-color0, #111)));\n",
       "    --sklearn-color-border-box: var(--sg-text-color, var(--theme-code-foreground, var(--jp-content-font-color1, white)));\n",
       "    --sklearn-color-icon: #878787;\n",
       "  }\n",
       "}\n",
       "\n",
       "#sk-container-id-1 {\n",
       "  color: var(--sklearn-color-text);\n",
       "}\n",
       "\n",
       "#sk-container-id-1 pre {\n",
       "  padding: 0;\n",
       "}\n",
       "\n",
       "#sk-container-id-1 input.sk-hidden--visually {\n",
       "  border: 0;\n",
       "  clip: rect(1px 1px 1px 1px);\n",
       "  clip: rect(1px, 1px, 1px, 1px);\n",
       "  height: 1px;\n",
       "  margin: -1px;\n",
       "  overflow: hidden;\n",
       "  padding: 0;\n",
       "  position: absolute;\n",
       "  width: 1px;\n",
       "}\n",
       "\n",
       "#sk-container-id-1 div.sk-dashed-wrapped {\n",
       "  border: 1px dashed var(--sklearn-color-line);\n",
       "  margin: 0 0.4em 0.5em 0.4em;\n",
       "  box-sizing: border-box;\n",
       "  padding-bottom: 0.4em;\n",
       "  background-color: var(--sklearn-color-background);\n",
       "}\n",
       "\n",
       "#sk-container-id-1 div.sk-container {\n",
       "  /* jupyter's `normalize.less` sets `[hidden] { display: none; }`\n",
       "     but bootstrap.min.css set `[hidden] { display: none !important; }`\n",
       "     so we also need the `!important` here to be able to override the\n",
       "     default hidden behavior on the sphinx rendered scikit-learn.org.\n",
       "     See: https://github.com/scikit-learn/scikit-learn/issues/21755 */\n",
       "  display: inline-block !important;\n",
       "  position: relative;\n",
       "}\n",
       "\n",
       "#sk-container-id-1 div.sk-text-repr-fallback {\n",
       "  display: none;\n",
       "}\n",
       "\n",
       "div.sk-parallel-item,\n",
       "div.sk-serial,\n",
       "div.sk-item {\n",
       "  /* draw centered vertical line to link estimators */\n",
       "  background-image: linear-gradient(var(--sklearn-color-text-on-default-background), var(--sklearn-color-text-on-default-background));\n",
       "  background-size: 2px 100%;\n",
       "  background-repeat: no-repeat;\n",
       "  background-position: center center;\n",
       "}\n",
       "\n",
       "/* Parallel-specific style estimator block */\n",
       "\n",
       "#sk-container-id-1 div.sk-parallel-item::after {\n",
       "  content: \"\";\n",
       "  width: 100%;\n",
       "  border-bottom: 2px solid var(--sklearn-color-text-on-default-background);\n",
       "  flex-grow: 1;\n",
       "}\n",
       "\n",
       "#sk-container-id-1 div.sk-parallel {\n",
       "  display: flex;\n",
       "  align-items: stretch;\n",
       "  justify-content: center;\n",
       "  background-color: var(--sklearn-color-background);\n",
       "  position: relative;\n",
       "}\n",
       "\n",
       "#sk-container-id-1 div.sk-parallel-item {\n",
       "  display: flex;\n",
       "  flex-direction: column;\n",
       "}\n",
       "\n",
       "#sk-container-id-1 div.sk-parallel-item:first-child::after {\n",
       "  align-self: flex-end;\n",
       "  width: 50%;\n",
       "}\n",
       "\n",
       "#sk-container-id-1 div.sk-parallel-item:last-child::after {\n",
       "  align-self: flex-start;\n",
       "  width: 50%;\n",
       "}\n",
       "\n",
       "#sk-container-id-1 div.sk-parallel-item:only-child::after {\n",
       "  width: 0;\n",
       "}\n",
       "\n",
       "/* Serial-specific style estimator block */\n",
       "\n",
       "#sk-container-id-1 div.sk-serial {\n",
       "  display: flex;\n",
       "  flex-direction: column;\n",
       "  align-items: center;\n",
       "  background-color: var(--sklearn-color-background);\n",
       "  padding-right: 1em;\n",
       "  padding-left: 1em;\n",
       "}\n",
       "\n",
       "\n",
       "/* Toggleable style: style used for estimator/Pipeline/ColumnTransformer box that is\n",
       "clickable and can be expanded/collapsed.\n",
       "- Pipeline and ColumnTransformer use this feature and define the default style\n",
       "- Estimators will overwrite some part of the style using the `sk-estimator` class\n",
       "*/\n",
       "\n",
       "/* Pipeline and ColumnTransformer style (default) */\n",
       "\n",
       "#sk-container-id-1 div.sk-toggleable {\n",
       "  /* Default theme specific background. It is overwritten whether we have a\n",
       "  specific estimator or a Pipeline/ColumnTransformer */\n",
       "  background-color: var(--sklearn-color-background);\n",
       "}\n",
       "\n",
       "/* Toggleable label */\n",
       "#sk-container-id-1 label.sk-toggleable__label {\n",
       "  cursor: pointer;\n",
       "  display: flex;\n",
       "  width: 100%;\n",
       "  margin-bottom: 0;\n",
       "  padding: 0.5em;\n",
       "  box-sizing: border-box;\n",
       "  text-align: center;\n",
       "  align-items: start;\n",
       "  justify-content: space-between;\n",
       "  gap: 0.5em;\n",
       "}\n",
       "\n",
       "#sk-container-id-1 label.sk-toggleable__label .caption {\n",
       "  font-size: 0.6rem;\n",
       "  font-weight: lighter;\n",
       "  color: var(--sklearn-color-text-muted);\n",
       "}\n",
       "\n",
       "#sk-container-id-1 label.sk-toggleable__label-arrow:before {\n",
       "  /* Arrow on the left of the label */\n",
       "  content: \"▸\";\n",
       "  float: left;\n",
       "  margin-right: 0.25em;\n",
       "  color: var(--sklearn-color-icon);\n",
       "}\n",
       "\n",
       "#sk-container-id-1 label.sk-toggleable__label-arrow:hover:before {\n",
       "  color: var(--sklearn-color-text);\n",
       "}\n",
       "\n",
       "/* Toggleable content - dropdown */\n",
       "\n",
       "#sk-container-id-1 div.sk-toggleable__content {\n",
       "  max-height: 0;\n",
       "  max-width: 0;\n",
       "  overflow: hidden;\n",
       "  text-align: left;\n",
       "  /* unfitted */\n",
       "  background-color: var(--sklearn-color-unfitted-level-0);\n",
       "}\n",
       "\n",
       "#sk-container-id-1 div.sk-toggleable__content.fitted {\n",
       "  /* fitted */\n",
       "  background-color: var(--sklearn-color-fitted-level-0);\n",
       "}\n",
       "\n",
       "#sk-container-id-1 div.sk-toggleable__content pre {\n",
       "  margin: 0.2em;\n",
       "  border-radius: 0.25em;\n",
       "  color: var(--sklearn-color-text);\n",
       "  /* unfitted */\n",
       "  background-color: var(--sklearn-color-unfitted-level-0);\n",
       "}\n",
       "\n",
       "#sk-container-id-1 div.sk-toggleable__content.fitted pre {\n",
       "  /* unfitted */\n",
       "  background-color: var(--sklearn-color-fitted-level-0);\n",
       "}\n",
       "\n",
       "#sk-container-id-1 input.sk-toggleable__control:checked~div.sk-toggleable__content {\n",
       "  /* Expand drop-down */\n",
       "  max-height: 200px;\n",
       "  max-width: 100%;\n",
       "  overflow: auto;\n",
       "}\n",
       "\n",
       "#sk-container-id-1 input.sk-toggleable__control:checked~label.sk-toggleable__label-arrow:before {\n",
       "  content: \"▾\";\n",
       "}\n",
       "\n",
       "/* Pipeline/ColumnTransformer-specific style */\n",
       "\n",
       "#sk-container-id-1 div.sk-label input.sk-toggleable__control:checked~label.sk-toggleable__label {\n",
       "  color: var(--sklearn-color-text);\n",
       "  background-color: var(--sklearn-color-unfitted-level-2);\n",
       "}\n",
       "\n",
       "#sk-container-id-1 div.sk-label.fitted input.sk-toggleable__control:checked~label.sk-toggleable__label {\n",
       "  background-color: var(--sklearn-color-fitted-level-2);\n",
       "}\n",
       "\n",
       "/* Estimator-specific style */\n",
       "\n",
       "/* Colorize estimator box */\n",
       "#sk-container-id-1 div.sk-estimator input.sk-toggleable__control:checked~label.sk-toggleable__label {\n",
       "  /* unfitted */\n",
       "  background-color: var(--sklearn-color-unfitted-level-2);\n",
       "}\n",
       "\n",
       "#sk-container-id-1 div.sk-estimator.fitted input.sk-toggleable__control:checked~label.sk-toggleable__label {\n",
       "  /* fitted */\n",
       "  background-color: var(--sklearn-color-fitted-level-2);\n",
       "}\n",
       "\n",
       "#sk-container-id-1 div.sk-label label.sk-toggleable__label,\n",
       "#sk-container-id-1 div.sk-label label {\n",
       "  /* The background is the default theme color */\n",
       "  color: var(--sklearn-color-text-on-default-background);\n",
       "}\n",
       "\n",
       "/* On hover, darken the color of the background */\n",
       "#sk-container-id-1 div.sk-label:hover label.sk-toggleable__label {\n",
       "  color: var(--sklearn-color-text);\n",
       "  background-color: var(--sklearn-color-unfitted-level-2);\n",
       "}\n",
       "\n",
       "/* Label box, darken color on hover, fitted */\n",
       "#sk-container-id-1 div.sk-label.fitted:hover label.sk-toggleable__label.fitted {\n",
       "  color: var(--sklearn-color-text);\n",
       "  background-color: var(--sklearn-color-fitted-level-2);\n",
       "}\n",
       "\n",
       "/* Estimator label */\n",
       "\n",
       "#sk-container-id-1 div.sk-label label {\n",
       "  font-family: monospace;\n",
       "  font-weight: bold;\n",
       "  display: inline-block;\n",
       "  line-height: 1.2em;\n",
       "}\n",
       "\n",
       "#sk-container-id-1 div.sk-label-container {\n",
       "  text-align: center;\n",
       "}\n",
       "\n",
       "/* Estimator-specific */\n",
       "#sk-container-id-1 div.sk-estimator {\n",
       "  font-family: monospace;\n",
       "  border: 1px dotted var(--sklearn-color-border-box);\n",
       "  border-radius: 0.25em;\n",
       "  box-sizing: border-box;\n",
       "  margin-bottom: 0.5em;\n",
       "  /* unfitted */\n",
       "  background-color: var(--sklearn-color-unfitted-level-0);\n",
       "}\n",
       "\n",
       "#sk-container-id-1 div.sk-estimator.fitted {\n",
       "  /* fitted */\n",
       "  background-color: var(--sklearn-color-fitted-level-0);\n",
       "}\n",
       "\n",
       "/* on hover */\n",
       "#sk-container-id-1 div.sk-estimator:hover {\n",
       "  /* unfitted */\n",
       "  background-color: var(--sklearn-color-unfitted-level-2);\n",
       "}\n",
       "\n",
       "#sk-container-id-1 div.sk-estimator.fitted:hover {\n",
       "  /* fitted */\n",
       "  background-color: var(--sklearn-color-fitted-level-2);\n",
       "}\n",
       "\n",
       "/* Specification for estimator info (e.g. \"i\" and \"?\") */\n",
       "\n",
       "/* Common style for \"i\" and \"?\" */\n",
       "\n",
       ".sk-estimator-doc-link,\n",
       "a:link.sk-estimator-doc-link,\n",
       "a:visited.sk-estimator-doc-link {\n",
       "  float: right;\n",
       "  font-size: smaller;\n",
       "  line-height: 1em;\n",
       "  font-family: monospace;\n",
       "  background-color: var(--sklearn-color-background);\n",
       "  border-radius: 1em;\n",
       "  height: 1em;\n",
       "  width: 1em;\n",
       "  text-decoration: none !important;\n",
       "  margin-left: 0.5em;\n",
       "  text-align: center;\n",
       "  /* unfitted */\n",
       "  border: var(--sklearn-color-unfitted-level-1) 1pt solid;\n",
       "  color: var(--sklearn-color-unfitted-level-1);\n",
       "}\n",
       "\n",
       ".sk-estimator-doc-link.fitted,\n",
       "a:link.sk-estimator-doc-link.fitted,\n",
       "a:visited.sk-estimator-doc-link.fitted {\n",
       "  /* fitted */\n",
       "  border: var(--sklearn-color-fitted-level-1) 1pt solid;\n",
       "  color: var(--sklearn-color-fitted-level-1);\n",
       "}\n",
       "\n",
       "/* On hover */\n",
       "div.sk-estimator:hover .sk-estimator-doc-link:hover,\n",
       ".sk-estimator-doc-link:hover,\n",
       "div.sk-label-container:hover .sk-estimator-doc-link:hover,\n",
       ".sk-estimator-doc-link:hover {\n",
       "  /* unfitted */\n",
       "  background-color: var(--sklearn-color-unfitted-level-3);\n",
       "  color: var(--sklearn-color-background);\n",
       "  text-decoration: none;\n",
       "}\n",
       "\n",
       "div.sk-estimator.fitted:hover .sk-estimator-doc-link.fitted:hover,\n",
       ".sk-estimator-doc-link.fitted:hover,\n",
       "div.sk-label-container:hover .sk-estimator-doc-link.fitted:hover,\n",
       ".sk-estimator-doc-link.fitted:hover {\n",
       "  /* fitted */\n",
       "  background-color: var(--sklearn-color-fitted-level-3);\n",
       "  color: var(--sklearn-color-background);\n",
       "  text-decoration: none;\n",
       "}\n",
       "\n",
       "/* Span, style for the box shown on hovering the info icon */\n",
       ".sk-estimator-doc-link span {\n",
       "  display: none;\n",
       "  z-index: 9999;\n",
       "  position: relative;\n",
       "  font-weight: normal;\n",
       "  right: .2ex;\n",
       "  padding: .5ex;\n",
       "  margin: .5ex;\n",
       "  width: min-content;\n",
       "  min-width: 20ex;\n",
       "  max-width: 50ex;\n",
       "  color: var(--sklearn-color-text);\n",
       "  box-shadow: 2pt 2pt 4pt #999;\n",
       "  /* unfitted */\n",
       "  background: var(--sklearn-color-unfitted-level-0);\n",
       "  border: .5pt solid var(--sklearn-color-unfitted-level-3);\n",
       "}\n",
       "\n",
       ".sk-estimator-doc-link.fitted span {\n",
       "  /* fitted */\n",
       "  background: var(--sklearn-color-fitted-level-0);\n",
       "  border: var(--sklearn-color-fitted-level-3);\n",
       "}\n",
       "\n",
       ".sk-estimator-doc-link:hover span {\n",
       "  display: block;\n",
       "}\n",
       "\n",
       "/* \"?\"-specific style due to the `<a>` HTML tag */\n",
       "\n",
       "#sk-container-id-1 a.estimator_doc_link {\n",
       "  float: right;\n",
       "  font-size: 1rem;\n",
       "  line-height: 1em;\n",
       "  font-family: monospace;\n",
       "  background-color: var(--sklearn-color-background);\n",
       "  border-radius: 1rem;\n",
       "  height: 1rem;\n",
       "  width: 1rem;\n",
       "  text-decoration: none;\n",
       "  /* unfitted */\n",
       "  color: var(--sklearn-color-unfitted-level-1);\n",
       "  border: var(--sklearn-color-unfitted-level-1) 1pt solid;\n",
       "}\n",
       "\n",
       "#sk-container-id-1 a.estimator_doc_link.fitted {\n",
       "  /* fitted */\n",
       "  border: var(--sklearn-color-fitted-level-1) 1pt solid;\n",
       "  color: var(--sklearn-color-fitted-level-1);\n",
       "}\n",
       "\n",
       "/* On hover */\n",
       "#sk-container-id-1 a.estimator_doc_link:hover {\n",
       "  /* unfitted */\n",
       "  background-color: var(--sklearn-color-unfitted-level-3);\n",
       "  color: var(--sklearn-color-background);\n",
       "  text-decoration: none;\n",
       "}\n",
       "\n",
       "#sk-container-id-1 a.estimator_doc_link.fitted:hover {\n",
       "  /* fitted */\n",
       "  background-color: var(--sklearn-color-fitted-level-3);\n",
       "}\n",
       "</style><div id=\"sk-container-id-1\" class=\"sk-top-container\"><div class=\"sk-text-repr-fallback\"><pre>RandomForestClassifier(criterion=&#x27;entropy&#x27;, max_depth=15, max_features=0.4,\n",
       "                       min_samples_leaf=20, min_samples_split=20,\n",
       "                       n_estimators=1000, n_jobs=-1, random_state=42,\n",
       "                       verbose=1)</pre><b>In a Jupyter environment, please rerun this cell to show the HTML representation or trust the notebook. <br />On GitHub, the HTML representation is unable to render, please try loading this page with nbviewer.org.</b></div><div class=\"sk-container\" hidden><div class=\"sk-item\"><div class=\"sk-estimator fitted sk-toggleable\"><input class=\"sk-toggleable__control sk-hidden--visually\" id=\"sk-estimator-id-1\" type=\"checkbox\" checked><label for=\"sk-estimator-id-1\" class=\"sk-toggleable__label fitted sk-toggleable__label-arrow\"><div><div>RandomForestClassifier</div></div><div><a class=\"sk-estimator-doc-link fitted\" rel=\"noreferrer\" target=\"_blank\" href=\"https://scikit-learn.org/1.6/modules/generated/sklearn.ensemble.RandomForestClassifier.html\">?<span>Documentation for RandomForestClassifier</span></a><span class=\"sk-estimator-doc-link fitted\">i<span>Fitted</span></span></div></label><div class=\"sk-toggleable__content fitted\"><pre>RandomForestClassifier(criterion=&#x27;entropy&#x27;, max_depth=15, max_features=0.4,\n",
       "                       min_samples_leaf=20, min_samples_split=20,\n",
       "                       n_estimators=1000, n_jobs=-1, random_state=42,\n",
       "                       verbose=1)</pre></div> </div></div></div></div>"
      ],
      "text/plain": [
       "RandomForestClassifier(criterion='entropy', max_depth=15, max_features=0.4,\n",
       "                       min_samples_leaf=20, min_samples_split=20,\n",
       "                       n_estimators=1000, n_jobs=-1, random_state=42,\n",
       "                       verbose=1)"
      ]
     },
     "execution_count": 8,
     "metadata": {},
     "output_type": "execute_result"
    }
   ],
   "source": [
    "%%time\n",
    "rfCal = RandomForestClassifier(**best_params, n_estimators=1000, random_state=42, n_jobs=-1, verbose=1)\n",
    "\n",
    "rfCal.fit(X_train, y_train)"
   ]
  },
  {
   "cell_type": "code",
   "execution_count": 9,
   "id": "b6e83a18",
   "metadata": {},
   "outputs": [
    {
     "name": "stderr",
     "output_type": "stream",
     "text": [
      "[Parallel(n_jobs=16)]: Using backend ThreadingBackend with 16 concurrent workers.\n",
      "[Parallel(n_jobs=16)]: Done  18 tasks      | elapsed:    0.0s\n",
      "[Parallel(n_jobs=16)]: Done 168 tasks      | elapsed:    0.0s\n",
      "[Parallel(n_jobs=16)]: Done 418 tasks      | elapsed:    0.0s\n",
      "[Parallel(n_jobs=16)]: Done 768 tasks      | elapsed:    0.0s\n",
      "[Parallel(n_jobs=16)]: Done 1000 out of 1000 | elapsed:    0.1s finished\n"
     ]
    }
   ],
   "source": [
    "probs = rf.predict_proba(X_test)\n",
    "y_pred = (probs[:, 1]>=0.5)"
   ]
  },
  {
   "cell_type": "code",
   "execution_count": 10,
   "id": "f09a44bb",
   "metadata": {},
   "outputs": [
    {
     "name": "stdout",
     "output_type": "stream",
     "text": [
      "Confusion Matrix:\n",
      "[[8752 1452]\n",
      " [2502 6716]]\n",
      "\n",
      "Classification Report:\n",
      "              precision    recall  f1-score   support\n",
      "\n",
      "           0       0.78      0.86      0.82     10204\n",
      "           1       0.82      0.73      0.77      9218\n",
      "\n",
      "    accuracy                           0.80     19422\n",
      "   macro avg       0.80      0.79      0.79     19422\n",
      "weighted avg       0.80      0.80      0.80     19422\n",
      "\n",
      "Mean squared error =  0.20358356502934816\n",
      "Accuracy =  0.7964164349706518\n",
      "ROC AUC score =  0.8576427832511833\n"
     ]
    },
    {
     "data": {
      "image/png": "[encoded data removed]",
      "text/plain": [
       "<Figure size 600x500 with 1 Axes>"
      ]
     },
     "metadata": {},
     "output_type": "display_data"
    }
   ],
   "source": [
    "mse = mean_squared_error(y_test, y_pred)\n",
    "acc = accuracy_score(y_test, y_pred)\n",
    "false_pos_rate, true_pos_rate, thresholds = roc_curve(y_test, probs[:,1])\n",
    "roc_auc = auc(false_pos_rate, true_pos_rate)\n",
    "\n",
    "roc_data = pd.DataFrame({'X': false_pos_rate.tolist(), 'Y': true_pos_rate.tolist()})\n",
    "roc_data.to_csv('./figs/plot_data/bal_roc_curve_rf.csv', index=False)\n",
    "    \n",
    "\n",
    "print(\"Confusion Matrix:\")\n",
    "print(confusion_matrix(y_test, y_pred))\n",
    "print(\"\\nClassification Report:\")\n",
    "print(classification_report(y_test, y_pred))\n",
    "print(\"Mean squared error = \",mse)\n",
    "print(\"Accuracy = \",acc)\n",
    "print(\"ROC AUC score = \",roc_auc)\n",
    "\n",
    "plt.figure(figsize = (6,5))\n",
    "plt.plot([0,1], [0,1], '--', lw=1)\n",
    "plt.plot(false_pos_rate, true_pos_rate)\n",
    "plt.xlabel('False positive rate', fontsize=13)\n",
    "plt.ylabel('True positive rate', fontsize=13)\n",
    "plt.title('RandomForest')\n",
    "plt.show()"
   ]
  },
  {
   "cell_type": "code",
   "execution_count": 11,
   "id": "6f68d03b",
   "metadata": {},
   "outputs": [
    {
     "data": {
      "image/png": "[encoded data removed]",
      "text/plain": [
       "<Figure size 600x500 with 2 Axes>"
      ]
     },
     "metadata": {},
     "output_type": "display_data"
    },
    {
     "name": "stdout",
     "output_type": "stream",
     "text": [
      "Confusion Matrix:\n",
      " [[8752 1452]\n",
      " [2502 6716]]\n"
     ]
    }
   ],
   "source": [
    "# Compute confusion matrix\n",
    "cm = confusion_matrix(y_test, y_pred)\n",
    "\n",
    "# Plot confusion matrix heatmap\n",
    "plt.figure(figsize=(6, 5))\n",
    "\n",
    "sns.heatmap(cm, annot=True, cmap='crest', fmt='d')\n",
    "plt.xlabel('Predicted')\n",
    "plt.ylabel('Actual')\n",
    "plt.title('Balanced classification - RandomForest')\n",
    "\n",
    "plt.savefig('./figs/bal_conf_mat_rf.png')\n",
    "plt.show()\n",
    "\n",
    "# Print confusion matrix and classification report for detailed metrics\n",
    "print(\"Confusion Matrix:\\n\", cm)"
   ]
  },
  {
   "cell_type": "code",
   "execution_count": null,
   "id": "4c1b15e6",
   "metadata": {},
   "outputs": [],
   "source": []
  },
  {
   "cell_type": "markdown",
   "id": "672595de",
   "metadata": {},
   "source": [
    "### Using grid search to tune\n",
    "\n",
    "#### First search: `max_depth`"
   ]
  },
  {
   "cell_type": "code",
   "execution_count": null,
   "id": "0c878031",
   "metadata": {},
   "outputs": [],
   "source": [
    "%%time\n",
    "best_params_GS = {}\n",
    "\n",
    "param_test_1 = {\n",
    "    'max_depth': range(5, 26, 5)\n",
    "}\n",
    "gsearch_1 = GridSearchCV(estimator = RandomForestClassifier(n_estimators=800, random_state = 42), \n",
    " param_grid = param_test_1, scoring='accuracy',n_jobs=-1, cv=5, verbose=1)\n",
    "gsearch_1.fit(X_train,y_train)\n",
    "\n",
    "best_params_GS.update(gsearch_1.best_params_)\n",
    "print(\"The best parameters are:\", gsearch_1.best_params_)\n",
    "print(\"Best AUC score = \",gsearch_1.best_score_)"
   ]
  },
  {
   "cell_type": "markdown",
   "id": "14541239",
   "metadata": {},
   "source": [
    "#### Second search: `max_features`"
   ]
  },
  {
   "cell_type": "code",
   "execution_count": null,
   "id": "65a15827",
   "metadata": {},
   "outputs": [],
   "source": [
    "list_feat = [0.5, 1.0, 'sqrt', 'log2']"
   ]
  },
  {
   "cell_type": "code",
   "execution_count": null,
   "id": "06eab4a2",
   "metadata": {},
   "outputs": [
    {
     "name": "stdout",
     "output_type": "stream",
     "text": [
      "The best parameters are: {'max_features': 0.5}\n",
      "Best accuracy score =  0.8071982431699688\n",
      "CPU times: total: 3min 29s\n",
      "Wall time: 11min 44s\n"
     ]
    }
   ],
   "source": [
    "%%time\n",
    "\n",
    "param_test_2 = {'max_features': list_feat}\n",
    "\n",
    "gsearch_2 = GridSearchCV(estimator = RandomForestClassifier(**best_params_GS, n_estimators = 800, random_state = 42), \n",
    " param_grid = param_test_2, scoring='accuracy',n_jobs=-1, cv=5)\n",
    "gsearch_2.fit(X_train,y_train)\n",
    "\n",
    "best_params_GS.update(gsearch_2.best_params_)\n",
    "print(\"The best parameters are:\", gsearch_2.best_params_)\n",
    "print(\"Best accuracy score = \",gsearch_2.best_score_)"
   ]
  },
  {
   "cell_type": "markdown",
   "id": "ddff3b22",
   "metadata": {},
   "source": [
    "#### Third search: `criterion`"
   ]
  },
  {
   "cell_type": "code",
   "execution_count": null,
   "id": "3a34bca3",
   "metadata": {},
   "outputs": [
    {
     "name": "stdout",
     "output_type": "stream",
     "text": [
      "The best parameters are: {'bootstrap': True, 'criterion': 'entropy'}\n",
      "Best AUC score =  0.8734368334206597\n",
      "CPU times: total: 3min 14s\n",
      "Wall time: 16min 2s\n"
     ]
    }
   ],
   "source": [
    "%%time\n",
    "\n",
    "param_test_3 = {\n",
    "    'criterion': ['gini', 'entropy', 'log_loss']\n",
    "    #'bootstrap': [True, False]\n",
    "}\n",
    "\n",
    "gsearch_3 = GridSearchCV(estimator = RandomForestClassifier(**best_params_GS, n_estimators = 800,  random_state = 42), \n",
    " param_grid = param_test_3, scoring='roc_auc',n_jobs=-1, cv=5, verbose=1)\n",
    "gsearch_3.fit(X_train,y_train)\n",
    "\n",
    "best_params_GS.update(gsearch_3.best_params_)\n",
    "print(\"The best parameters are:\", gsearch_3.best_params_)\n",
    "print(\"Best AUC score = \",gsearch_3.best_score_)"
   ]
  },
  {
   "cell_type": "markdown",
   "id": "db565773",
   "metadata": {},
   "source": [
    "#### Fourth search: `min_samples_split`"
   ]
  },
  {
   "cell_type": "code",
   "execution_count": null,
   "id": "a7ecaebe",
   "metadata": {},
   "outputs": [
    {
     "name": "stdout",
     "output_type": "stream",
     "text": [
      "The best parameters are: {'min_samples_split': 20}\n",
      "Best AUC score =  0.8195231093159645\n",
      "CPU times: total: 2min 36s\n",
      "Wall time: 10min 4s\n"
     ]
    }
   ],
   "source": [
    "%%time\n",
    "\n",
    "param_test_4 = {'min_samples_split': range(5, 21, 5)}\n",
    "\n",
    "gsearch_4 = GridSearchCV(estimator = RandomForestClassifier(**best_params_GS, n_estimators=800, random_state = 42), \n",
    " param_grid = param_test_4, scoring='roc_auc',n_jobs=-1, cv=5)\n",
    "gsearch_4.fit(X_train,y_train)\n",
    "\n",
    "best_params_GS.update(gsearch_4.best_params_)\n",
    "print(\"The best parameters are:\", gsearch_4.best_params_)\n",
    "print(\"Best AUC score = \",gsearch_4.best_score_)"
   ]
  },
  {
   "cell_type": "markdown",
   "id": "7f227991",
   "metadata": {},
   "source": [
    "#### Final search: `min_samples_leaf`"
   ]
  },
  {
   "cell_type": "code",
   "execution_count": null,
   "id": "d2d6762b",
   "metadata": {},
   "outputs": [
    {
     "name": "stdout",
     "output_type": "stream",
     "text": [
      "The best parameters are: {'min_samples_leaf': 20}\n",
      "Best AUC score =  0.8215943482097512\n",
      "CPU times: total: 2min 10s\n",
      "Wall time: 9min 46s\n"
     ]
    }
   ],
   "source": [
    "%%time\n",
    "\n",
    "param_test_5 = {\n",
    "    'min_samples_leaf': [1, 5, 10, 20, 50]\n",
    "}\n",
    "\n",
    "gsearch_5 = GridSearchCV(estimator = RandomForestClassifier(**best_params_GS, n_estimators=800, random_state = 42), \n",
    " param_grid = param_test_5, scoring='roc_auc',n_jobs=-1, cv=5)\n",
    "gsearch_5.fit(X_train,y_train)\n",
    "\n",
    "best_params_GS.update(gsearch_5.best_params_)\n",
    "print(\"The best parameters are:\", gsearch_5.best_params_)\n",
    "print(\"Best AUC score = \",gsearch_5.best_score_)"
   ]
  },
  {
   "cell_type": "code",
   "execution_count": null,
   "id": "3231fe33",
   "metadata": {},
   "outputs": [
    {
     "data": {
      "text/plain": [
       "{'max_depth': 15,\n",
       " 'max_features': 0.4,\n",
       " 'bootstrap': True,\n",
       " 'criterion': 'entropy',\n",
       " 'min_samples_split': 20,\n",
       " 'min_samples_leaf': 20}"
      ]
     },
     "execution_count": 57,
     "metadata": {},
     "output_type": "execute_result"
    }
   ],
   "source": [
    "#final list of tuned parameters\n",
    "best_params_GS"
   ]
  },
  {
   "cell_type": "markdown",
   "id": "ef132502",
   "metadata": {},
   "source": [
    "### Alternate: Using Random Search"
   ]
  },
  {
   "cell_type": "code",
   "execution_count": null,
   "id": "cd43691c",
   "metadata": {},
   "outputs": [
    {
     "name": "stdout",
     "output_type": "stream",
     "text": [
      "Fitting 5 folds for each of 50 candidates, totalling 250 fits\n",
      "Best parameters:\n",
      " {'max_features': 0.8, 'max_depth': 10, 'criterion': 'log_loss', 'bootstrap': True} \n",
      "\n",
      "Best AUC score =  0.8217319853994338\n",
      "CPU times: total: 4min 1s\n",
      "Wall time: 1h 38min\n"
     ]
    }
   ],
   "source": [
    "%%time\n",
    "\n",
    "parameters = {\n",
    "    'max_depth': range(5, 31, 5),\n",
    "    'max_features': list_feat,\n",
    "    'bootstrap': [True, False],\n",
    "    'criterion': ['gini', 'entropy', 'log_loss']\n",
    "}\n",
    "\n",
    "rf = RandomForestClassifier(n_estimators= 800, random_state = 42)\n",
    "\n",
    "random_search = RandomizedSearchCV(estimator = rf, n_iter = 50,\n",
    "                           param_distributions=parameters,\n",
    "                           scoring = 'roc_auc',\n",
    "                           n_jobs=-1, verbose=1, cv=5)\n",
    "\n",
    "random_search.fit(X_train, y_train)\n",
    "\n",
    "best_params_RS = random_search.best_params_\n",
    "\n",
    "print(\"Best parameters:\\n\",random_search.best_params_,\"\\n\")\n",
    "print(\"Best AUC score = \",random_search.best_score_)"
   ]
  },
  {
   "cell_type": "code",
   "execution_count": null,
   "id": "5ec8e040",
   "metadata": {},
   "outputs": [
    {
     "data": {
      "text/plain": [
       "{'max_features': 0.8,\n",
       " 'max_depth': 10,\n",
       " 'criterion': 'log_loss',\n",
       " 'bootstrap': True}"
      ]
     },
     "execution_count": 58,
     "metadata": {},
     "output_type": "execute_result"
    }
   ],
   "source": [
    "best_params_RS"
   ]
  },
  {
   "cell_type": "markdown",
   "id": "fbaa2d29",
   "metadata": {},
   "source": [
    "Choosing the grid search parameters"
   ]
  },
  {
   "cell_type": "code",
   "execution_count": null,
   "id": "df98c9e3",
   "metadata": {},
   "outputs": [],
   "source": [
    "best_params = best_params_GS#best_params_RS"
   ]
  }
 ],
 "metadata": {
  "kernelspec": {
   "display_name": "erdos_summer_2025",
   "language": "python",
   "name": "python3"
  },
  "language_info": {
   "codemirror_mode": {
    "name": "ipython",
    "version": 3
   },
   "file_extension": ".py",
   "mimetype": "text/x-python",
   "name": "python",
   "nbconvert_exporter": "python",
   "pygments_lexer": "ipython3",
   "version": "3.12.10"
  }
 },
 "nbformat": 4,
 "nbformat_minor": 5
}
