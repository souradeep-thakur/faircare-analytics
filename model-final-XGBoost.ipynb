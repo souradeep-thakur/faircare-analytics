{
 "cells": [
  {
   "cell_type": "markdown",
   "id": "3ca9ac46",
   "metadata": {},
   "source": [
    "# Final Calibrated XGBoost"
   ]
  },
  {
   "cell_type": "code",
   "execution_count": 130,
   "id": "93e1493a",
   "metadata": {},
   "outputs": [],
   "source": [
    "import pandas as pd\n",
    "import numpy as np\n",
    "import matplotlib.pyplot as plt\n",
    "import seaborn as sns"
   ]
  },
  {
   "cell_type": "code",
   "execution_count": 131,
   "id": "480bcc83",
   "metadata": {},
   "outputs": [],
   "source": [
    "from sklearn.compose import ColumnTransformer\n",
    "from sklearn.preprocessing import StandardScaler, OneHotEncoder\n",
    "from sklearn.pipeline import Pipeline\n",
    "from sklearn.model_selection import train_test_split, RandomizedSearchCV, GridSearchCV\n",
    "from sklearn.feature_selection import SelectFromModel\n",
    "import xgboost\n",
    "from xgboost.sklearn import XGBClassifier\n",
    "from sklearn.metrics import accuracy_score, roc_curve, roc_auc_score, auc, classification_report"
   ]
  },
  {
   "cell_type": "code",
   "execution_count": 132,
   "id": "fd3f37aa",
   "metadata": {},
   "outputs": [],
   "source": [
    "data = pd.read_csv('./data/data_processed.csv')\n",
    "\n",
    "data['target'] = data['readmitted'].isin(['<30','>30']).astype(int)\n",
    "\n",
    "data = data.drop(columns='readmitted')"
   ]
  },
  {
   "cell_type": "code",
   "execution_count": 133,
   "id": "b484f8db",
   "metadata": {},
   "outputs": [],
   "source": [
    "X = data.drop(columns = 'target')\n",
    "y = data['target']"
   ]
  },
  {
   "cell_type": "code",
   "execution_count": 134,
   "id": "9a3dd7d9",
   "metadata": {},
   "outputs": [],
   "source": [
    "X['strat_col'] = X['race'].astype(str) + \"_\" + data['target'].astype(str)\n",
    "X_train, X_test, y_train, y_test = train_test_split(X, y, test_size = 0.2, stratify = y, random_state = 42)\n",
    "X_train = X_train.drop(columns = ['strat_col' , 'race'])\n",
    "X_test = X_test.drop(columns = ['strat_col' , 'race'])"
   ]
  },
  {
   "cell_type": "code",
   "execution_count": 135,
   "id": "0ff8ed20",
   "metadata": {},
   "outputs": [],
   "source": [
    "#XGB = Pipeline(steps=[\n",
    "#    ('preprocessor', preprocessor), \n",
    "#    ('model', xgboost.XGBClassifier(**best_params, eval_metric='logloss', random_state=43))  \n",
    "#])\n",
    "#\n",
    "#X_train, X_test, y_train, y_test = train_test_split(X, y, test_size=0.2, stratify=y, random_state=43)\n",
    "#\n",
    "#XGB.fit(X_train, y_train)\n",
    "#\n",
    "#probs =XGB.predict_proba(X_test)\n",
    "#y_pred = (probs[:, 1]>=0.5)\n",
    "#\n",
    "#false_pos_rate, true_pos_rate, threshold = roc_curve(y_test, y_pred)\n",
    "#print(auc(false_pos_rate, true_pos_rate))\n",
    "#print(accuracy_score(y_test, y_pred))"
   ]
  },
  {
   "cell_type": "code",
   "execution_count": 136,
   "id": "45776ca5",
   "metadata": {},
   "outputs": [],
   "source": [
    "def custom_fit(alg, train_x, train_y, cv_folds=5, early_stopping_rounds=50):\n",
    "    \n",
    "    \n",
    "    xgb_parameters = alg.get_xgb_params()\n",
    "    xgb_train = xgboost.DMatrix(train_x.values, label=train_y.values)\n",
    "    cross_val = xgboost.cv(xgb_parameters, xgb_train, num_boost_round=alg.get_params()['n_estimators'], nfold=cv_folds,\n",
    "        metrics='auc', early_stopping_rounds=early_stopping_rounds)\n",
    "    alg.set_params(n_estimators=cross_val.shape[0])\n",
    "    \n",
    "    #fitting the training data\n",
    "    alg.fit(train_x, train_y)\n",
    "        \n",
    "    y_pred = alg.predict(train_x)\n",
    "    y_predprobs = alg.predict_proba(train_x)[:,1]\n",
    "    \n",
    "    print (\"\\nModel Report\")\n",
    "    print (\"Cassification report:\\n\", classification_report(train_y, y_pred))\n",
    "    print (\"Accuracy : %.4g\" % accuracy_score(train_y, y_pred))\n",
    "    print (\"AUC Score (Train): %f\" % roc_auc_score(train_y, y_predprobs))\n"
   ]
  },
  {
   "cell_type": "code",
   "execution_count": 137,
   "id": "ec143587",
   "metadata": {},
   "outputs": [
    {
     "name": "stdout",
     "output_type": "stream",
     "text": [
      "\n",
      "Model Report\n",
      "Cassification report:\n",
      "               precision    recall  f1-score   support\n",
      "\n",
      "           0       0.79      0.91      0.85     40814\n",
      "           1       0.88      0.73      0.80     36872\n",
      "\n",
      "    accuracy                           0.83     77686\n",
      "   macro avg       0.84      0.82      0.82     77686\n",
      "weighted avg       0.83      0.83      0.82     77686\n",
      "\n",
      "Accuracy : 0.8258\n",
      "AUC Score (Train): 0.896758\n"
     ]
    }
   ],
   "source": [
    "#features = X_train.columns.tolist()\n",
    "\n",
    "xgb = XGBClassifier(\n",
    " learning_rate =0.1,\n",
    " n_estimators=500,\n",
    " max_depth=5,\n",
    " min_child_weight=3,\n",
    " gamma=0.01,\n",
    " subsample=0.8,\n",
    " colsample_bytree=0.8,\n",
    " objective= 'binary:logistic',\n",
    " n_jobs=-1,\n",
    " scale_pos_weight=1,\n",
    " seed=42)\n",
    "\n",
    "custom_fit(xgb, X_train, y_train)"
   ]
  },
  {
   "cell_type": "code",
   "execution_count": null,
   "id": "1249d431",
   "metadata": {},
   "outputs": [
    {
     "data": {
      "text/plain": [
       "({'max_depth': 7, 'min_child_weight': 5}, np.float64(0.8763136033192191))"
      ]
     },
     "execution_count": 138,
     "metadata": {},
     "output_type": "execute_result"
    }
   ],
   "source": [
    "#Probably need to search in a smaller/different range for these\n",
    "param_test1 = {\n",
    " 'max_depth':range(3,10,2),\n",
    " 'min_child_weight':range(1,6,2)\n",
    "}\n",
    "gsearch1 = GridSearchCV(estimator = XGBClassifier( learning_rate =0.1, n_estimators=140, max_depth=5,\n",
    " min_child_weight=1, gamma=0, subsample=0.8, colsample_bytree=0.8,\n",
    " objective= 'binary:logistic', nthread=4, scale_pos_weight=1, seed=27), \n",
    " param_grid = param_test1, scoring='roc_auc',n_jobs=-1, cv=5)\n",
    "gsearch1.fit(X_train,y_train)\n",
    "#gsearch1.cv_results_, \n",
    "gsearch1.best_params_, gsearch1.best_score_"
   ]
  }
 ],
 "metadata": {
  "kernelspec": {
   "display_name": "erdos_summer_2025",
   "language": "python",
   "name": "python3"
  },
  "language_info": {
   "codemirror_mode": {
    "name": "ipython",
    "version": 3
   },
   "file_extension": ".py",
   "mimetype": "text/x-python",
   "name": "python",
   "nbconvert_exporter": "python",
   "pygments_lexer": "ipython3",
   "version": "3.12.10"
  }
 },
 "nbformat": 4,
 "nbformat_minor": 5
}
