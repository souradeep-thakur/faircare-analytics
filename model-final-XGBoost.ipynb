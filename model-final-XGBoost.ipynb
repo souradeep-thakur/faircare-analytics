{
 "cells": [
  {
   "cell_type": "markdown",
   "id": "3ca9ac46",
   "metadata": {},
   "source": [
    "# Final Calibrated XGBoost"
   ]
  },
  {
   "cell_type": "code",
   "execution_count": 1,
   "id": "93e1493a",
   "metadata": {},
   "outputs": [],
   "source": [
    "import pandas as pd\n",
    "import numpy as np\n",
    "import matplotlib.pyplot as plt\n",
    "import seaborn as sns"
   ]
  },
  {
   "cell_type": "code",
   "execution_count": 2,
   "id": "480bcc83",
   "metadata": {},
   "outputs": [],
   "source": [
    "from sklearn.compose import ColumnTransformer\n",
    "from sklearn.preprocessing import StandardScaler, OneHotEncoder\n",
    "from sklearn.pipeline import Pipeline\n",
    "from sklearn.model_selection import train_test_split, RandomizedSearchCV, GridSearchCV\n",
    "from sklearn.feature_selection import SelectFromModel\n",
    "import xgboost\n",
    "from xgboost.sklearn import XGBClassifier\n",
    "from sklearn.metrics import accuracy_score, roc_curve, roc_auc_score, auc, classification_report"
   ]
  },
  {
   "cell_type": "code",
   "execution_count": 3,
   "id": "fd3f37aa",
   "metadata": {},
   "outputs": [],
   "source": [
    "data = pd.read_csv('./data/data_processed.csv')\n",
    "\n",
    "data['target'] = data['readmitted'].isin(['<30','>30']).astype(int)\n",
    "\n",
    "data = data.drop(columns='readmitted')"
   ]
  },
  {
   "cell_type": "code",
   "execution_count": 4,
   "id": "b484f8db",
   "metadata": {},
   "outputs": [],
   "source": [
    "X = data.drop(columns = 'target')\n",
    "y = data['target']"
   ]
  },
  {
   "cell_type": "code",
   "execution_count": 5,
   "id": "9a3dd7d9",
   "metadata": {},
   "outputs": [],
   "source": [
    "X['strat_col'] = X['race'].astype(str) + \"_\" + data['target'].astype(str)\n",
    "X_train, X_test, y_train, y_test = train_test_split(X, y, test_size = 0.2, stratify = y, random_state = 42)\n",
    "X_train = X_train.drop(columns = ['strat_col' , 'race'])\n",
    "X_test = X_test.drop(columns = ['strat_col' , 'race'])"
   ]
  },
  {
   "cell_type": "code",
   "execution_count": 6,
   "id": "45776ca5",
   "metadata": {},
   "outputs": [],
   "source": [
    "def custom_fit(alg, train_x, train_y, cv_folds=5, early_stopping_rounds=50):\n",
    "    \n",
    "    \n",
    "    xgb_parameters = alg.get_xgb_params()\n",
    "    xgb_train = xgboost.DMatrix(train_x.values, label=train_y.values)\n",
    "    cross_val = xgboost.cv(xgb_parameters, xgb_train, num_boost_round=alg.get_params()['n_estimators'], nfold=cv_folds,\n",
    "        metrics='auc', early_stopping_rounds=early_stopping_rounds)\n",
    "    alg.set_params(n_estimators=cross_val.shape[0])\n",
    "    \n",
    "    #fitting the training data\n",
    "    alg.fit(train_x, train_y)\n",
    "        \n",
    "    y_pred = alg.predict(train_x)\n",
    "    y_predprobs = alg.predict_proba(train_x)[:,1]\n",
    "    \n",
    "    print (\"\\nModel Report\")\n",
    "    print (\"Cassification report:\\n\", classification_report(train_y, y_pred))\n",
    "    print (\"Accuracy : %.4g\" % accuracy_score(train_y, y_pred))\n",
    "    print (\"AUC Score (Train): %f\" % roc_auc_score(train_y, y_predprobs))\n"
   ]
  },
  {
   "cell_type": "code",
   "execution_count": 7,
   "id": "ec143587",
   "metadata": {},
   "outputs": [
    {
     "name": "stdout",
     "output_type": "stream",
     "text": [
      "\n",
      "Model Report\n",
      "Cassification report:\n",
      "               precision    recall  f1-score   support\n",
      "\n",
      "           0       0.79      0.91      0.85     40814\n",
      "           1       0.88      0.73      0.80     36872\n",
      "\n",
      "    accuracy                           0.83     77686\n",
      "   macro avg       0.84      0.82      0.82     77686\n",
      "weighted avg       0.83      0.83      0.82     77686\n",
      "\n",
      "Accuracy : 0.8258\n",
      "AUC Score (Train): 0.896758\n"
     ]
    }
   ],
   "source": [
    "#features = X_train.columns.tolist()\n",
    "\n",
    "xgb = XGBClassifier(\n",
    " learning_rate=0.1,\n",
    " n_estimators=500,\n",
    " max_depth=5,\n",
    " min_child_weight=3,\n",
    " gamma=0.01,\n",
    " subsample=0.8,\n",
    " colsample_bytree=0.8,\n",
    " objective= 'binary:logistic',\n",
    " n_jobs=-1,\n",
    " scale_pos_weight=1,\n",
    " seed=42)\n",
    "\n",
    "custom_fit(xgb, X_train, y_train)"
   ]
  },
  {
   "cell_type": "code",
   "execution_count": 8,
   "id": "1249d431",
   "metadata": {},
   "outputs": [
    {
     "data": {
      "text/plain": [
       "({'max_depth': 4, 'min_child_weight': 6}, np.float64(0.8757363071863793))"
      ]
     },
     "execution_count": 8,
     "metadata": {},
     "output_type": "execute_result"
    }
   ],
   "source": [
    "#Probably need to search in a smaller/different range for these\n",
    "param_test1 = {\n",
    " 'max_depth':range(1,10,1),\n",
    " 'min_child_weight':range(1,7,1)\n",
    "}\n",
    "gsearch1 = GridSearchCV(estimator = XGBClassifier( learning_rate =0.1, n_estimators=500, max_depth=5,\n",
    " min_child_weight=1, gamma=0, subsample=0.8, colsample_bytree=0.8,\n",
    " objective= 'binary:logistic', nthread=4, scale_pos_weight=1, seed=42), \n",
    " param_grid = param_test1, scoring='roc_auc',n_jobs=-1, cv=5)\n",
    "gsearch1.fit(X_train,y_train)\n",
    "#gsearch1.cv_results_, \n",
    "gsearch1.best_params_, gsearch1.best_score_"
   ]
  },
  {
   "cell_type": "code",
   "execution_count": 12,
   "id": "36b1c099",
   "metadata": {},
   "outputs": [
    {
     "name": "stdout",
     "output_type": "stream",
     "text": [
      "Fitting 5 folds for each of 50 candidates, totalling 250 fits\n",
      "{'subsample': np.float64(0.8888888888888888), 'reg_lambda': np.float64(0.00046415888336127773), 'reg_alpha': np.float64(4.641588833612772), 'n_estimators': 900, 'min_child_weight': 9, 'max_depth': 5, 'learning_rate': np.float64(0.046415888336127774), 'gamma': np.float64(0.8888888888888888), 'colsample_bytree': np.float64(0.7222222222222222)}\n",
      "0.8773121393971449\n",
      "CPU times: total: 7.86 s\n",
      "Wall time: 2min 54s\n"
     ]
    }
   ],
   "source": [
    "%%time\n",
    "#XGB calibration:\n",
    "\n",
    "parameters = {\n",
    "    'max_depth': range(3, 11, 1),\n",
    "    'min_child_weight': range(1, 11, 1),\n",
    "    'gamma': np.linspace(0, 1, 10),\n",
    "    'subsample': np.linspace(0.5, 1, 10),\n",
    "    'colsample_bytree': np.linspace(0.5, 1, 10),\n",
    "    'n_estimators': range(200, 1000, 100),\n",
    "    'learning_rate': np.logspace(-3,0,10),\n",
    "    'reg_alpha': np.logspace(-4,2,10),\n",
    "    'reg_lambda': np.logspace(-4,2,10)\n",
    "}\n",
    "\n",
    "xgb = XGBClassifier(objective= 'binary:logistic', random_state = 42)\n",
    "\n",
    "grid_search = RandomizedSearchCV(estimator = xgb, n_iter = 50,\n",
    "                           param_distributions=parameters,\n",
    "                           scoring = 'roc_auc',\n",
    "                           n_jobs=-1, verbose=1, cv=5)\n",
    "\n",
    "grid_search.fit(X_train, y_train)\n",
    "\n",
    "params1 = grid_search.best_params_\n",
    "\n",
    "print(grid_search.best_params_)\n",
    "print(grid_search.best_score_)"
   ]
  },
  {
   "cell_type": "code",
   "execution_count": 15,
   "id": "6c0bc03c",
   "metadata": {},
   "outputs": [
    {
     "name": "stderr",
     "output_type": "stream",
     "text": [
      "c:\\Users\\Souradeep\\anaconda3\\envs\\erdos_summer_2025\\Lib\\site-packages\\xgboost\\core.py:158: UserWarning: [23:41:38] WARNING: D:\\bld\\xgboost-split_1744329010901\\work\\src\\learner.cc:740: \n",
      "Parameters: { \"object\" } are not used.\n",
      "\n",
      "  warnings.warn(smsg, UserWarning)\n",
      "c:\\Users\\Souradeep\\anaconda3\\envs\\erdos_summer_2025\\Lib\\site-packages\\xgboost\\core.py:158: UserWarning: [23:41:39] WARNING: D:\\bld\\xgboost-split_1744329010901\\work\\src\\learner.cc:740: \n",
      "Parameters: { \"object\" } are not used.\n",
      "\n",
      "  warnings.warn(smsg, UserWarning)\n",
      "c:\\Users\\Souradeep\\anaconda3\\envs\\erdos_summer_2025\\Lib\\site-packages\\xgboost\\core.py:158: UserWarning: [23:42:02] WARNING: D:\\bld\\xgboost-split_1744329010901\\work\\src\\learner.cc:740: \n",
      "Parameters: { \"object\" } are not used.\n",
      "\n",
      "  warnings.warn(smsg, UserWarning)\n"
     ]
    },
    {
     "name": "stdout",
     "output_type": "stream",
     "text": [
      "\n",
      "Model Report\n",
      "Cassification report:\n",
      "               precision    recall  f1-score   support\n",
      "\n",
      "           0       0.79      0.91      0.84     40814\n",
      "           1       0.88      0.73      0.80     36872\n",
      "\n",
      "    accuracy                           0.82     77686\n",
      "   macro avg       0.83      0.82      0.82     77686\n",
      "weighted avg       0.83      0.82      0.82     77686\n",
      "\n",
      "Accuracy : 0.824\n",
      "AUC Score (Train): 0.895707\n"
     ]
    }
   ],
   "source": [
    "xgbCal = XGBClassifier(**params1, object = 'binary:logistic', random_state=42)\n",
    "\n",
    "custom_fit(xgbCal, X_train, y_train)\n",
    "#xgbCal.get_params()"
   ]
  },
  {
   "cell_type": "code",
   "execution_count": 15,
   "id": "29003062",
   "metadata": {},
   "outputs": [
    {
     "data": {
      "text/plain": [
       "array([0.5  , 0.625, 0.75 , 0.875, 1.   ])"
      ]
     },
     "execution_count": 15,
     "metadata": {},
     "output_type": "execute_result"
    }
   ],
   "source": [
    "np.linspace(0.5,1,5)"
   ]
  },
  {
   "cell_type": "code",
   "execution_count": 18,
   "id": "b6f130db",
   "metadata": {},
   "outputs": [
    {
     "data": {
      "text/plain": [
       "array([0.5       , 0.55555556, 0.61111111, 0.66666667, 0.72222222,\n",
       "       0.77777778, 0.83333333, 0.88888889, 0.94444444, 1.        ])"
      ]
     },
     "execution_count": 18,
     "metadata": {},
     "output_type": "execute_result"
    }
   ],
   "source": [
    "np.linspace(0.5, 1, 10)"
   ]
  },
  {
   "cell_type": "code",
   "execution_count": 26,
   "id": "068a14f1",
   "metadata": {},
   "outputs": [],
   "source": [
    "a = [0].extend(np.logspace(-3,3,10).tolist())"
   ]
  },
  {
   "cell_type": "code",
   "execution_count": 29,
   "id": "ab6c669c",
   "metadata": {},
   "outputs": [
    {
     "name": "stdout",
     "output_type": "stream",
     "text": [
      "None\n"
     ]
    }
   ],
   "source": [
    "print(a)"
   ]
  },
  {
   "cell_type": "code",
   "execution_count": 30,
   "id": "6db8e7fe",
   "metadata": {},
   "outputs": [],
   "source": [
    "a=[0]"
   ]
  },
  {
   "cell_type": "code",
   "execution_count": 33,
   "id": "e824544c",
   "metadata": {},
   "outputs": [
    {
     "name": "stdout",
     "output_type": "stream",
     "text": [
      "None\n"
     ]
    }
   ],
   "source": [
    "print(a.extend(np.logspace(-3,3,10).tolist()))"
   ]
  },
  {
   "cell_type": "code",
   "execution_count": null,
   "id": "5396d76e",
   "metadata": {},
   "outputs": [],
   "source": []
  }
 ],
 "metadata": {
  "kernelspec": {
   "display_name": "erdos_summer_2025",
   "language": "python",
   "name": "python3"
  },
  "language_info": {
   "codemirror_mode": {
    "name": "ipython",
    "version": 3
   },
   "file_extension": ".py",
   "mimetype": "text/x-python",
   "name": "python",
   "nbconvert_exporter": "python",
   "pygments_lexer": "ipython3",
   "version": "3.12.10"
  }
 },
 "nbformat": 4,
 "nbformat_minor": 5
}
