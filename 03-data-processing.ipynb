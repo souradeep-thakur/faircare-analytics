{
 "cells": [
  {
   "cell_type": "markdown",
   "id": "bde8d38b",
   "metadata": {},
   "source": [
    "# Data processing/feature engineering"
   ]
  },
  {
   "cell_type": "code",
   "execution_count": 136,
   "id": "f85bf018",
   "metadata": {},
   "outputs": [],
   "source": [
    "import pandas as pd\n",
    "import numpy as np\n",
    "import matplotlib.pyplot as plt\n",
    "import seaborn as sns\n",
    "\n",
    "sns.set_style(\"whitegrid\")"
   ]
  },
  {
   "cell_type": "code",
   "execution_count": 137,
   "id": "824e177b",
   "metadata": {},
   "outputs": [],
   "source": [
    "#read clean dataset\n",
    "data = pd.read_csv('data/dataset_clean.csv')"
   ]
  },
  {
   "cell_type": "code",
   "execution_count": 138,
   "id": "3c38e77f",
   "metadata": {},
   "outputs": [
    {
     "data": {
      "text/html": [
       "<div>\n",
       "<style scoped>\n",
       "    .dataframe tbody tr th:only-of-type {\n",
       "        vertical-align: middle;\n",
       "    }\n",
       "\n",
       "    .dataframe tbody tr th {\n",
       "        vertical-align: top;\n",
       "    }\n",
       "\n",
       "    .dataframe thead th {\n",
       "        text-align: right;\n",
       "    }\n",
       "</style>\n",
       "<table border=\"1\" class=\"dataframe\">\n",
       "  <thead>\n",
       "    <tr style=\"text-align: right;\">\n",
       "      <th></th>\n",
       "      <th>encounter_id</th>\n",
       "      <th>patient_nbr</th>\n",
       "      <th>race</th>\n",
       "      <th>gender</th>\n",
       "      <th>age</th>\n",
       "      <th>admission_type_id</th>\n",
       "      <th>discharge_disposition_id</th>\n",
       "      <th>admission_source_id</th>\n",
       "      <th>time_in_hospital</th>\n",
       "      <th>num_lab_procedures</th>\n",
       "      <th>...</th>\n",
       "      <th>citoglipton</th>\n",
       "      <th>insulin</th>\n",
       "      <th>glyburide-metformin</th>\n",
       "      <th>glipizide-metformin</th>\n",
       "      <th>glimepiride-pioglitazone</th>\n",
       "      <th>metformin-rosiglitazone</th>\n",
       "      <th>metformin-pioglitazone</th>\n",
       "      <th>change</th>\n",
       "      <th>diabetesMed</th>\n",
       "      <th>readmitted</th>\n",
       "    </tr>\n",
       "  </thead>\n",
       "  <tbody>\n",
       "    <tr>\n",
       "      <th>0</th>\n",
       "      <td>2278392</td>\n",
       "      <td>8222157</td>\n",
       "      <td>Caucasian</td>\n",
       "      <td>Female</td>\n",
       "      <td>[0-10)</td>\n",
       "      <td>6</td>\n",
       "      <td>25</td>\n",
       "      <td>1</td>\n",
       "      <td>1</td>\n",
       "      <td>41</td>\n",
       "      <td>...</td>\n",
       "      <td>No</td>\n",
       "      <td>No</td>\n",
       "      <td>No</td>\n",
       "      <td>No</td>\n",
       "      <td>No</td>\n",
       "      <td>No</td>\n",
       "      <td>No</td>\n",
       "      <td>No</td>\n",
       "      <td>No</td>\n",
       "      <td>NO</td>\n",
       "    </tr>\n",
       "    <tr>\n",
       "      <th>1</th>\n",
       "      <td>149190</td>\n",
       "      <td>55629189</td>\n",
       "      <td>Caucasian</td>\n",
       "      <td>Female</td>\n",
       "      <td>[10-20)</td>\n",
       "      <td>1</td>\n",
       "      <td>1</td>\n",
       "      <td>7</td>\n",
       "      <td>3</td>\n",
       "      <td>59</td>\n",
       "      <td>...</td>\n",
       "      <td>No</td>\n",
       "      <td>Up</td>\n",
       "      <td>No</td>\n",
       "      <td>No</td>\n",
       "      <td>No</td>\n",
       "      <td>No</td>\n",
       "      <td>No</td>\n",
       "      <td>Ch</td>\n",
       "      <td>Yes</td>\n",
       "      <td>&gt;30</td>\n",
       "    </tr>\n",
       "    <tr>\n",
       "      <th>2</th>\n",
       "      <td>64410</td>\n",
       "      <td>86047875</td>\n",
       "      <td>AfricanAmerican</td>\n",
       "      <td>Female</td>\n",
       "      <td>[20-30)</td>\n",
       "      <td>1</td>\n",
       "      <td>1</td>\n",
       "      <td>7</td>\n",
       "      <td>2</td>\n",
       "      <td>11</td>\n",
       "      <td>...</td>\n",
       "      <td>No</td>\n",
       "      <td>No</td>\n",
       "      <td>No</td>\n",
       "      <td>No</td>\n",
       "      <td>No</td>\n",
       "      <td>No</td>\n",
       "      <td>No</td>\n",
       "      <td>No</td>\n",
       "      <td>Yes</td>\n",
       "      <td>NO</td>\n",
       "    </tr>\n",
       "    <tr>\n",
       "      <th>3</th>\n",
       "      <td>500364</td>\n",
       "      <td>82442376</td>\n",
       "      <td>Caucasian</td>\n",
       "      <td>Male</td>\n",
       "      <td>[30-40)</td>\n",
       "      <td>1</td>\n",
       "      <td>1</td>\n",
       "      <td>7</td>\n",
       "      <td>2</td>\n",
       "      <td>44</td>\n",
       "      <td>...</td>\n",
       "      <td>No</td>\n",
       "      <td>Up</td>\n",
       "      <td>No</td>\n",
       "      <td>No</td>\n",
       "      <td>No</td>\n",
       "      <td>No</td>\n",
       "      <td>No</td>\n",
       "      <td>Ch</td>\n",
       "      <td>Yes</td>\n",
       "      <td>NO</td>\n",
       "    </tr>\n",
       "    <tr>\n",
       "      <th>4</th>\n",
       "      <td>16680</td>\n",
       "      <td>42519267</td>\n",
       "      <td>Caucasian</td>\n",
       "      <td>Male</td>\n",
       "      <td>[40-50)</td>\n",
       "      <td>1</td>\n",
       "      <td>1</td>\n",
       "      <td>7</td>\n",
       "      <td>1</td>\n",
       "      <td>51</td>\n",
       "      <td>...</td>\n",
       "      <td>No</td>\n",
       "      <td>Steady</td>\n",
       "      <td>No</td>\n",
       "      <td>No</td>\n",
       "      <td>No</td>\n",
       "      <td>No</td>\n",
       "      <td>No</td>\n",
       "      <td>Ch</td>\n",
       "      <td>Yes</td>\n",
       "      <td>NO</td>\n",
       "    </tr>\n",
       "    <tr>\n",
       "      <th>...</th>\n",
       "      <td>...</td>\n",
       "      <td>...</td>\n",
       "      <td>...</td>\n",
       "      <td>...</td>\n",
       "      <td>...</td>\n",
       "      <td>...</td>\n",
       "      <td>...</td>\n",
       "      <td>...</td>\n",
       "      <td>...</td>\n",
       "      <td>...</td>\n",
       "      <td>...</td>\n",
       "      <td>...</td>\n",
       "      <td>...</td>\n",
       "      <td>...</td>\n",
       "      <td>...</td>\n",
       "      <td>...</td>\n",
       "      <td>...</td>\n",
       "      <td>...</td>\n",
       "      <td>...</td>\n",
       "      <td>...</td>\n",
       "      <td>...</td>\n",
       "    </tr>\n",
       "    <tr>\n",
       "      <th>97104</th>\n",
       "      <td>443847548</td>\n",
       "      <td>100162476</td>\n",
       "      <td>AfricanAmerican</td>\n",
       "      <td>Male</td>\n",
       "      <td>[70-80)</td>\n",
       "      <td>1</td>\n",
       "      <td>3</td>\n",
       "      <td>7</td>\n",
       "      <td>3</td>\n",
       "      <td>51</td>\n",
       "      <td>...</td>\n",
       "      <td>No</td>\n",
       "      <td>Down</td>\n",
       "      <td>No</td>\n",
       "      <td>No</td>\n",
       "      <td>No</td>\n",
       "      <td>No</td>\n",
       "      <td>No</td>\n",
       "      <td>Ch</td>\n",
       "      <td>Yes</td>\n",
       "      <td>&gt;30</td>\n",
       "    </tr>\n",
       "    <tr>\n",
       "      <th>97105</th>\n",
       "      <td>443847782</td>\n",
       "      <td>74694222</td>\n",
       "      <td>AfricanAmerican</td>\n",
       "      <td>Female</td>\n",
       "      <td>[80-90)</td>\n",
       "      <td>1</td>\n",
       "      <td>4</td>\n",
       "      <td>5</td>\n",
       "      <td>5</td>\n",
       "      <td>33</td>\n",
       "      <td>...</td>\n",
       "      <td>No</td>\n",
       "      <td>Steady</td>\n",
       "      <td>No</td>\n",
       "      <td>No</td>\n",
       "      <td>No</td>\n",
       "      <td>No</td>\n",
       "      <td>No</td>\n",
       "      <td>No</td>\n",
       "      <td>Yes</td>\n",
       "      <td>NO</td>\n",
       "    </tr>\n",
       "    <tr>\n",
       "      <th>97106</th>\n",
       "      <td>443854148</td>\n",
       "      <td>41088789</td>\n",
       "      <td>Caucasian</td>\n",
       "      <td>Male</td>\n",
       "      <td>[70-80)</td>\n",
       "      <td>1</td>\n",
       "      <td>1</td>\n",
       "      <td>7</td>\n",
       "      <td>1</td>\n",
       "      <td>53</td>\n",
       "      <td>...</td>\n",
       "      <td>No</td>\n",
       "      <td>Down</td>\n",
       "      <td>No</td>\n",
       "      <td>No</td>\n",
       "      <td>No</td>\n",
       "      <td>No</td>\n",
       "      <td>No</td>\n",
       "      <td>Ch</td>\n",
       "      <td>Yes</td>\n",
       "      <td>NO</td>\n",
       "    </tr>\n",
       "    <tr>\n",
       "      <th>97107</th>\n",
       "      <td>443857166</td>\n",
       "      <td>31693671</td>\n",
       "      <td>Caucasian</td>\n",
       "      <td>Female</td>\n",
       "      <td>[80-90)</td>\n",
       "      <td>2</td>\n",
       "      <td>3</td>\n",
       "      <td>7</td>\n",
       "      <td>10</td>\n",
       "      <td>45</td>\n",
       "      <td>...</td>\n",
       "      <td>No</td>\n",
       "      <td>Up</td>\n",
       "      <td>No</td>\n",
       "      <td>No</td>\n",
       "      <td>No</td>\n",
       "      <td>No</td>\n",
       "      <td>No</td>\n",
       "      <td>Ch</td>\n",
       "      <td>Yes</td>\n",
       "      <td>NO</td>\n",
       "    </tr>\n",
       "    <tr>\n",
       "      <th>97108</th>\n",
       "      <td>443867222</td>\n",
       "      <td>175429310</td>\n",
       "      <td>Caucasian</td>\n",
       "      <td>Male</td>\n",
       "      <td>[70-80)</td>\n",
       "      <td>1</td>\n",
       "      <td>1</td>\n",
       "      <td>7</td>\n",
       "      <td>6</td>\n",
       "      <td>13</td>\n",
       "      <td>...</td>\n",
       "      <td>No</td>\n",
       "      <td>No</td>\n",
       "      <td>No</td>\n",
       "      <td>No</td>\n",
       "      <td>No</td>\n",
       "      <td>No</td>\n",
       "      <td>No</td>\n",
       "      <td>No</td>\n",
       "      <td>No</td>\n",
       "      <td>NO</td>\n",
       "    </tr>\n",
       "  </tbody>\n",
       "</table>\n",
       "<p>97109 rows × 47 columns</p>\n",
       "</div>"
      ],
      "text/plain": [
       "       encounter_id  patient_nbr             race  gender      age  \\\n",
       "0           2278392      8222157        Caucasian  Female   [0-10)   \n",
       "1            149190     55629189        Caucasian  Female  [10-20)   \n",
       "2             64410     86047875  AfricanAmerican  Female  [20-30)   \n",
       "3            500364     82442376        Caucasian    Male  [30-40)   \n",
       "4             16680     42519267        Caucasian    Male  [40-50)   \n",
       "...             ...          ...              ...     ...      ...   \n",
       "97104     443847548    100162476  AfricanAmerican    Male  [70-80)   \n",
       "97105     443847782     74694222  AfricanAmerican  Female  [80-90)   \n",
       "97106     443854148     41088789        Caucasian    Male  [70-80)   \n",
       "97107     443857166     31693671        Caucasian  Female  [80-90)   \n",
       "97108     443867222    175429310        Caucasian    Male  [70-80)   \n",
       "\n",
       "       admission_type_id  discharge_disposition_id  admission_source_id  \\\n",
       "0                      6                        25                    1   \n",
       "1                      1                         1                    7   \n",
       "2                      1                         1                    7   \n",
       "3                      1                         1                    7   \n",
       "4                      1                         1                    7   \n",
       "...                  ...                       ...                  ...   \n",
       "97104                  1                         3                    7   \n",
       "97105                  1                         4                    5   \n",
       "97106                  1                         1                    7   \n",
       "97107                  2                         3                    7   \n",
       "97108                  1                         1                    7   \n",
       "\n",
       "       time_in_hospital  num_lab_procedures  ...  citoglipton  insulin  \\\n",
       "0                     1                  41  ...           No       No   \n",
       "1                     3                  59  ...           No       Up   \n",
       "2                     2                  11  ...           No       No   \n",
       "3                     2                  44  ...           No       Up   \n",
       "4                     1                  51  ...           No   Steady   \n",
       "...                 ...                 ...  ...          ...      ...   \n",
       "97104                 3                  51  ...           No     Down   \n",
       "97105                 5                  33  ...           No   Steady   \n",
       "97106                 1                  53  ...           No     Down   \n",
       "97107                10                  45  ...           No       Up   \n",
       "97108                 6                  13  ...           No       No   \n",
       "\n",
       "       glyburide-metformin  glipizide-metformin  glimepiride-pioglitazone  \\\n",
       "0                       No                   No                        No   \n",
       "1                       No                   No                        No   \n",
       "2                       No                   No                        No   \n",
       "3                       No                   No                        No   \n",
       "4                       No                   No                        No   \n",
       "...                    ...                  ...                       ...   \n",
       "97104                   No                   No                        No   \n",
       "97105                   No                   No                        No   \n",
       "97106                   No                   No                        No   \n",
       "97107                   No                   No                        No   \n",
       "97108                   No                   No                        No   \n",
       "\n",
       "      metformin-rosiglitazone metformin-pioglitazone change  diabetesMed  \\\n",
       "0                          No                     No     No           No   \n",
       "1                          No                     No     Ch          Yes   \n",
       "2                          No                     No     No          Yes   \n",
       "3                          No                     No     Ch          Yes   \n",
       "4                          No                     No     Ch          Yes   \n",
       "...                       ...                    ...    ...          ...   \n",
       "97104                      No                     No     Ch          Yes   \n",
       "97105                      No                     No     No          Yes   \n",
       "97106                      No                     No     Ch          Yes   \n",
       "97107                      No                     No     Ch          Yes   \n",
       "97108                      No                     No     No           No   \n",
       "\n",
       "      readmitted  \n",
       "0             NO  \n",
       "1            >30  \n",
       "2             NO  \n",
       "3             NO  \n",
       "4             NO  \n",
       "...          ...  \n",
       "97104        >30  \n",
       "97105         NO  \n",
       "97106         NO  \n",
       "97107         NO  \n",
       "97108         NO  \n",
       "\n",
       "[97109 rows x 47 columns]"
      ]
     },
     "execution_count": 138,
     "metadata": {},
     "output_type": "execute_result"
    }
   ],
   "source": [
    "data"
   ]
  },
  {
   "cell_type": "markdown",
   "id": "dba2fde1",
   "metadata": {},
   "source": [
    "#### Removing drug features\n",
    "\n",
    "There are multiple drug features in the dataset that were never prescribed to a patient. We will remove all instances of such features if more than 95% of the patients were not presecribed."
   ]
  },
  {
   "cell_type": "code",
   "execution_count": 139,
   "id": "8eb911dd",
   "metadata": {},
   "outputs": [],
   "source": [
    "#list of all drug features\n",
    "drugs = np.array(['metformin',\n",
    "        'repaglinide',\n",
    "        'nateglinide',\n",
    "        'chlorpropamide',\n",
    "        'glimepiride',\n",
    "        'acetohexamide',\n",
    "        'glipizide',\n",
    "        'glyburide',\n",
    "        'tolbutamide',\n",
    "        'pioglitazone',\n",
    "        'rosiglitazone',\n",
    "        'acarbose',\n",
    "        'miglitol',\n",
    "        'troglitazone',\n",
    "        'tolazamide',\n",
    "        'examide',\n",
    "        'citoglipton',\n",
    "        'insulin',\n",
    "        'glyburide-metformin',\n",
    "        'glipizide-metformin',\n",
    "        'glimepiride-pioglitazone',\n",
    "        'metformin-rosiglitazone',\n",
    "        'metformin-pioglitazone'])"
   ]
  },
  {
   "cell_type": "code",
   "execution_count": 140,
   "id": "9c354b36",
   "metadata": {},
   "outputs": [],
   "source": [
    "#dropping drug columns if more than 95% of the values are No = not prescribed\n",
    "dropped_drug_cols = []\n",
    "\n",
    "for d in drugs:\n",
    "    counts = data[d].value_counts()\n",
    "    if (counts['No']>0.95*len(data)):\n",
    "        dropped_drug_cols.append(d)\n",
    "\n",
    "#storing a list of features that remain\n",
    "accepted_drug_cols = np.setdiff1d(drugs, dropped_drug_cols).tolist()\n",
    "\n",
    "data = data.drop(columns = dropped_drug_cols)\n"
   ]
  },
  {
   "cell_type": "markdown",
   "id": "161603dc",
   "metadata": {},
   "source": [
    "#### Grouping the industry standard codes"
   ]
  },
  {
   "cell_type": "code",
   "execution_count": 141,
   "id": "1e7f1b73",
   "metadata": {},
   "outputs": [],
   "source": [
    "data['admission_urg_ind'] = (data['admission_type_id'].isin([1,2,7])).astype(int)\n",
    "data['admission_nurg_ind'] = (data['admission_type_id'].isin([3,4])).astype(int)\n",
    "data['admission_none_ind'] = (data['admission_type_id'].isin([5,6,8])).astype(int)\n",
    "\n",
    "data= data.drop(columns='admission_type_id')"
   ]
  },
  {
   "cell_type": "code",
   "execution_count": 142,
   "id": "3f0f9687",
   "metadata": {},
   "outputs": [],
   "source": [
    "data['discharge_shortterm_ind'] = (data['discharge_disposition_id'].isin([1,2,9,10,16,17,28,29])).astype(int)\n",
    "data['discharge_longterm_ind'] = (data['discharge_disposition_id'].isin([3,4,5,6,7,8,12,15,22,23,24,30,28])).astype(int)\n",
    "data['discharge_none_ind'] = (data['discharge_disposition_id'].isin([18,25,26])).astype(int)\n",
    "\n",
    "data = data.drop(columns='discharge_disposition_id')"
   ]
  },
  {
   "cell_type": "code",
   "execution_count": 143,
   "id": "89cd7c31",
   "metadata": {},
   "outputs": [],
   "source": [
    "data['admission_source_1'] = (data['admission_source_id'].isin([1,2,3,4,5,6,10,18,19,22,25,26])).astype(int)\n",
    "data['admission_source_2'] = (data['admission_source_id'].isin([8,11,12,13,14,23,24])).astype(int)\n",
    "data['admission_source_3'] = (data['admission_source_id'].isin([9,15,17,20,21])).astype(int)\n",
    "\n",
    "data = data.drop(columns='admission_source_id')\n"
   ]
  },
  {
   "cell_type": "markdown",
   "id": "22527cd5",
   "metadata": {},
   "source": [
    "#### Encoding the feature: `race`"
   ]
  },
  {
   "cell_type": "code",
   "execution_count": 144,
   "id": "b1f51f04",
   "metadata": {},
   "outputs": [
    {
     "data": {
      "text/plain": [
       "race\n",
       "Caucasian          74220\n",
       "AfricanAmerican    18772\n",
       "Hispanic            2017\n",
       "Other               1472\n",
       "Asian                628\n",
       "Name: count, dtype: int64"
      ]
     },
     "execution_count": 144,
     "metadata": {},
     "output_type": "execute_result"
    }
   ],
   "source": [
    "data['race'].value_counts()"
   ]
  },
  {
   "cell_type": "code",
   "execution_count": 145,
   "id": "42f33d96",
   "metadata": {},
   "outputs": [],
   "source": [
    "#One-hot encoding manually. Not using get_dummies to control the column name\n",
    "\n",
    "data['caucasian_ind'] = data['race'].isin(['Caucasian']).astype(int)\n",
    "data['africanamerican_ind'] = data['race'].isin(['AfricanAmerican']).astype(int)\n",
    "data['hispanic_ind'] = data['race'].isin(['Hispanic']).astype(int)\n",
    "data['asian_ind'] = data['race'].isin(['Asian']).astype(int)\n",
    "data['otherrace_ind'] = data['race'].isin(['Other']).astype(int)\n",
    "\n",
    "dropped_columns = ['patient_nbr', 'encounter_id']"
   ]
  },
  {
   "cell_type": "markdown",
   "id": "a73d9a11",
   "metadata": {},
   "source": [
    "#### Encoding the feature: `gender`"
   ]
  },
  {
   "cell_type": "code",
   "execution_count": 146,
   "id": "495ea129",
   "metadata": {},
   "outputs": [
    {
     "data": {
      "text/plain": [
       "gender\n",
       "Female             52336\n",
       "Male               44772\n",
       "Unknown/Invalid        1\n",
       "Name: count, dtype: int64"
      ]
     },
     "execution_count": 146,
     "metadata": {},
     "output_type": "execute_result"
    }
   ],
   "source": [
    "data['gender'].value_counts()"
   ]
  },
  {
   "cell_type": "code",
   "execution_count": 147,
   "id": "3948645f",
   "metadata": {},
   "outputs": [],
   "source": [
    "#dropping entry with Unkown/invalid gender\n",
    "data = data.drop(data['gender'].loc[data['gender'] == 'Unknown/Invalid'].index)\n",
    "\n",
    "data['female_ind'] = data['gender'].isin(['Female']).astype(int)\n",
    "data['male_ind'] = data['gender'].isin(['Male']).astype(int)\n",
    "\n",
    "dropped_columns.append('gender')"
   ]
  },
  {
   "cell_type": "markdown",
   "id": "4265aec5",
   "metadata": {},
   "source": [
    "#### Encoding the feature: `age`"
   ]
  },
  {
   "cell_type": "code",
   "execution_count": 148,
   "id": "16bd54f5",
   "metadata": {},
   "outputs": [
    {
     "data": {
      "text/plain": [
       "age\n",
       "[70-80)     24743\n",
       "[60-70)     21572\n",
       "[50-60)     16701\n",
       "[80-90)     16049\n",
       "[40-50)      9389\n",
       "[30-40)      3688\n",
       "[90-100)     2522\n",
       "[20-30)      1603\n",
       "[10-20)       682\n",
       "[0-10)        159\n",
       "Name: count, dtype: int64"
      ]
     },
     "execution_count": 148,
     "metadata": {},
     "output_type": "execute_result"
    }
   ],
   "source": [
    "data.age.value_counts()"
   ]
  },
  {
   "cell_type": "code",
   "execution_count": 149,
   "id": "c5f8c558",
   "metadata": {},
   "outputs": [],
   "source": [
    "#Using Tam's code here\n",
    "from sklearn.preprocessing import LabelEncoder\n",
    "label_encoder = LabelEncoder()\n",
    "#it's cool to use LabelEncoder here because our 'age' column actually sorted in ascending 'alphabetical' order\n",
    "#faircare_pd = pd.DataFrame(faircare)\n",
    "#this is a choice to use LabelEncoder instead of replacing with a dictionary. We'll use a dictionary for replacing other column entries with numbers\n",
    "data['age'] = label_encoder.fit_transform(data['age']).astype(int)\n"
   ]
  },
  {
   "cell_type": "markdown",
   "id": "6386478b",
   "metadata": {},
   "source": [
    "#### Encoding the diagnoses\n",
    "\n",
    "Features `diag_1`, `diag_2`, and `diag_3` contain >800 distinct alphanumeric diagnosis codes (ICD-9). We will group them as follows:\n",
    "- 001–139: infectious and parasitic diseases\n",
    "- 140–239: neoplasms\n",
    "- 240–279: endocrine, nutritional and metabolic diseases, and immunity disorders\n",
    "- 280–289: diseases of the blood and blood-forming organs\n",
    "- 290–319: mental disorders\n",
    "- 320–389: diseases of the nervous system and sense organs\n",
    "- 390–459: diseases of the circulatory system\n",
    "- 460–519: diseases of the respiratory system\n",
    "- 520–579: diseases of the digestive system\n",
    "- 580–629: diseases of the genitourinary system\n",
    "- 630–679: complications of pregnancy, childbirth, and the puerperium\n",
    "- 680–709: diseases of the skin and subcutaneous tissue\n",
    "- 710–739: diseases of the musculoskeletal system and connective tissue\n",
    "- 740–759: congenital anomalies\n",
    "- 760–779: certain conditions originating in the perinatal period\n",
    "- 780–799: symptoms, signs, and ill-defined conditions\n",
    "- 800–999: injury and poisoning\n",
    "- E and V codes: external causes of injury and supplemental classification\n",
    "\n",
    "Note that there are multiple distinct codes for external causes (E000 - E999) as well as for supplementary factors (V01 - V82), however they will be grouped together.\n",
    "\n",
    "Additionally, we will add features corresponding to diagnoses which are correlated with most readmissions."
   ]
  },
  {
   "cell_type": "code",
   "execution_count": 150,
   "id": "e6323d01",
   "metadata": {},
   "outputs": [
    {
     "data": {
      "text/plain": [
       "diag\n",
       "428       2329\n",
       "276       1641\n",
       "250       1409\n",
       "427       1249\n",
       "414       1131\n",
       "401        971\n",
       "403        882\n",
       "599        760\n",
       "496        709\n",
       "585        607\n",
       "491        543\n",
       "250.6      542\n",
       "486        519\n",
       "707        513\n",
       "584        510\n",
       "780        478\n",
       "682        473\n",
       "410        449\n",
       "250.02     447\n",
       "786        393\n",
       "Name: count, dtype: int64"
      ]
     },
     "execution_count": 150,
     "metadata": {},
     "output_type": "execute_result"
    }
   ],
   "source": [
    "#Finding the diagnoses corresponding to the highest number of readmits\n",
    "readmit_diags = data.loc[(data['readmitted']=='<30')][['diag_1','diag_2','diag_3']]\n",
    "readmit_diags.melt(value_name='diag')['diag'].value_counts().head(20)"
   ]
  },
  {
   "cell_type": "code",
   "execution_count": 151,
   "id": "cd0b37b2",
   "metadata": {},
   "outputs": [],
   "source": [
    "# Note that diag codes 250.xx are diabetic conditions, so we won't consider them\n",
    "# Only considering diagnoses with >500 instances of readmission\n",
    "data['readmit_diag_1'] = ((data['diag_1']=='428')|\n",
    "                          (data['diag_2']=='428')|\n",
    "                          (data['diag_3']=='428')).astype(int)\n",
    "\n",
    "data['readmit_diag_2'] = ((data['diag_1']=='276')|\n",
    "                          (data['diag_2']=='276')|\n",
    "                          (data['diag_3']=='276')).astype(int)\n",
    "\n",
    "data['readmit_diag_3'] = ((data['diag_1']=='427')|\n",
    "                          (data['diag_2']=='427')|\n",
    "                          (data['diag_3']=='427')).astype(int)\n",
    "\n",
    "data['readmit_diag_4'] = ((data['diag_1']=='414')|\n",
    "                          (data['diag_2']=='414')|\n",
    "                          (data['diag_3']=='414')).astype(int)\n",
    "\n",
    "data['readmit_diag_5'] = ((data['diag_1']=='401')|\n",
    "                          (data['diag_2']=='401')|\n",
    "                          (data['diag_3']=='401')).astype(int)\n",
    "\n",
    "data['readmit_diag_6'] = ((data['diag_1']=='403')|\n",
    "                          (data['diag_2']=='403')|\n",
    "                          (data['diag_3']=='403')).astype(int)\n",
    "\n",
    "data['readmit_diag_7'] = ((data['diag_1']=='599')|\n",
    "                          (data['diag_2']=='599')|\n",
    "                          (data['diag_3']=='599')).astype(int)\n",
    "\n",
    "data['readmit_diag_8'] = ((data['diag_1']=='496')|\n",
    "                          (data['diag_2']=='496')|\n",
    "                          (data['diag_3']=='496')).astype(int)\n",
    "\n",
    "data['readmit_diag_9'] = ((data['diag_1']=='585')|\n",
    "                          (data['diag_2']=='585')|\n",
    "                          (data['diag_3']=='585')).astype(int)\n",
    "\n",
    "data['readmit_diag_10'] = ((data['diag_1']=='491')|\n",
    "                           (data['diag_2']=='491')|\n",
    "                           (data['diag_3']=='491')).astype(int)\n",
    "\n",
    "data['readmit_diag_11'] = ((data['diag_1']=='486')|\n",
    "                           (data['diag_2']=='486')|\n",
    "                           (data['diag_3']=='486')).astype(int)\n",
    "\n",
    "data['readmit_diag_12'] = ((data['diag_1']=='707')|\n",
    "                           (data['diag_2']=='707')|\n",
    "                           (data['diag_3']=='707')).astype(int)\n",
    "\n",
    "data['readmit_diag_13'] = ((data['diag_1']=='584')|\n",
    "                           (data['diag_2']=='584')|\n",
    "                           (data['diag_3']=='584')).astype(int)"
   ]
  },
  {
   "cell_type": "code",
   "execution_count": 152,
   "id": "e36b105e",
   "metadata": {},
   "outputs": [
    {
     "name": "stdout",
     "output_type": "stream",
     "text": [
      "97108\n"
     ]
    },
    {
     "data": {
      "text/plain": [
       "68166"
      ]
     },
     "execution_count": 152,
     "metadata": {},
     "output_type": "execute_result"
    }
   ],
   "source": [
    "print(len(data))\n",
    "data['patient_nbr'].nunique()"
   ]
  },
  {
   "cell_type": "markdown",
   "id": "7511f125",
   "metadata": {},
   "source": [
    "An interesting observation about the data is that although there are $\\sim 10^5$ total data points, there are only about $\\sim 7 \\times 10^4$ distinct patients whose data we have. Therefore, we will be adding features corresponding to their medical histories specifically.\n",
    "This idea was inspired by [this project](https://github.com/lelandburrill/diabetes_readmission) (see references)."
   ]
  },
  {
   "cell_type": "code",
   "execution_count": 153,
   "id": "aa876a8f",
   "metadata": {},
   "outputs": [],
   "source": [
    "readmit_diags = ['readmit_diag_1',\n",
    "                 'readmit_diag_2',\n",
    "                 'readmit_diag_3',\n",
    "                 'readmit_diag_4',\n",
    "                 'readmit_diag_5',\n",
    "                 'readmit_diag_6',\n",
    "                 'readmit_diag_7',\n",
    "                 'readmit_diag_8',\n",
    "                 'readmit_diag_9',\n",
    "                 'readmit_diag_10',\n",
    "                 'readmit_diag_11',\n",
    "                 'readmit_diag_12',\n",
    "                 'readmit_diag_13']"
   ]
  },
  {
   "cell_type": "code",
   "execution_count": 154,
   "id": "28a6ee61",
   "metadata": {},
   "outputs": [],
   "source": [
    "#storing the number of hig-risk diagnoses for each patient\n",
    "data['risk_diag_ct'] = data[readmit_diags].sum(axis=1)\n",
    "data['pt_risk_diag_ct'] = data.groupby('patient_nbr')['risk_diag_ct'].transform('sum')\n",
    "\n",
    "data = data.drop(columns='risk_diag_ct')"
   ]
  },
  {
   "cell_type": "code",
   "execution_count": 155,
   "id": "b0776319",
   "metadata": {},
   "outputs": [],
   "source": [
    "#storing the total number of unique diagnoses for each patient\n",
    "diag_info = data.melt(id_vars='patient_nbr', var_name='diag', value_vars =['diag_1','diag_2','diag_3'], value_name='pt_diag_ct')\n",
    "data = data.merge(diag_info.groupby('patient_nbr')['pt_diag_ct'].nunique().reset_index(), on ='patient_nbr')\n",
    "\n",
    "del diag_info"
   ]
  },
  {
   "cell_type": "code",
   "execution_count": 156,
   "id": "2fafab47",
   "metadata": {},
   "outputs": [],
   "source": [
    "#coding alpha-numeric codes first\n",
    "data['d_external_index'] = ( (data['diag_1'].str[0] == 'E') |\n",
    "                             (data['diag_2'].str[0] == 'E') |\n",
    "                             (data['diag_3'].str[0] == 'E')).astype(int)\n",
    "\n",
    "data['d_supplementary_index'] = ((data['diag_1'].str[0] == 'V') |\n",
    "                                 (data['diag_2'].str[0] == 'V') |\n",
    "                                 (data['diag_3'].str[0] == 'V')).astype(int)\n",
    "\n",
    "#no diagnosis\n",
    "#data['d_nodiag_ind'] = ( (data['diag_1'] == 'No') |\n",
    "#                         (data['diag_2'] == 'No') |\n",
    "#                         (data['diag_3'] == 'No')).astype(int)"
   ]
  },
  {
   "cell_type": "code",
   "execution_count": 157,
   "id": "b06e73a3",
   "metadata": {},
   "outputs": [],
   "source": [
    "data['diag_1_n'] = data['diag_1'].apply(pd.to_numeric, errors='coerce')\n",
    "data['diag_2_n'] = data['diag_2'].apply(pd.to_numeric, errors='coerce')\n",
    "data['diag_3_n'] = data['diag_3'].apply(pd.to_numeric, errors='coerce')\n",
    "\n",
    "data['diag_1_n'].dropna()\n",
    "data['diag_2_n'].dropna()\n",
    "data['diag_3_n'].dropna()\n",
    "\n",
    "dropped_columns.extend(['diag_1','diag_2','diag_3'])"
   ]
  },
  {
   "cell_type": "code",
   "execution_count": 158,
   "id": "3500cf04",
   "metadata": {},
   "outputs": [],
   "source": [
    "#infectious and parasitic diseases\n",
    "data['d_infect_ind'] = ( ((data['diag_1_n'] >= 1) & (data['diag_1_n'] <= 139)) |\n",
    "                         ((data['diag_2_n'] >= 1) & (data['diag_2_n'] <= 139)) |\n",
    "                         ((data['diag_3_n'] >= 1) & (data['diag_3_n'] <= 139)) ).astype(int)\n",
    "\n",
    "#neoplasms\n",
    "data['d_neoplasm_ind'] = ( ((data['diag_1_n'] >= 140) & (data['diag_1_n'] <= 239)) |\n",
    "                           ((data['diag_2_n'] >= 140) & (data['diag_2_n'] <= 239)) |\n",
    "                           ((data['diag_3_n'] >= 140) & (data['diag_3_n'] <= 239)) ).astype(int)\n",
    "\n",
    "#endocrine, nutritional and metabolic diseases, and immunity disorders\n",
    "data['d_endocrine_ind'] = ( ((data['diag_1_n'] >= 240) & (data['diag_1_n'] <= 279)) |\n",
    "                            ((data['diag_2_n'] >= 240) & (data['diag_2_n'] <= 279)) |\n",
    "                            ((data['diag_3_n'] >= 240) & (data['diag_3_n'] <= 279)) ).astype(int)\n",
    "\n",
    "#diseases of the blood and blood-forming organs\n",
    "data['d_blood_ind'] = ( ((data['diag_1_n'] >= 280) & (data['diag_1_n'] <= 289)) |\n",
    "                        ((data['diag_2_n'] >= 280) & (data['diag_2_n'] <= 289)) |\n",
    "                        ((data['diag_3_n'] >= 280) & (data['diag_3_n'] <= 289)) ).astype(int)\n",
    "\n",
    "#mental disorders\n",
    "data['d_mental_ind'] = ( ((data['diag_1_n'] >= 290) & (data['diag_1_n'] <= 319)) |\n",
    "                         ((data['diag_2_n'] >= 290) & (data['diag_2_n'] <= 319)) |\n",
    "                         ((data['diag_3_n'] >= 290) & (data['diag_3_n'] <= 319)) ).astype(int)\n",
    "\n",
    "#diseases of the nervous system and sense organs\n",
    "data['d_nervous_ind'] = ( ((data['diag_1_n'] >= 320) & (data['diag_1_n'] <= 389)) |\n",
    "                          ((data['diag_2_n'] >= 320) & (data['diag_2_n'] <= 389)) |\n",
    "                          ((data['diag_3_n'] >= 320) & (data['diag_3_n'] <= 389)) ).astype(int)\n",
    "\n",
    "#diseases of the circulatory system\n",
    "data['d_circulatory_ind'] = ( ((data['diag_1_n'] >= 390) & (data['diag_1_n'] <= 459)) |\n",
    "                              ((data['diag_2_n'] >= 390) & (data['diag_2_n'] <= 459)) |\n",
    "                              ((data['diag_3_n'] >= 390) & (data['diag_3_n'] <= 459)) ).astype(int)\n",
    "\n",
    "#diseases of the respiratory system\n",
    "data['d_respiratory_ind'] = ( ((data['diag_1_n'] >= 460) & (data['diag_1_n'] <= 519)) |\n",
    "                              ((data['diag_2_n'] >= 460) & (data['diag_2_n'] <= 519)) |\n",
    "                              ((data['diag_3_n'] >= 460) & (data['diag_3_n'] <= 519)) ).astype(int)\n",
    "\n",
    "#diseases of the digestive system\n",
    "data['d_digestive_ind'] = ( ((data['diag_1_n'] >= 520) & (data['diag_1_n'] <= 579)) |\n",
    "                            ((data['diag_2_n'] >= 520) & (data['diag_2_n'] <= 579)) |\n",
    "                            ((data['diag_3_n'] >= 520) & (data['diag_3_n'] <= 579)) ).astype(int)\n",
    "\n",
    "#diseases of the genitourinary system\n",
    "data['d_genitourinary_ind'] = ( ((data['diag_1_n'] >= 580) & (data['diag_1_n'] <= 629)) |\n",
    "                                ((data['diag_2_n'] >= 580) & (data['diag_2_n'] <= 629)) |\n",
    "                                ((data['diag_3_n'] >= 580) & (data['diag_3_n'] <= 629)) ).astype(int)\n",
    "\n",
    "#complications of pregnancy, childbirth, and the puerperium\n",
    "data['d_pegnancy_ind'] = ( ((data['diag_1_n'] >= 630) & (data['diag_1_n'] <= 679)) |\n",
    "                           ((data['diag_2_n'] >= 630) & (data['diag_2_n'] <= 679)) |\n",
    "                           ((data['diag_3_n'] >= 630) & (data['diag_3_n'] <= 679)) ).astype(int)\n",
    "\n",
    "#diseases of the skin and subcutaneous tissue\n",
    "data['d_skin_ind'] = ( ((data['diag_1_n'] >= 680) & (data['diag_1_n'] <= 709)) |\n",
    "                       ((data['diag_2_n'] >= 680) & (data['diag_2_n'] <= 709)) |\n",
    "                       ((data['diag_3_n'] >= 680) & (data['diag_3_n'] <= 709)) ).astype(int)\n",
    "\n",
    "#diseases of the musculoskeletal system and connective tissue\n",
    "data['d_musculo_ind'] = ( ((data['diag_1_n'] >= 710) & (data['diag_1_n'] <= 739)) |\n",
    "                          ((data['diag_2_n'] >= 710) & (data['diag_2_n'] <= 739)) |\n",
    "                          ((data['diag_3_n'] >= 710) & (data['diag_3_n'] <= 739)) ).astype(int)\n",
    "\n",
    "#congenital anomalies\n",
    "data['d_congenital_ind'] = ( ((data['diag_1_n'] >= 740) & (data['diag_1_n'] <= 759)) |\n",
    "                             ((data['diag_2_n'] >= 740) & (data['diag_2_n'] <= 759)) |\n",
    "                             ((data['diag_3_n'] >= 740) & (data['diag_3_n'] <= 759)) ).astype(int)\n",
    "\n",
    "#certain conditions originating in the perinatal period\n",
    "data['d_perinatal_ind'] = ( ((data['diag_1_n'] >= 760) & (data['diag_1_n'] <= 779)) |\n",
    "                            ((data['diag_2_n'] >= 760) & (data['diag_2_n'] <= 779)) |\n",
    "                            ((data['diag_3_n'] >= 760) & (data['diag_3_n'] <= 779)) ).astype(int)\n",
    "\n",
    "#symptoms, signs, and ill-defined conditions\n",
    "data['d_symptoms_ind'] = ( ((data['diag_1_n'] >= 780) & (data['diag_1_n'] <= 799)) |\n",
    "                           ((data['diag_2_n'] >= 780) & (data['diag_2_n'] <= 799)) |\n",
    "                           ((data['diag_3_n'] >= 780) & (data['diag_3_n'] <= 799)) ).astype(int)\n",
    "\n",
    "#injury and poisoning\n",
    "data['d_injury_ind'] = ( ((data['diag_1_n'] >= 800) & (data['diag_1_n'] <= 999)) |\n",
    "                         ((data['diag_2_n'] >= 800) & (data['diag_2_n'] <= 999)) |\n",
    "                         ((data['diag_3_n'] >= 800) & (data['diag_3_n'] <= 999)) ).astype(int)\n",
    "\n",
    "\n",
    "dropped_columns.extend(['diag_1_n','diag_2_n','diag_3_n'])"
   ]
  },
  {
   "cell_type": "markdown",
   "id": "961ffd44",
   "metadata": {},
   "source": [
    "#### Encoding test results"
   ]
  },
  {
   "cell_type": "code",
   "execution_count": 159,
   "id": "feec58a7",
   "metadata": {},
   "outputs": [
    {
     "data": {
      "text/plain": [
       "A1Cresult\n",
       "No      80694\n",
       ">8       7884\n",
       "Norm     4837\n",
       ">7       3693\n",
       "Name: count, dtype: int64"
      ]
     },
     "execution_count": 159,
     "metadata": {},
     "output_type": "execute_result"
    }
   ],
   "source": [
    "data['A1Cresult'].value_counts()"
   ]
  },
  {
   "cell_type": "code",
   "execution_count": 160,
   "id": "86d6c006",
   "metadata": {},
   "outputs": [
    {
     "data": {
      "text/plain": [
       "max_glu_serum\n",
       "No      92010\n",
       "Norm     2520\n",
       ">200     1400\n",
       ">300     1178\n",
       "Name: count, dtype: int64"
      ]
     },
     "execution_count": 160,
     "metadata": {},
     "output_type": "execute_result"
    }
   ],
   "source": [
    "data['max_glu_serum'].value_counts()"
   ]
  },
  {
   "cell_type": "code",
   "execution_count": 161,
   "id": "02b7b394",
   "metadata": {},
   "outputs": [],
   "source": [
    "A1c_map = {\">8\" : 3,\n",
    "           \">7\" : 2,\n",
    "           \"Norm\" : 1,\n",
    "           \"No\" : 0}\n",
    "\n",
    "max_glu_serum_map = {\">300\" : 3,\n",
    "                     \">200\" : 2,\n",
    "                     \"Norm\" : 1,\n",
    "                     \"No\" : 0}"
   ]
  },
  {
   "cell_type": "code",
   "execution_count": 162,
   "id": "a08cfcac",
   "metadata": {},
   "outputs": [],
   "source": [
    "#mapping the test results to appropriate integers\n",
    "data['A1Cresult'] = data['A1Cresult'].map(A1c_map)\n",
    "data['max_glu_serum'] = data['max_glu_serum'].map(max_glu_serum_map)"
   ]
  },
  {
   "cell_type": "code",
   "execution_count": 163,
   "id": "9f703b87",
   "metadata": {},
   "outputs": [
    {
     "data": {
      "text/plain": [
       "(97108, 81)"
      ]
     },
     "execution_count": 163,
     "metadata": {},
     "output_type": "execute_result"
    }
   ],
   "source": [
    "data.shape"
   ]
  },
  {
   "cell_type": "markdown",
   "id": "6307fa05",
   "metadata": {},
   "source": [
    "#### Encoding drug features"
   ]
  },
  {
   "cell_type": "code",
   "execution_count": 164,
   "id": "8dd92ebf",
   "metadata": {},
   "outputs": [
    {
     "data": {
      "text/plain": [
       "['glimepiride',\n",
       " 'glipizide',\n",
       " 'glyburide',\n",
       " 'insulin',\n",
       " 'metformin',\n",
       " 'pioglitazone',\n",
       " 'rosiglitazone']"
      ]
     },
     "execution_count": 164,
     "metadata": {},
     "output_type": "execute_result"
    }
   ],
   "source": [
    "accepted_drug_cols"
   ]
  },
  {
   "cell_type": "code",
   "execution_count": 165,
   "id": "aee4b935",
   "metadata": {},
   "outputs": [],
   "source": [
    "drugs_map = {\n",
    "    'No': 0,\n",
    "    'Down': 1,\n",
    "    'Steady': 2,\n",
    "    'Up': 3\n",
    "}\n",
    "for d in accepted_drug_cols:\n",
    "    data[d] = data[d].map(drugs_map)"
   ]
  },
  {
   "cell_type": "markdown",
   "id": "ce187d07",
   "metadata": {},
   "source": [
    "#### Encoding diabetes med features"
   ]
  },
  {
   "cell_type": "code",
   "execution_count": 166,
   "id": "7a0ba247",
   "metadata": {},
   "outputs": [
    {
     "data": {
      "text/plain": [
       "change\n",
       "No    52071\n",
       "Ch    45037\n",
       "Name: count, dtype: int64"
      ]
     },
     "execution_count": 166,
     "metadata": {},
     "output_type": "execute_result"
    }
   ],
   "source": [
    "data['change'].value_counts()"
   ]
  },
  {
   "cell_type": "code",
   "execution_count": 167,
   "id": "bdace28c",
   "metadata": {},
   "outputs": [
    {
     "data": {
      "text/plain": [
       "diabetesMed\n",
       "Yes    74873\n",
       "No     22235\n",
       "Name: count, dtype: int64"
      ]
     },
     "execution_count": 167,
     "metadata": {},
     "output_type": "execute_result"
    }
   ],
   "source": [
    "data['diabetesMed'].value_counts()"
   ]
  },
  {
   "cell_type": "code",
   "execution_count": 168,
   "id": "deb5699d",
   "metadata": {},
   "outputs": [],
   "source": [
    "data['dia_med_change_ind'] = ( data['change'] == \"Ch\" ).astype(int)\n",
    "data['dia_med_nochange_ind'] = ( data['change'] == \"No\" ).astype(int)\n",
    "data['diabetesMed'] = ( data['diabetesMed'] == \"Yes\" ).astype(int)\n",
    "dropped_columns.extend(['change'])"
   ]
  },
  {
   "cell_type": "markdown",
   "id": "78c708bd",
   "metadata": {},
   "source": [
    "#### Unique patient histories"
   ]
  },
  {
   "cell_type": "code",
   "execution_count": 169,
   "id": "3de87987",
   "metadata": {},
   "outputs": [],
   "source": [
    "#Counting each admission type\n",
    "data['pt_admission_urg_ct'] = data.groupby('patient_nbr')['admission_urg_ind'].transform('sum')\n",
    "data['admission_nurg_ct'] = data.groupby('patient_nbr')['admission_nurg_ind'].transform('sum')\n",
    "data['admission_none_ct'] = data.groupby('patient_nbr')['admission_none_ind'].transform('sum')\n",
    "\n",
    "#Counting types of discharge\n",
    "data['pt_discharge_shortterm_ct'] = data.groupby('patient_nbr')['discharge_shortterm_ind'].transform('sum')\n",
    "data['pt_discharge_longterm_ct'] = data.groupby('patient_nbr')['discharge_longterm_ind'].transform('sum')\n",
    "data['pt_discharge_none_ct'] = data.groupby('patient_nbr')['discharge_none_ind'].transform('sum')\n",
    "\n",
    "#Counting different sources of admission\n",
    "data['pt_admission_source_1_ct'] = data.groupby('patient_nbr')['admission_source_1'].transform('sum')\n",
    "data['pt_admission_source_2_ct'] = data.groupby('patient_nbr')['admission_source_2'].transform('sum')\n",
    "data['pt_admission_source_3_ct'] = data.groupby('patient_nbr')['admission_source_3'].transform('sum')"
   ]
  },
  {
   "cell_type": "code",
   "execution_count": 170,
   "id": "fc14bcc8",
   "metadata": {},
   "outputs": [],
   "source": [
    "#storing the totals of all numerical features for each patient\n",
    "data['pt_time_tot'] = data.groupby('patient_nbr')['time_in_hospital'].transform('sum')\n",
    "data['pt_lab_procedure_tot'] = data.groupby('patient_nbr')['num_lab_procedures'].transform('sum')\n",
    "data['pt_procedure_tot'] = data.groupby('patient_nbr')['num_procedures'].transform('sum')\n",
    "data['pt_med_tot'] = data.groupby('patient_nbr')['num_medications'].transform('sum')\n",
    "data['pt_outp_tot'] = data.groupby('patient_nbr')['number_outpatient'].transform('sum')\n",
    "data['pt_inp_tot'] = data.groupby('patient_nbr')['number_inpatient'].transform('sum')\n",
    "data['pt_ER_tot'] = data.groupby('patient_nbr')['number_emergency'].transform('sum')\n",
    "data['pt_diag_tot'] = data.groupby('patient_nbr')['number_diagnoses'].transform('sum')"
   ]
  },
  {
   "cell_type": "code",
   "execution_count": 171,
   "id": "bfce3d52",
   "metadata": {},
   "outputs": [],
   "source": [
    "#counting past re-admissions\n",
    "data['readmit_lt30'] = (data['readmitted'].isin(['<30']).astype(int))\n",
    "data['readmit_gt30'] = (data['readmitted'].isin(['>30']).astype(int))\n",
    "data['readmit_none'] = (data['readmitted'].isin(['NO']).astype(int))\n",
    "\n",
    "data['past_readmits_lt30'] = data.groupby('patient_nbr')['readmit_lt30'].transform('sum')\n",
    "#data.loc[data['past_readmits_lt30'] > 0, 'past_readmits_lt30'] -= 1\n",
    "data['past_readmits_gt30'] = data.groupby('patient_nbr')['readmit_gt30'].transform('sum')\n",
    "#data.loc[data['past_readmits_gt30'] > 0, 'past_readmits_gt30'] -= 1\n",
    "data['past_readmits_none'] = data.groupby('patient_nbr')['readmit_none'].transform('sum')\n",
    "#data.loc[data['past_readmits_none'] > 0, 'past_readmits_none'] -= 1\n",
    "\n",
    "dropped_columns.extend(['readmit_lt30', 'readmit_gt30', 'readmit_none'])\n",
    "#data['past_readmits_lt30'].head(50)"
   ]
  },
  {
   "cell_type": "code",
   "execution_count": 172,
   "id": "03e43800",
   "metadata": {},
   "outputs": [
    {
     "data": {
      "text/plain": [
       "['patient_nbr',\n",
       " 'encounter_id',\n",
       " 'gender',\n",
       " 'diag_1',\n",
       " 'diag_2',\n",
       " 'diag_3',\n",
       " 'diag_1_n',\n",
       " 'diag_2_n',\n",
       " 'diag_3_n',\n",
       " 'change',\n",
       " 'readmit_lt30',\n",
       " 'readmit_gt30',\n",
       " 'readmit_none']"
      ]
     },
     "execution_count": 172,
     "metadata": {},
     "output_type": "execute_result"
    }
   ],
   "source": [
    "dropped_columns"
   ]
  },
  {
   "cell_type": "code",
   "execution_count": 173,
   "id": "964a1a80",
   "metadata": {},
   "outputs": [],
   "source": [
    "data = data.drop(columns=dropped_columns)\n",
    "data.to_csv(\"./data/data_processed.csv\" , index=False)"
   ]
  },
  {
   "cell_type": "code",
   "execution_count": null,
   "id": "35083a40",
   "metadata": {},
   "outputs": [],
   "source": []
  }
 ],
 "metadata": {
  "kernelspec": {
   "display_name": "erdos_summer_2025",
   "language": "python",
   "name": "python3"
  },
  "language_info": {
   "codemirror_mode": {
    "name": "ipython",
    "version": 3
   },
   "file_extension": ".py",
   "mimetype": "text/x-python",
   "name": "python",
   "nbconvert_exporter": "python",
   "pygments_lexer": "ipython3",
   "version": "3.12.10"
  }
 },
 "nbformat": 4,
 "nbformat_minor": 5
}
