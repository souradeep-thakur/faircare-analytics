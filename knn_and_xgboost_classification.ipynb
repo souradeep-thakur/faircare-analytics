{
 "cells": [
  {
   "cell_type": "code",
   "execution_count": 1,
   "id": "85099ca8",
   "metadata": {},
   "outputs": [],
   "source": [
    "import pandas as pd\n",
    "import numpy as np\n",
    "import matplotlib.pyplot as plt"
   ]
  },
  {
   "cell_type": "code",
   "execution_count": 2,
   "id": "42388e22",
   "metadata": {},
   "outputs": [
    {
     "data": {
      "text/html": [
       "<div>\n",
       "<style scoped>\n",
       "    .dataframe tbody tr th:only-of-type {\n",
       "        vertical-align: middle;\n",
       "    }\n",
       "\n",
       "    .dataframe tbody tr th {\n",
       "        vertical-align: top;\n",
       "    }\n",
       "\n",
       "    .dataframe thead th {\n",
       "        text-align: right;\n",
       "    }\n",
       "</style>\n",
       "<table border=\"1\" class=\"dataframe\">\n",
       "  <thead>\n",
       "    <tr style=\"text-align: right;\">\n",
       "      <th></th>\n",
       "      <th>age</th>\n",
       "      <th>admission_type_id</th>\n",
       "      <th>discharge_disposition_id</th>\n",
       "      <th>admission_source_id</th>\n",
       "      <th>time_in_hospital</th>\n",
       "      <th>num_lab_procedures</th>\n",
       "      <th>num_procedures</th>\n",
       "      <th>num_medications</th>\n",
       "      <th>number_outpatient</th>\n",
       "      <th>number_emergency</th>\n",
       "      <th>...</th>\n",
       "      <th>d_genitourinary_ind</th>\n",
       "      <th>d_pegnancy_ind</th>\n",
       "      <th>d_skin_ind</th>\n",
       "      <th>d_musculo_ind</th>\n",
       "      <th>d_congenital_ind</th>\n",
       "      <th>d_perinatal_ind</th>\n",
       "      <th>d_symptoms_ind</th>\n",
       "      <th>d_injury_ind</th>\n",
       "      <th>dia_med_change_ind</th>\n",
       "      <th>dia_med_nochange_ind</th>\n",
       "    </tr>\n",
       "  </thead>\n",
       "  <tbody>\n",
       "    <tr>\n",
       "      <th>0</th>\n",
       "      <td>0</td>\n",
       "      <td>6</td>\n",
       "      <td>25</td>\n",
       "      <td>1</td>\n",
       "      <td>1</td>\n",
       "      <td>41</td>\n",
       "      <td>0</td>\n",
       "      <td>1</td>\n",
       "      <td>0</td>\n",
       "      <td>0</td>\n",
       "      <td>...</td>\n",
       "      <td>0</td>\n",
       "      <td>0</td>\n",
       "      <td>0</td>\n",
       "      <td>0</td>\n",
       "      <td>0</td>\n",
       "      <td>0</td>\n",
       "      <td>0</td>\n",
       "      <td>0</td>\n",
       "      <td>0</td>\n",
       "      <td>1</td>\n",
       "    </tr>\n",
       "    <tr>\n",
       "      <th>1</th>\n",
       "      <td>1</td>\n",
       "      <td>1</td>\n",
       "      <td>1</td>\n",
       "      <td>7</td>\n",
       "      <td>3</td>\n",
       "      <td>59</td>\n",
       "      <td>0</td>\n",
       "      <td>18</td>\n",
       "      <td>0</td>\n",
       "      <td>0</td>\n",
       "      <td>...</td>\n",
       "      <td>0</td>\n",
       "      <td>0</td>\n",
       "      <td>0</td>\n",
       "      <td>0</td>\n",
       "      <td>0</td>\n",
       "      <td>0</td>\n",
       "      <td>0</td>\n",
       "      <td>0</td>\n",
       "      <td>1</td>\n",
       "      <td>0</td>\n",
       "    </tr>\n",
       "    <tr>\n",
       "      <th>2</th>\n",
       "      <td>2</td>\n",
       "      <td>1</td>\n",
       "      <td>1</td>\n",
       "      <td>7</td>\n",
       "      <td>2</td>\n",
       "      <td>11</td>\n",
       "      <td>5</td>\n",
       "      <td>13</td>\n",
       "      <td>2</td>\n",
       "      <td>0</td>\n",
       "      <td>...</td>\n",
       "      <td>0</td>\n",
       "      <td>1</td>\n",
       "      <td>0</td>\n",
       "      <td>0</td>\n",
       "      <td>0</td>\n",
       "      <td>0</td>\n",
       "      <td>0</td>\n",
       "      <td>0</td>\n",
       "      <td>0</td>\n",
       "      <td>1</td>\n",
       "    </tr>\n",
       "    <tr>\n",
       "      <th>3</th>\n",
       "      <td>3</td>\n",
       "      <td>1</td>\n",
       "      <td>1</td>\n",
       "      <td>7</td>\n",
       "      <td>2</td>\n",
       "      <td>44</td>\n",
       "      <td>1</td>\n",
       "      <td>16</td>\n",
       "      <td>0</td>\n",
       "      <td>0</td>\n",
       "      <td>...</td>\n",
       "      <td>0</td>\n",
       "      <td>0</td>\n",
       "      <td>0</td>\n",
       "      <td>0</td>\n",
       "      <td>0</td>\n",
       "      <td>0</td>\n",
       "      <td>0</td>\n",
       "      <td>0</td>\n",
       "      <td>1</td>\n",
       "      <td>0</td>\n",
       "    </tr>\n",
       "    <tr>\n",
       "      <th>4</th>\n",
       "      <td>4</td>\n",
       "      <td>1</td>\n",
       "      <td>1</td>\n",
       "      <td>7</td>\n",
       "      <td>1</td>\n",
       "      <td>51</td>\n",
       "      <td>0</td>\n",
       "      <td>8</td>\n",
       "      <td>0</td>\n",
       "      <td>0</td>\n",
       "      <td>...</td>\n",
       "      <td>0</td>\n",
       "      <td>0</td>\n",
       "      <td>0</td>\n",
       "      <td>0</td>\n",
       "      <td>0</td>\n",
       "      <td>0</td>\n",
       "      <td>0</td>\n",
       "      <td>0</td>\n",
       "      <td>1</td>\n",
       "      <td>0</td>\n",
       "    </tr>\n",
       "  </tbody>\n",
       "</table>\n",
       "<p>5 rows × 51 columns</p>\n",
       "</div>"
      ],
      "text/plain": [
       "   age  admission_type_id  discharge_disposition_id  admission_source_id  \\\n",
       "0    0                  6                        25                    1   \n",
       "1    1                  1                         1                    7   \n",
       "2    2                  1                         1                    7   \n",
       "3    3                  1                         1                    7   \n",
       "4    4                  1                         1                    7   \n",
       "\n",
       "   time_in_hospital  num_lab_procedures  num_procedures  num_medications  \\\n",
       "0                 1                  41               0                1   \n",
       "1                 3                  59               0               18   \n",
       "2                 2                  11               5               13   \n",
       "3                 2                  44               1               16   \n",
       "4                 1                  51               0                8   \n",
       "\n",
       "   number_outpatient  number_emergency  ...  d_genitourinary_ind  \\\n",
       "0                  0                 0  ...                    0   \n",
       "1                  0                 0  ...                    0   \n",
       "2                  2                 0  ...                    0   \n",
       "3                  0                 0  ...                    0   \n",
       "4                  0                 0  ...                    0   \n",
       "\n",
       "   d_pegnancy_ind  d_skin_ind  d_musculo_ind  d_congenital_ind  \\\n",
       "0               0           0              0                 0   \n",
       "1               0           0              0                 0   \n",
       "2               1           0              0                 0   \n",
       "3               0           0              0                 0   \n",
       "4               0           0              0                 0   \n",
       "\n",
       "   d_perinatal_ind  d_symptoms_ind  d_injury_ind  dia_med_change_ind  \\\n",
       "0                0               0             0                   0   \n",
       "1                0               0             0                   1   \n",
       "2                0               0             0                   0   \n",
       "3                0               0             0                   1   \n",
       "4                0               0             0                   1   \n",
       "\n",
       "   dia_med_nochange_ind  \n",
       "0                     1  \n",
       "1                     0  \n",
       "2                     1  \n",
       "3                     0  \n",
       "4                     0  \n",
       "\n",
       "[5 rows x 51 columns]"
      ]
     },
     "execution_count": 2,
     "metadata": {},
     "output_type": "execute_result"
    }
   ],
   "source": [
    "# Read in processed data\n",
    "df = pd.read_csv(r'C:\\Users\\Ricky\\Desktop\\data-science-summer-2025\\Faircare_Project\\data_processed.csv')\n",
    "df.head()"
   ]
  },
  {
   "cell_type": "code",
   "execution_count": 3,
   "id": "20ec76cc",
   "metadata": {},
   "outputs": [
    {
     "name": "stdout",
     "output_type": "stream",
     "text": [
      "0         NO\n",
      "1        >30\n",
      "2         NO\n",
      "3         NO\n",
      "4         NO\n",
      "        ... \n",
      "97103    >30\n",
      "97104     NO\n",
      "97105     NO\n",
      "97106     NO\n",
      "97107     NO\n",
      "Name: readmitted, Length: 97108, dtype: object\n",
      "readmitted is column number  22\n"
     ]
    }
   ],
   "source": [
    "# Check the target column\n",
    "print(df['readmitted'])\n",
    "print('readmitted is column number ', df.columns.get_loc('readmitted'))"
   ]
  },
  {
   "cell_type": "markdown",
   "id": "2bad5258",
   "metadata": {},
   "source": [
    "Our initial goal was to predict for 30 day hospital readmissions, so we combine the values 'NO' and '>30' in the column 'readmitted' and relabel the value with the integer 0.\n",
    "This is because there is no readmission for the patient in less than 30 days.\n",
    "\n",
    "The value '<30' has been relabeled with the integer 1."
   ]
  },
  {
   "cell_type": "code",
   "execution_count": 4,
   "id": "7cd8ec13",
   "metadata": {},
   "outputs": [
    {
     "name": "stdout",
     "output_type": "stream",
     "text": [
      "int64\n"
     ]
    }
   ],
   "source": [
    "df.loc[df['readmitted'] == 'NO', 'readmitted'] = int(0)\n",
    "df.loc[df['readmitted'] == '>30', 'readmitted'] = int(0)\n",
    "df.loc[df['readmitted'] == '<30', 'readmitted'] = int(1)\n",
    "\n",
    "# Make sure column values are integers, necessary for classification algorithms later\n",
    "df['readmitted'] = df['readmitted'].astype('int')\n",
    "print(df['readmitted'].dtype)"
   ]
  },
  {
   "cell_type": "code",
   "execution_count": 5,
   "id": "444e5f47",
   "metadata": {},
   "outputs": [
    {
     "data": {
      "text/plain": [
       "Index(['age', 'admission_type_id', 'discharge_disposition_id',\n",
       "       'admission_source_id', 'time_in_hospital', 'num_lab_procedures',\n",
       "       'num_procedures', 'num_medications', 'number_outpatient',\n",
       "       'number_emergency', 'number_inpatient', 'number_diagnoses',\n",
       "       'max_glu_serum', 'A1Cresult', 'metformin', 'glimepiride', 'glipizide',\n",
       "       'glyburide', 'pioglitazone', 'rosiglitazone', 'insulin', 'diabetesMed',\n",
       "       'readmitted', 'caucasian_ind', 'africanamerican_ind', 'hispanic_ind',\n",
       "       'asian_ind', 'otherrace_ind', 'female_ind', 'male_ind',\n",
       "       'd_external_index', 'd_supplementary_index', 'd_infect_ind',\n",
       "       'd_neoplasm_ind', 'd_endocrine_ind', 'd_blood_ind', 'd_mental_ind',\n",
       "       'd_nervous_ind', 'd_circulatory_ind', 'd_respiratory_ind',\n",
       "       'd_digestive_ind', 'd_genitourinary_ind', 'd_pegnancy_ind',\n",
       "       'd_skin_ind', 'd_musculo_ind', 'd_congenital_ind', 'd_perinatal_ind',\n",
       "       'd_symptoms_ind', 'd_injury_ind', 'dia_med_change_ind',\n",
       "       'dia_med_nochange_ind'],\n",
       "      dtype='object')"
      ]
     },
     "execution_count": 5,
     "metadata": {},
     "output_type": "execute_result"
    }
   ],
   "source": [
    "# List all columns in dataset\n",
    "df.columns "
   ]
  },
  {
   "cell_type": "code",
   "execution_count": 6,
   "id": "9a650959",
   "metadata": {},
   "outputs": [],
   "source": [
    "# Single out which columns will be usede to predict readmit rate\n",
    "features = ['age', 'admission_type_id', 'discharge_disposition_id',\n",
    "       'admission_source_id', 'time_in_hospital', 'num_lab_procedures',\n",
    "       'num_procedures', 'num_medications', 'number_outpatient',\n",
    "       'number_emergency', 'number_inpatient', 'number_diagnoses',\n",
    "       'max_glu_serum', 'A1Cresult', 'metformin', 'glimepiride', 'glipizide',\n",
    "       'glyburide', 'pioglitazone', 'rosiglitazone', 'insulin', 'diabetesMed', \n",
    "       'caucasian_ind', 'africanamerican_ind', 'hispanic_ind',\n",
    "       'asian_ind', 'otherrace_ind', 'female_ind', 'male_ind',\n",
    "       'd_external_index', 'd_supplementary_index', 'd_infect_ind',\n",
    "       'd_neoplasm_ind', 'd_endocrine_ind', 'd_blood_ind', 'd_mental_ind',\n",
    "       'd_nervous_ind', 'd_circulatory_ind', 'd_respiratory_ind',\n",
    "       'd_digestive_ind', 'd_genitourinary_ind', 'd_pegnancy_ind',\n",
    "       'd_skin_ind', 'd_musculo_ind', 'd_congenital_ind', 'd_perinatal_ind',\n",
    "       'd_symptoms_ind', 'd_injury_ind', 'dia_med_change_ind',\n",
    "       'dia_med_nochange_ind']\n"
   ]
  },
  {
   "cell_type": "code",
   "execution_count": 7,
   "id": "cf11dce0",
   "metadata": {},
   "outputs": [],
   "source": [
    "from sklearn.model_selection import train_test_split\n",
    "\n",
    "train, test = train_test_split(df, test_size=.2, random_state=42)"
   ]
  },
  {
   "cell_type": "markdown",
   "id": "5f259a51",
   "metadata": {},
   "source": [
    "We first use knn classification. On the training data, we perform a 5-fold split, and compute the accuracy and confusion matrices for the model at each split.\n",
    "\n",
    "For knn, we begin with the hyperparameter 15."
   ]
  },
  {
   "cell_type": "code",
   "execution_count": 8,
   "id": "153bd47d",
   "metadata": {},
   "outputs": [
    {
     "name": "stdout",
     "output_type": "stream",
     "text": [
      "The accuracy of split  0  is  0.8852490668039644  confusion is  [[13732  1769]\n",
      " [   14    23]]\n",
      "The accuracy of split  1  is  0.8871725558344596  confusion is  [[13768  1741]\n",
      " [   12    16]]\n",
      "The accuracy of split  2  is  0.8844049687841926  confusion is  [[13723  1774]\n",
      " [   22    18]]\n",
      "The accuracy of split  3  is  0.8836969813992406  confusion is  [[13712  1787]\n",
      " [   20    18]]\n"
     ]
    }
   ],
   "source": [
    "from sklearn.model_selection import KFold\n",
    "\n",
    "from sklearn.metrics import accuracy_score\n",
    "from sklearn.metrics import confusion_matrix\n",
    "\n",
    "from sklearn.neighbors import KNeighborsClassifier\n",
    "from sklearn.preprocessing import StandardScaler\n",
    "from sklearn.pipeline import Pipeline\n",
    "\n",
    "n_splits = 5\n",
    "current_split = 0\n",
    "metrics={n:[] for n in range(0,n_splits)}\n",
    "\n",
    "pipe = Pipeline([('scale', StandardScaler()), ('knn', KNeighborsClassifier(15))])\n",
    "\n",
    "kfold = KFold(n_splits, shuffle = True)\n",
    "\n",
    "for s_train, s_test in kfold.split(train):\n",
    "\n",
    "    train_features = train.iloc[s_train][features]\n",
    "    test_features = train.iloc[s_test][features]\n",
    "\n",
    "    train_target = train.iloc[s_train]['readmitted']\n",
    "    test_target = train.iloc[s_test]['readmitted']\n",
    "\n",
    "    pipe.fit(train_features,train_target)\n",
    "    metrics[current_split].append(accuracy_score(pipe.predict(test_features), test_target))\n",
    "    metrics[current_split].append(confusion_matrix(pipe.predict(test_features), test_target))\n",
    "\n",
    "    current_split += 1\n",
    "\n",
    "for k in range(0,4):\n",
    "    print('The accuracy of split ', k, ' is ', metrics[k][0], ' confusion is ', metrics[k][1])\n"
   ]
  },
  {
   "cell_type": "markdown",
   "id": "415c5057",
   "metadata": {},
   "source": [
    "Now we cross-validate to see if we can choose a better hyperparameter for imporving accuracy. For the kfold, we still do 5 splits.\n",
    "\n",
    "From the results, it seems unlikey accuracy can be imporved beyond about 88% just by varying the hyperparametter."
   ]
  },
  {
   "cell_type": "code",
   "execution_count": 9,
   "id": "b218af8a",
   "metadata": {},
   "outputs": [
    {
     "name": "stdout",
     "output_type": "stream",
     "text": [
      "When the knn parameter k is  1 , the average accuracy among the splits is  0.8850372380785719\n",
      "When the knn parameter k is  2 , the average accuracy among the splits is  0.8850371751161674\n",
      "When the knn parameter k is  3 , the average accuracy among the splits is  0.8851530607354491\n",
      "When the knn parameter k is  4 , the average accuracy among the splits is  0.885153069019976\n",
      "When the knn parameter k is  5 , the average accuracy among the splits is  0.8850243017898066\n",
      "When the knn parameter k is  6 , the average accuracy among the splits is  0.8851401782961086\n",
      "When the knn parameter k is  7 , the average accuracy among the splits is  0.8850500906936156\n",
      "When the knn parameter k is  8 , the average accuracy among the splits is  0.8852174232249903\n",
      "When the knn parameter k is  9 , the average accuracy among the splits is  0.8850372223379708\n",
      "When the knn parameter k is  10 , the average accuracy among the splits is  0.8852174008567676\n",
      "When the knn parameter k is  11 , the average accuracy among the splits is  0.885037192513674\n",
      "When the knn parameter k is  12 , the average accuracy among the splits is  0.8850114856266813\n",
      "When the knn parameter k is  13 , the average accuracy among the splits is  0.8851015666015527\n",
      "When the knn parameter k is  14 , the average accuracy among the splits is  0.8851787899906645\n",
      "When the knn parameter k is  15 , the average accuracy among the splits is  0.88520455321244\n",
      "When the knn parameter k is  16 , the average accuracy among the splits is  0.8851788115304344\n",
      "When the knn parameter k is  17 , the average accuracy among the splits is  0.8850500956643318\n",
      "When the knn parameter k is  18 , the average accuracy among the splits is  0.8851144448986299\n",
      "When the knn parameter k is  19 , the average accuracy among the splits is  0.8849342216433879\n",
      "When the knn parameter k is  20 , the average accuracy among the splits is  0.884947091655938\n"
     ]
    }
   ],
   "source": [
    "n_splits = 5\n",
    "kfold = KFold(n_splits, shuffle = True)\n",
    "\n",
    "ave_accuracies = {k:[] for k in range(1,21)}\n",
    "\n",
    "for k in range(1,21):\n",
    "\n",
    "    pipe = Pipeline([('scale', StandardScaler()), ('knn', KNeighborsClassifier(15))])\n",
    "    accuracy = [] #Holds accuracy of model at each split, to be averaged later\n",
    "\n",
    "    for s_train, s_test in kfold.split(train):\n",
    "\n",
    "        train_features = train.iloc[s_train][features]\n",
    "        test_features = train.iloc[s_test][features]\n",
    "\n",
    "        train_target = train.iloc[s_train]['readmitted']\n",
    "        test_target = train.iloc[s_test]['readmitted']\n",
    "\n",
    "        pipe.fit(train_features, train_target)\n",
    "        accuracy.append(accuracy_score(pipe.predict(test_features), test_target))\n",
    "\n",
    "    ave_accuracies[k].append(sum(accuracy)/len(accuracy))\n",
    "   \n",
    "\n",
    "for k in ave_accuracies:\n",
    "    print('When the knn parameter k is ', k, ', the average accuracy among the splits is ', ave_accuracies[k][0])\n"
   ]
  },
  {
   "cell_type": "code",
   "execution_count": null,
   "id": "1c513be7",
   "metadata": {},
   "outputs": [
    {
     "data": {
      "image/png": "[encoded data removed]",
      "text/plain": [
       "<Figure size 640x480 with 1 Axes>"
      ]
     },
     "metadata": {},
     "output_type": "display_data"
    }
   ],
   "source": [
    "k_values = [n for n in range(1,21)]\n",
    "acc = [ave_accuracies[n][0] for n in range(1,21)]\n",
    "plt.scatter(k_values, acc)\n",
    "plt.xlabel('k-value of knn classification')\n",
    "plt.ylabel('Average accuracy amoung 5 kfold splits')\n",
    "plt.show()\n",
    "#I left this in for now, but with so little change in accuracy among different hyperparameter choices, this should probably be taken out."
   ]
  },
  {
   "cell_type": "markdown",
   "id": "a994bc9e",
   "metadata": {},
   "source": [
    "Now we use xgboost to classify the readmits. We still use 5 splits in kfold.\n",
    "\n",
    "We measure performance by computing accuracy and confusion matrix. By these metrics, xgboost is very simmilar to knn."
   ]
  },
  {
   "cell_type": "code",
   "execution_count": null,
   "id": "31681a9d",
   "metadata": {},
   "outputs": [
    {
     "name": "stdout",
     "output_type": "stream",
     "text": [
      "The accuracy of split  0  is  0.8849272750675763  confusion is  [[13707  1712]\n",
      " [   76    43]]\n",
      "The accuracy of split  1  is  0.8849198687005213  confusion is  [[13694  1729]\n",
      " [   59    55]]\n",
      "The accuracy of split  2  is  0.8789341571731994  confusion is  [[13604  1805]\n",
      " [   76    52]]\n",
      "The accuracy of split  3  is  0.8864645684495076  confusion is  [[13729  1696]\n",
      " [   68    44]]\n"
     ]
    }
   ],
   "source": [
    "import xgboost as xgb\n",
    "\n",
    "xgb_class = xgb.XGBClassifier()\n",
    "\n",
    "n_splits = 5\n",
    "current_split = 0\n",
    "boost_metrics={n:[] for n in range(0,n_splits)}\n",
    "\n",
    "for s_train, s_test in kfold.split(train):\n",
    "\n",
    "    train_features = train.iloc[s_train][features]\n",
    "    test_features = train.iloc[s_test][features]\n",
    "\n",
    "    train_target = train.iloc[s_train]['readmitted']\n",
    "    test_target = train.iloc[s_test]['readmitted']\n",
    "\n",
    "    xgb_class.fit(train_features, train_target)\n",
    "    boost_metrics[current_split].append(accuracy_score(xgb_class.predict(test_features), test_target))\n",
    "    boost_metrics[current_split].append(confusion_matrix(xgb_class.predict(test_features), test_target))\n",
    "    current_split += 1\n",
    "\n",
    "for k in range(0,4):\n",
    "    print('The accuracy of split ', k, ' is ', boost_metrics[k][0], ' confusion is ', boost_metrics[k][1])\n"
   ]
  }
 ],
 "metadata": {
  "kernelspec": {
   "display_name": "erdos_summer_2025",
   "language": "python",
   "name": "python3"
  },
  "language_info": {
   "codemirror_mode": {
    "name": "ipython",
    "version": 3
   },
   "file_extension": ".py",
   "mimetype": "text/x-python",
   "name": "python",
   "nbconvert_exporter": "python",
   "pygments_lexer": "ipython3",
   "version": "3.12.10"
  }
 },
 "nbformat": 4,
 "nbformat_minor": 5
}
